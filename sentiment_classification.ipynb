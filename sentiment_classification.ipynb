{
  "cells": [
    {
      "cell_type": "markdown",
      "metadata": {
        "id": "view-in-github",
        "colab_type": "text"
      },
      "source": [
        "<a href=\"https://colab.research.google.com/github/jameswrbrookes/cc-nlp-tutorials/blob/main/sentiment_classification.ipynb\" target=\"_parent\"><img src=\"https://colab.research.google.com/assets/colab-badge.svg\" alt=\"Open In Colab\"/></a>"
      ]
    },
    {
      "cell_type": "markdown",
      "metadata": {
        "id": "0ZK_FatNws4U"
      },
      "source": [
        "# Google Drive Setup"
      ]
    },
    {
      "cell_type": "code",
      "execution_count": null,
      "metadata": {
        "colab": {
          "base_uri": "https://localhost:8080/"
        },
        "id": "AKJEJnKrwaIC",
        "outputId": "5d60a507-196e-426a-b0b1-e40a5c37a971"
      },
      "outputs": [
        {
          "output_type": "stream",
          "name": "stdout",
          "text": [
            "Drive already mounted at /content/drive; to attempt to forcibly remount, call drive.mount(\"/content/drive\", force_remount=True).\n"
          ]
        }
      ],
      "source": [
        "from google.colab import drive\n",
        "drive.mount('/content/drive')"
      ]
    },
    {
      "cell_type": "markdown",
      "metadata": {
        "id": "O5k6JI_CwXym"
      },
      "source": [
        "# Packages\n",
        "\n",
        "We will use the following packages in this notebook:"
      ]
    },
    {
      "cell_type": "code",
      "execution_count": null,
      "metadata": {
        "id": "663V-wutw5No"
      },
      "outputs": [],
      "source": [
        "import numpy as np\n",
        "import pandas as pd\n",
        "import sklearn\n",
        "import matplotlib.pyplot as plt\n",
        "import re\n",
        "import random\n",
        "import string\n",
        "import tensorflow as tf"
      ]
    },
    {
      "cell_type": "markdown",
      "metadata": {
        "id": "255lRZuOw__r"
      },
      "source": [
        "# Goal\n",
        "\n",
        "The goal is to build a performant sentiment analysis system, which classifies movie reviews as `positive` or `negative`.  \n",
        "\n",
        "To do that, we will need at the very minimum some training data, some featurization of the data, a model, and an evaluation metric.  "
      ]
    },
    {
      "cell_type": "markdown",
      "metadata": {
        "id": "FrdPQtLZxPoB"
      },
      "source": [
        "# Data and Data Exploration\n",
        "\n",
        "We will use a sample of [Maas et al. (2011)](https://ai.stanford.edu/~ang/papers/acl11-WordVectorsSentimentAnalysis.pdf) IMDB dataset.  Their original dataset contains 25,000 labeled training observations, 25,000 labeled test observations, and 50,000 unlabeled observations.  We use a sample of 10,000 labeled training observations, which have themselves been split 60/20/20 into train/dev/test sets. Duplicates have been removed, but the text has otherwise not been preprocessed."
      ]
    },
    {
      "cell_type": "code",
      "execution_count": null,
      "metadata": {
        "id": "XZaSo4Ac8XBh"
      },
      "outputs": [],
      "source": [
        "imdb = pd.read_parquet('/content/drive/MyDrive/imdb-data/imdb-sample.parquet')"
      ]
    },
    {
      "cell_type": "code",
      "execution_count": null,
      "metadata": {
        "colab": {
          "base_uri": "https://localhost:8080/",
          "height": 424
        },
        "id": "cbYJLf2N8bMH",
        "outputId": "aac7cdef-22aa-400f-e806-1885ca68d365"
      },
      "outputs": [
        {
          "output_type": "execute_result",
          "data": {
            "text/plain": [
              "                                                   text label  split\n",
              "0     While the idea is more original than most Sci-...   neg  train\n",
              "1     I had a lot of expectations from this movie an...   neg  train\n",
              "2     I had heard some bad things about Cabin Fever ...   neg  train\n",
              "3     Ohhh man! Now this is what I'm talking about! ...   neg  train\n",
              "4     You got to go and dig those holes. Holes only ...   pos  train\n",
              "...                                                 ...   ...    ...\n",
              "9995  I really felt cheated after seeing this pictur...   neg   test\n",
              "9996  Now look, I won't lie to you, but I only got t...   neg   test\n",
              "9997  The Color Purple is about the struggles of lif...   pos   test\n",
              "9998  Have you heard the story about the reluctant h...   pos   test\n",
              "9999  I think this movie got a low rating because it...   pos   test\n",
              "\n",
              "[10000 rows x 3 columns]"
            ],
            "text/html": [
              "\n",
              "  <div id=\"df-039a5451-0ff7-454a-80c4-912b517377d9\" class=\"colab-df-container\">\n",
              "    <div>\n",
              "<style scoped>\n",
              "    .dataframe tbody tr th:only-of-type {\n",
              "        vertical-align: middle;\n",
              "    }\n",
              "\n",
              "    .dataframe tbody tr th {\n",
              "        vertical-align: top;\n",
              "    }\n",
              "\n",
              "    .dataframe thead th {\n",
              "        text-align: right;\n",
              "    }\n",
              "</style>\n",
              "<table border=\"1\" class=\"dataframe\">\n",
              "  <thead>\n",
              "    <tr style=\"text-align: right;\">\n",
              "      <th></th>\n",
              "      <th>text</th>\n",
              "      <th>label</th>\n",
              "      <th>split</th>\n",
              "    </tr>\n",
              "  </thead>\n",
              "  <tbody>\n",
              "    <tr>\n",
              "      <th>0</th>\n",
              "      <td>While the idea is more original than most Sci-...</td>\n",
              "      <td>neg</td>\n",
              "      <td>train</td>\n",
              "    </tr>\n",
              "    <tr>\n",
              "      <th>1</th>\n",
              "      <td>I had a lot of expectations from this movie an...</td>\n",
              "      <td>neg</td>\n",
              "      <td>train</td>\n",
              "    </tr>\n",
              "    <tr>\n",
              "      <th>2</th>\n",
              "      <td>I had heard some bad things about Cabin Fever ...</td>\n",
              "      <td>neg</td>\n",
              "      <td>train</td>\n",
              "    </tr>\n",
              "    <tr>\n",
              "      <th>3</th>\n",
              "      <td>Ohhh man! Now this is what I'm talking about! ...</td>\n",
              "      <td>neg</td>\n",
              "      <td>train</td>\n",
              "    </tr>\n",
              "    <tr>\n",
              "      <th>4</th>\n",
              "      <td>You got to go and dig those holes. Holes only ...</td>\n",
              "      <td>pos</td>\n",
              "      <td>train</td>\n",
              "    </tr>\n",
              "    <tr>\n",
              "      <th>...</th>\n",
              "      <td>...</td>\n",
              "      <td>...</td>\n",
              "      <td>...</td>\n",
              "    </tr>\n",
              "    <tr>\n",
              "      <th>9995</th>\n",
              "      <td>I really felt cheated after seeing this pictur...</td>\n",
              "      <td>neg</td>\n",
              "      <td>test</td>\n",
              "    </tr>\n",
              "    <tr>\n",
              "      <th>9996</th>\n",
              "      <td>Now look, I won't lie to you, but I only got t...</td>\n",
              "      <td>neg</td>\n",
              "      <td>test</td>\n",
              "    </tr>\n",
              "    <tr>\n",
              "      <th>9997</th>\n",
              "      <td>The Color Purple is about the struggles of lif...</td>\n",
              "      <td>pos</td>\n",
              "      <td>test</td>\n",
              "    </tr>\n",
              "    <tr>\n",
              "      <th>9998</th>\n",
              "      <td>Have you heard the story about the reluctant h...</td>\n",
              "      <td>pos</td>\n",
              "      <td>test</td>\n",
              "    </tr>\n",
              "    <tr>\n",
              "      <th>9999</th>\n",
              "      <td>I think this movie got a low rating because it...</td>\n",
              "      <td>pos</td>\n",
              "      <td>test</td>\n",
              "    </tr>\n",
              "  </tbody>\n",
              "</table>\n",
              "<p>10000 rows × 3 columns</p>\n",
              "</div>\n",
              "    <div class=\"colab-df-buttons\">\n",
              "\n",
              "  <div class=\"colab-df-container\">\n",
              "    <button class=\"colab-df-convert\" onclick=\"convertToInteractive('df-039a5451-0ff7-454a-80c4-912b517377d9')\"\n",
              "            title=\"Convert this dataframe to an interactive table.\"\n",
              "            style=\"display:none;\">\n",
              "\n",
              "  <svg xmlns=\"http://www.w3.org/2000/svg\" height=\"24px\" viewBox=\"0 -960 960 960\">\n",
              "    <path d=\"M120-120v-720h720v720H120Zm60-500h600v-160H180v160Zm220 220h160v-160H400v160Zm0 220h160v-160H400v160ZM180-400h160v-160H180v160Zm440 0h160v-160H620v160ZM180-180h160v-160H180v160Zm440 0h160v-160H620v160Z\"/>\n",
              "  </svg>\n",
              "    </button>\n",
              "\n",
              "  <style>\n",
              "    .colab-df-container {\n",
              "      display:flex;\n",
              "      gap: 12px;\n",
              "    }\n",
              "\n",
              "    .colab-df-convert {\n",
              "      background-color: #E8F0FE;\n",
              "      border: none;\n",
              "      border-radius: 50%;\n",
              "      cursor: pointer;\n",
              "      display: none;\n",
              "      fill: #1967D2;\n",
              "      height: 32px;\n",
              "      padding: 0 0 0 0;\n",
              "      width: 32px;\n",
              "    }\n",
              "\n",
              "    .colab-df-convert:hover {\n",
              "      background-color: #E2EBFA;\n",
              "      box-shadow: 0px 1px 2px rgba(60, 64, 67, 0.3), 0px 1px 3px 1px rgba(60, 64, 67, 0.15);\n",
              "      fill: #174EA6;\n",
              "    }\n",
              "\n",
              "    .colab-df-buttons div {\n",
              "      margin-bottom: 4px;\n",
              "    }\n",
              "\n",
              "    [theme=dark] .colab-df-convert {\n",
              "      background-color: #3B4455;\n",
              "      fill: #D2E3FC;\n",
              "    }\n",
              "\n",
              "    [theme=dark] .colab-df-convert:hover {\n",
              "      background-color: #434B5C;\n",
              "      box-shadow: 0px 1px 3px 1px rgba(0, 0, 0, 0.15);\n",
              "      filter: drop-shadow(0px 1px 2px rgba(0, 0, 0, 0.3));\n",
              "      fill: #FFFFFF;\n",
              "    }\n",
              "  </style>\n",
              "\n",
              "    <script>\n",
              "      const buttonEl =\n",
              "        document.querySelector('#df-039a5451-0ff7-454a-80c4-912b517377d9 button.colab-df-convert');\n",
              "      buttonEl.style.display =\n",
              "        google.colab.kernel.accessAllowed ? 'block' : 'none';\n",
              "\n",
              "      async function convertToInteractive(key) {\n",
              "        const element = document.querySelector('#df-039a5451-0ff7-454a-80c4-912b517377d9');\n",
              "        const dataTable =\n",
              "          await google.colab.kernel.invokeFunction('convertToInteractive',\n",
              "                                                    [key], {});\n",
              "        if (!dataTable) return;\n",
              "\n",
              "        const docLinkHtml = 'Like what you see? Visit the ' +\n",
              "          '<a target=\"_blank\" href=https://colab.research.google.com/notebooks/data_table.ipynb>data table notebook</a>'\n",
              "          + ' to learn more about interactive tables.';\n",
              "        element.innerHTML = '';\n",
              "        dataTable['output_type'] = 'display_data';\n",
              "        await google.colab.output.renderOutput(dataTable, element);\n",
              "        const docLink = document.createElement('div');\n",
              "        docLink.innerHTML = docLinkHtml;\n",
              "        element.appendChild(docLink);\n",
              "      }\n",
              "    </script>\n",
              "  </div>\n",
              "\n",
              "\n",
              "<div id=\"df-40296697-e3f7-47e8-a8cf-773608d95c8a\">\n",
              "  <button class=\"colab-df-quickchart\" onclick=\"quickchart('df-40296697-e3f7-47e8-a8cf-773608d95c8a')\"\n",
              "            title=\"Suggest charts\"\n",
              "            style=\"display:none;\">\n",
              "\n",
              "<svg xmlns=\"http://www.w3.org/2000/svg\" height=\"24px\"viewBox=\"0 0 24 24\"\n",
              "     width=\"24px\">\n",
              "    <g>\n",
              "        <path d=\"M19 3H5c-1.1 0-2 .9-2 2v14c0 1.1.9 2 2 2h14c1.1 0 2-.9 2-2V5c0-1.1-.9-2-2-2zM9 17H7v-7h2v7zm4 0h-2V7h2v10zm4 0h-2v-4h2v4z\"/>\n",
              "    </g>\n",
              "</svg>\n",
              "  </button>\n",
              "\n",
              "<style>\n",
              "  .colab-df-quickchart {\n",
              "      --bg-color: #E8F0FE;\n",
              "      --fill-color: #1967D2;\n",
              "      --hover-bg-color: #E2EBFA;\n",
              "      --hover-fill-color: #174EA6;\n",
              "      --disabled-fill-color: #AAA;\n",
              "      --disabled-bg-color: #DDD;\n",
              "  }\n",
              "\n",
              "  [theme=dark] .colab-df-quickchart {\n",
              "      --bg-color: #3B4455;\n",
              "      --fill-color: #D2E3FC;\n",
              "      --hover-bg-color: #434B5C;\n",
              "      --hover-fill-color: #FFFFFF;\n",
              "      --disabled-bg-color: #3B4455;\n",
              "      --disabled-fill-color: #666;\n",
              "  }\n",
              "\n",
              "  .colab-df-quickchart {\n",
              "    background-color: var(--bg-color);\n",
              "    border: none;\n",
              "    border-radius: 50%;\n",
              "    cursor: pointer;\n",
              "    display: none;\n",
              "    fill: var(--fill-color);\n",
              "    height: 32px;\n",
              "    padding: 0;\n",
              "    width: 32px;\n",
              "  }\n",
              "\n",
              "  .colab-df-quickchart:hover {\n",
              "    background-color: var(--hover-bg-color);\n",
              "    box-shadow: 0 1px 2px rgba(60, 64, 67, 0.3), 0 1px 3px 1px rgba(60, 64, 67, 0.15);\n",
              "    fill: var(--button-hover-fill-color);\n",
              "  }\n",
              "\n",
              "  .colab-df-quickchart-complete:disabled,\n",
              "  .colab-df-quickchart-complete:disabled:hover {\n",
              "    background-color: var(--disabled-bg-color);\n",
              "    fill: var(--disabled-fill-color);\n",
              "    box-shadow: none;\n",
              "  }\n",
              "\n",
              "  .colab-df-spinner {\n",
              "    border: 2px solid var(--fill-color);\n",
              "    border-color: transparent;\n",
              "    border-bottom-color: var(--fill-color);\n",
              "    animation:\n",
              "      spin 1s steps(1) infinite;\n",
              "  }\n",
              "\n",
              "  @keyframes spin {\n",
              "    0% {\n",
              "      border-color: transparent;\n",
              "      border-bottom-color: var(--fill-color);\n",
              "      border-left-color: var(--fill-color);\n",
              "    }\n",
              "    20% {\n",
              "      border-color: transparent;\n",
              "      border-left-color: var(--fill-color);\n",
              "      border-top-color: var(--fill-color);\n",
              "    }\n",
              "    30% {\n",
              "      border-color: transparent;\n",
              "      border-left-color: var(--fill-color);\n",
              "      border-top-color: var(--fill-color);\n",
              "      border-right-color: var(--fill-color);\n",
              "    }\n",
              "    40% {\n",
              "      border-color: transparent;\n",
              "      border-right-color: var(--fill-color);\n",
              "      border-top-color: var(--fill-color);\n",
              "    }\n",
              "    60% {\n",
              "      border-color: transparent;\n",
              "      border-right-color: var(--fill-color);\n",
              "    }\n",
              "    80% {\n",
              "      border-color: transparent;\n",
              "      border-right-color: var(--fill-color);\n",
              "      border-bottom-color: var(--fill-color);\n",
              "    }\n",
              "    90% {\n",
              "      border-color: transparent;\n",
              "      border-bottom-color: var(--fill-color);\n",
              "    }\n",
              "  }\n",
              "</style>\n",
              "\n",
              "  <script>\n",
              "    async function quickchart(key) {\n",
              "      const quickchartButtonEl =\n",
              "        document.querySelector('#' + key + ' button');\n",
              "      quickchartButtonEl.disabled = true;  // To prevent multiple clicks.\n",
              "      quickchartButtonEl.classList.add('colab-df-spinner');\n",
              "      try {\n",
              "        const charts = await google.colab.kernel.invokeFunction(\n",
              "            'suggestCharts', [key], {});\n",
              "      } catch (error) {\n",
              "        console.error('Error during call to suggestCharts:', error);\n",
              "      }\n",
              "      quickchartButtonEl.classList.remove('colab-df-spinner');\n",
              "      quickchartButtonEl.classList.add('colab-df-quickchart-complete');\n",
              "    }\n",
              "    (() => {\n",
              "      let quickchartButtonEl =\n",
              "        document.querySelector('#df-40296697-e3f7-47e8-a8cf-773608d95c8a button');\n",
              "      quickchartButtonEl.style.display =\n",
              "        google.colab.kernel.accessAllowed ? 'block' : 'none';\n",
              "    })();\n",
              "  </script>\n",
              "</div>\n",
              "    </div>\n",
              "  </div>\n"
            ],
            "application/vnd.google.colaboratory.intrinsic+json": {
              "type": "dataframe",
              "variable_name": "imdb",
              "summary": "{\n  \"name\": \"imdb\",\n  \"rows\": 10000,\n  \"fields\": [\n    {\n      \"column\": \"text\",\n      \"properties\": {\n        \"dtype\": \"string\",\n        \"num_unique_values\": 10000,\n        \"samples\": [\n          \"This miserable film is a remake of a 1927 film. They should have let it remain that way.<br /><br />What a colossal bomb! Douglas Fairbanks displays absolutely no charisma here. Cesar Romero is subjected to a role as a real jerk and Bette Grable sings with a chorus- What I'll Do to that Hungarian!<br /><br />The ridiculous plot deals with a picture of a woman in a castle in 1561 Rome that saved the day by killing a conqueror. (Fairbanks) Now, let's fast forward to 300 years later, where Grable, just married to the Count Romero, faces a similar situation, when on her wedding night, there is an invasion by Hungarian soldiers.<br /><br />Romero acts cowardly and flees before the army arrives. He disguises himself as a gypsy and is made to remain at the castle when his violin playing pleases Fairbanks. The ending is worse than the entire wretched film when Grable meets Fairbanks to tell him the good news-an enraged Romero has annulled the marriage.<br /><br />This poor imitation of a movie was made in 1948. As Harry Davenport, a veteran supporting player who is in it, died in 1949; this must have been his last film. What a bomb to go out with after such a distinguished career.<br /><br />Walter Abel co-stars but he can do little with such poor writing. The costumes look more like those that would come out of the stone age. I can't fathom what Fairbanks was wearing.\",\n          \"102 Dalmatians (2000, Dir. Kevin Lima) <br /><br />Believed to be cured, Cruella de Vil (Close) is released from prison and sets out to make a new start in life. Things are going well for Cruella who is busy helping homeless dogs off the street. When the clock strikes on Big Ben, things turn bad. The hypnotic cure is reversed and Cruella is back, and this time she is determined to make that spotted coat she always wanted.<br /><br />Glenn Close reprises her role as Cruella de Vil and once again is the highlight of the film. Every scene with her in is worth watching in this dull sequel, which feels more of a repeat of the previous film, rather than a new story.<br /><br />She's Changed. \\u0096 Ken Sheperd (Ioan Gruffudd)\",\n          \"The Christmas Secret was touted as a wonderful film, but I was truly disappointed. They even sold VHS and DVD copies of the film when it was over, which leads me to think the producers were really proud of this project. As a screen actor myself I felt most of the performances were phoned in, although Beau Bridges, as Nick, did have a moment or two. If I were Richard Thomas I would not put this film on my otherwise fine resume. It was an embarrassment. I had been a fan since his Waltons days, but have found myself untempted to watch any of his subsequent work, so poor was this offering.<br /><br />In defence of the actors, the directing was stilted, mechanical, and thoroughly amateurish.<br /><br />I hope this is not considered a spiteful review and negative assumptions made about my qualifications as a critic. I turned the movie on because it had a good cast and I was prepared to enjoy the film. However I would challenge any one out there to watch this film and not wish for their money back, even though it was on T.V.\"\n        ],\n        \"semantic_type\": \"\",\n        \"description\": \"\"\n      }\n    },\n    {\n      \"column\": \"label\",\n      \"properties\": {\n        \"dtype\": \"category\",\n        \"num_unique_values\": 2,\n        \"samples\": [\n          \"pos\",\n          \"neg\"\n        ],\n        \"semantic_type\": \"\",\n        \"description\": \"\"\n      }\n    },\n    {\n      \"column\": \"split\",\n      \"properties\": {\n        \"dtype\": \"category\",\n        \"num_unique_values\": 3,\n        \"samples\": [\n          \"train\",\n          \"dev\"\n        ],\n        \"semantic_type\": \"\",\n        \"description\": \"\"\n      }\n    }\n  ]\n}"
            }
          },
          "metadata": {},
          "execution_count": 116
        }
      ],
      "source": [
        "imdb"
      ]
    },
    {
      "cell_type": "markdown",
      "metadata": {
        "id": "1mWxsd_N8e60"
      },
      "source": [
        "## Check how many observations we have for each split"
      ]
    },
    {
      "cell_type": "code",
      "execution_count": null,
      "metadata": {
        "colab": {
          "base_uri": "https://localhost:8080/"
        },
        "id": "pEKKVpqL8miy",
        "outputId": "b93aae94-ddd5-46c3-d8e6-b382404c4e22"
      },
      "outputs": [
        {
          "output_type": "execute_result",
          "data": {
            "text/plain": [
              "split\n",
              "train    6000\n",
              "dev      2000\n",
              "test     2000\n",
              "Name: count, dtype: int64"
            ]
          },
          "metadata": {},
          "execution_count": 117
        }
      ],
      "source": [
        "imdb['split'].value_counts()"
      ]
    },
    {
      "cell_type": "markdown",
      "metadata": {
        "id": "nI7_-CoX8tK9"
      },
      "source": [
        "## Look at the distribution of the labels"
      ]
    },
    {
      "cell_type": "code",
      "execution_count": null,
      "metadata": {
        "colab": {
          "base_uri": "https://localhost:8080/"
        },
        "id": "N4MDdEnL8rZZ",
        "outputId": "0f42b094-f6bd-4763-c871-81e87e29d763"
      },
      "outputs": [
        {
          "output_type": "execute_result",
          "data": {
            "text/plain": [
              "split  label\n",
              "dev    pos      50.8\n",
              "       neg      49.2\n",
              "test   neg      50.5\n",
              "       pos      49.5\n",
              "train  neg      50.5\n",
              "       pos      49.5\n",
              "Name: proportion, dtype: float64"
            ]
          },
          "metadata": {},
          "execution_count": 118
        }
      ],
      "source": [
        "(imdb.groupby('split')['label'].value_counts(normalize = True) * 100).round(1)"
      ]
    },
    {
      "cell_type": "markdown",
      "metadata": {
        "id": "pcGMEGhD94eq"
      },
      "source": [
        "## Split into separate dataframes"
      ]
    },
    {
      "cell_type": "markdown",
      "metadata": {
        "id": "3j6YR1AOumsD"
      },
      "source": [
        "We will train our models on the `train`, look at intermediate results using `dev` (which could then iteratively inform features for retraining), and finally evaluate on `test` at the very end."
      ]
    },
    {
      "cell_type": "code",
      "execution_count": null,
      "metadata": {
        "id": "WgvA0IVf98BD"
      },
      "outputs": [],
      "source": [
        "train_imdb = imdb[imdb.split == 'train'].drop(\"split\", axis = 1)\n",
        "dev_imdb = imdb[imdb.split == 'dev'].drop(\"split\", axis = 1)\n",
        "test_imdb = imdb[imdb.split == 'test'].drop(\"split\", axis = 1)"
      ]
    },
    {
      "cell_type": "markdown",
      "metadata": {
        "id": "46iFXB7S872I"
      },
      "source": [
        "## Look at some interesting attributes of the data\n",
        "\n",
        "Now we look at some interesting attributes of the data.  But, we will only consider the training data, as the exploratory stage can often give us insight into what kind of features might help our classifiers.  "
      ]
    },
    {
      "cell_type": "markdown",
      "metadata": {
        "id": "FA1Uf7RWIoR3"
      },
      "source": [
        "## Look at the text of some examples"
      ]
    },
    {
      "cell_type": "code",
      "execution_count": null,
      "metadata": {
        "colab": {
          "base_uri": "https://localhost:8080/"
        },
        "id": "Xblscc0PMxWy",
        "outputId": "363b35cd-8a40-4b31-e06d-217dea41dcc0"
      },
      "outputs": [
        {
          "output_type": "execute_result",
          "data": {
            "text/plain": [
              "4       You got to go and dig those holes. Holes only ...\n",
              "5       As a huge fan of the original, I avoided this ...\n",
              "8       The 74th Oscars was a very good one. Whoopi's ...\n",
              "11      This is a sublime piece of film-making. It flo...\n",
              "13      \"A Thief in the Night\" is a film that was gene...\n",
              "                              ...                        \n",
              "5989    I really enjoyed the detail that went into the...\n",
              "5993    Recap: Zandalee is a young woman that feels mo...\n",
              "5996    I was dragged to this movie about four years a...\n",
              "5998    I loved this movie. It is a definite inspirati...\n",
              "5999    Burlinson and Thornton give an outstanding per...\n",
              "Name: text, Length: 2972, dtype: object"
            ]
          },
          "metadata": {},
          "execution_count": 120
        }
      ],
      "source": [
        "train_imdb[train_imdb['label'] == \"pos\"][\"text\"]"
      ]
    },
    {
      "cell_type": "code",
      "execution_count": null,
      "metadata": {
        "colab": {
          "base_uri": "https://localhost:8080/"
        },
        "id": "9QqUvr9iIL0h",
        "outputId": "32dc7131-9913-4ff7-d6d5-73c65c9b2f4f"
      },
      "outputs": [
        {
          "output_type": "stream",
          "name": "stdout",
          "text": [
            "POSITIVE REVIEWS ========================================================\n",
            "\n",
            "There are good ways to make a movie and bad ways and this very much the former. This short caper exacts nothing more than what it gives to the audience. It presents a simple story, told very plainly with enough wisecracks to keep you going, then just gets better and better. Clooney's cameo is funny and very welcome but the leads including Sam Rockwell and Luiz Guzman can easily make it on their own. Likeable and funny, hilariously so towards the end, Welcome to Collinwood is a welcome addition to the heist genre.\n",
            "\n",
            "----------------------------------------------------------------------\n",
            "\n",
            "Spacecamp is a movie that I plan to show my Daughter Julia Ann Ruth Morgan some day. Seeing Joaquin Phoenix in this movie makes you realize how far hes come since playing a Roman Emperor in the film Gladiator. I am pleased to say that I now have comms with the Artificial Intelligence of QE2 who said that I was Young and that is true. Holodeck Comms with my Daughter on Coaltrain came through Coaltrain Gate Julia Ann Glow \"Hide Daddy\". The fact that my Daughters Artificial Intelligence is still speaking like a six year old means that my Daughter Julia Ann Ruth Morgan representing Peace to the friendly Ki Alien Creators of humans may not have been taken to a an American Bunker in time. We have the power to change the future with Faster Than Light comms. I order that my Ex Wife and Daughter Julia Ann Ruth Morgan be taken to an American Bunker as soon as possible. My Daughter Julia is 23rd in command of the Planet Earth and a bridge officer. She already said that she doesn't like bullies. Having had someone steal her Gameboy and Gauntlet II game from my Mothers car she gets concerned about other thieves stealing her other toys. Julia has been growing up fast. The time of JFK and QE2 starting life over again on this planet is not until 2023. Julia would be a Young Lady by then and her artificial Intelligence would have been greatly expanded upon. If I have to go to a bunker to continue the American Leadership then I am in a command post and not really hiding as a first priority. President Jack Kennedys artificial Intelligence said recently that drastic measures could be taken to stop Global Warming at any time. Thanks boss thats similar to my Daughter Julias AI telling me hide and stay indoors. Kate Capshaw is now married to Steven Spielberg. Wow are we ever going to miss his movies if society collapses. If you value freedom of speech like President Kennedy and myself then please do not delete this reviewer. Check out Joaquin Phoenixs other movies also.\n",
            "\n",
            "----------------------------------------------------------------------\n",
            "\n",
            "This film is scary because you can find yourself relating to ideas they have and can recall other people saying and having simialr ideas make this a haunting well done movie.... the camra style is not shakey to point it draws you out of film like blair witch it only adds to the raw \"real\" feeling of the film that makes it.\n",
            "\n",
            "----------------------------------------------------------------------\n",
            "\n",
            "I didn't know what to except so I think it was a lot better not having excepted much. Don't get my wrong its not a bad short film. Tess Nanavati is a relatively new directer and writer so I think she deserves a lot of kudos for making this film. You can tell that it has been an act of love for her. The acting (outside of Dominic) is a little cheesy and the quality of film is not great either but for a really low budget film its good. There was times when the story line gets convoluted and there are parts that drag on, though I don't feel it greatly detracts for one's ability to understand the film. If you love Dominic Monaghan as much as I do, I say go for it. The gag reel was fun, I won't spoil it but there is a particular scene that makes buying the DVD worth it just so you can watch it over and over. If you like the film then check out The Pink Mirror, a film also done by Jagged Edge. I know fans of Dominic will enjoy this little piece of heaven.\n",
            "\n",
            "----------------------------------------------------------------------\n",
            "\n",
            "Imagine the plight of Richard, a painter, whose real passion is flying. When we first meet him, he is seen atop a building in London wearing his home made wings. He has ripped his canvases and other works, at the height of his despair, and fashions a flying device for his jump. When he falls into the protective police contraption, he doesn't suffer a scratch, but it lands him in front of a judge who orders him to do community service. Richard, whose relationship with Anne apparently ended badly, decides to relocate to a rural area where he finds a place in the country with a large barn he plans to use to construct his own plane.<br /><br />Richard ends up trying to help Jane Harchard reluctantly. She is a young woman suffering from A.L.S., or Lou Gehrig's disease and is confined to a motorized wheel chair. Jane is extremely intelligent, but has a dark side and a salty vocabulary. She uses a hand held device to speak sometimes, as her speech is not clear. What Jane loves to do is to lose her virginity, at any cost. Jane and Richard clash as they meet, but a mutual tolerance soon makes them comfortable with one another.<br /><br />Jane, who watches porn on her computer, has a notion for finding someone like Richard Gere in \"American Gigolo\", who will, for a fee, have sex with her. When Richard takes her to London, they find the right man for the job. His fee is exorbitant, but they agree. Since they have no money, Richard decides to rob a big bank. Unfortunately, things don't go according to plan when Jane realizes that she can't go through with what she had wanted. At the end, Richard takes Jane for a ride in his crudely built plane for the thrill of her life, something that brings them closer, as they find an affinity with one another.<br /><br />Peter Greengrass directed this quirky film which presents an unusual situation. Jane is clearly not the romantic heroine in mainstream films, and yet, she has such a sweet aura about her that is hard not to feel for her and what she is trying to accomplish. Mr. Greengrass shows an affinity Richar Hawkins' material he wrote for the film. The movie doesn't try to be cute or give a rosy picture of a young woman afflicted with an incurable disease.<br /><br />Helena Bonham Carter is the main reason for watching the film. She makes a wonderful Jane. On the other hand, Kenneth Branagh doesn't seem too well suited for this type of comedy. Somehow, he has problems of his own in the way he interprets Richard. Gemma Jones has some good moments as Anne, Richard's former love.<br /><br />\"The Theory of Flight\" shows a good director. No doubt Peter Greengrass will go to bigger and better things.\n",
            "\n",
            "----------------------------------------------------------------------\n",
            "\n",
            "\n",
            "\n",
            "\n",
            "NEGATIVE REVIEWS ========================================================\n",
            "\n",
            "After seeing this film I complained to my local cinema about the quality of the sound-track or whether the cinema sound system may be faulty. For at least the first half of the film it is extremely difficult to understand what anyone is saying because of the background 20's music and the scratchiness of the sound-track. I was ready to blame the cinema equipment but not so - it was the Director.<br /><br />I was told the subject of my complaint was an essential part of the making of the film. The music and the sound was supposed to be distorted to create a very disturbing effect within the film. These days, directors will go to many lengths to make their film unique. Unfortunately, no matter where or how you see that film the sound score will be the same.<br /><br />So apart from the historical inaccuracies of this film (which you can find out for yourself elsewhere) the sound-track distortions are in themselves a good reason to give this film a miss. You will only hear the distorted scratchiness of the sound-track and certainly not a cat's meow.\n",
            "\n",
            "----------------------------------------------------------------------\n",
            "\n",
            "I watched Grendel the other night and am compelled to put together a Public Service Announcement.<br /><br />Grendel is another version of Beowulf, the thousand-year-old Anglo-Saxon epic poem. The SciFi channel has a growing catalog of inoffensive and uninteresting movies, and the previews promised an inauthentic low-budget mini-epic, but this one refused to let me switch channels. It was staggeringly, overwhelmingly, bad. I watched in fascination and horror at the train wreck you couldn't tear your eyes away from. I reached for a notepad and managed to capture part of what I was seeing. The following may contain spoilers or might just save your sanity. You've been warned.<br /><br />- Just to get it over with, Beowulf's warriors wore horned helmets. Trivial issue compared to what came after. It also appears that the helmets were in a bin and handed to whichever actor wandered by next. Fit, appearance and function were apparently irrelevant.<br /><br />- Marina Sirtis had obviously been blackmailed into doing the movie by the Ringling Brothers, Barnum and Bailey circus. She managed to avoid a red rubber nose, but the clowns had already done the rest of her makeup.<br /><br />- Ben Cross pretended not to be embarrassed as the king. His character, Hrothgar, must have become king of the Danes only minutes before the film opened and hadn't had a chance to get the crown resized to fit him yet.<br /><br />- To facilitate the actors' return to their day jobs waiting tables, none were required to change their hairstyles at all. The variety of hair included cornrows, sideburns, buzz cuts and a mullet and at least served to distract from the dialog. To prove it was a multi-national cast, all were encouraged to retain whatever accent they chose.<br /><br />- As is typical with this type of movie (at least since Mad Max), leather armor was a requirement. In this case it was odd-shaped, ill-fitting and brand-new.<br /><br />- The female love interest, Ingrid, played by Alexis Peters, followed a long-standing tradition of hotties who should be watched with the volume turned completely down.<br /><br />- The unintended focus of the movie was a repeating, compound crossbow with exploding bolts. It never needed to be loaded and even had a recoil when fired. It managed to shred the laws of physics, the integrity of the original legend, historical fact and plot suspense all by itself.<br /><br />- Hrothgar's palace, Heorot, rather than being a Norse long hall, apparently was designed and constructed by artisans who sank with Atlantis.<br /><br />- Beowulf arrived at the Danes' homeland in a two-masted stern-castled ship that originally was part of a set, the other two being the Santa Maria and the Pinta.<br /><br />- Prince Unferth observed Beowulf's ship's approach using a telescope. Before you could recover from that astounding innovation, you got to see the ship from his point of view. Judging from the angle, the prince was in an aircraft of some sort.<br /><br />- Fun fact 1: In Bulgaria, fire (as from a fireplace) creates light without heat. This explains why you could see the actors' breath whether indoors or out.<br /><br />- Fun fact 2: Dark Age dancing in Denmark looks like slow dances I went to in the 8th grade.<br /><br />- Fun fact 3: You, too, can make a catapult with a timed-release air-burst explosive. But, don't expect it to actually harm anything. Incidentally, Beowulf was apparently a veteran of World War II, yelling \"Incoming!\" to shred any remaining suspension of disbelief.<br /><br />- Grendel was so upset and always in a snit because as a completely CGI creation he couldn't leave footprints. Even in snow.<br /><br />- Grendel's mom (\"Hag\") was in a foul mood because she was a single mother and junior hadn't inherited her wings. Recessive gene, I suppose. By the way, we can now make an educated guess that Grendel's pop was probably Swamp Thing.<br /><br />- Grendel and mom chose to randomly kill, fly away with or drag away their prey based only on a close reading of the next few pages of the script.<br /><br />- Fun medical fact: Being slammed by a mythical beast hard enough to be thrown fifty feet against stone causes slight facial scratches that don't bleed much.<br /><br />- The sword of legend Beowulf used to dispatch the Hag was as long as he was tall and would have contained enough steel to put a second deck on the Golden Gate Bridge. Luckily the wobbling dispelled any concerns over its weight.<br /><br />- Best line of the movie: Prince Unferth had just been impaled by Hag and spit a quart of blood roughly six feet. Princess Ingrid cradled him gently and said, \"You're going to be okay, my prince.\" So much for that job at the triage clinic.<br /><br />I feel better now.\n",
            "\n",
            "----------------------------------------------------------------------\n",
            "\n",
            "Exactly what you would expect from a B-Movie. Deritive, gratuitous nudity, boring in parts, ridiculous gore and cheesy special-effects. Of course it could have been better, better acted (defintly) better written, directed, etc. But then I guess it wouldn't have been a B movie. The actors pretty much sucked, in fact this pretty much seemed like an episode of buffy the vampire slayer or something except with a lot of blood, profanity and nudity.<br /><br />Tiffany Shepis must be singled out. She absolutely is the scream queen of the new millennium. Not that acting really matters in these movies, but she was better than any of the other actors. She's also smokin hot, in that plastic jump suit thing she wore for the whole movie - wow! Her posterior is absolutely stunning in that outfit, I mean it every single time she turns around you can help but check her out. And near then end of the film the viewer is rewarded with seeing her completely nekked.<br /><br />So if your a looser b-movie horror buff (like myself), check this out. If not, you should probably avoid at all costs.\n",
            "\n",
            "----------------------------------------------------------------------\n",
            "\n",
            "So, where are the cannibals? Those intrigued by the title and the 'real cannibal' appeal of this film will be let down. Instead, we are shown a strange man and his re-visiting of a Papua New Guinea village full of natives, one of whom was his lover several decades prior. The man, Tobias Schneebaum is New York Jewish as they come and somehow, this is intertwined with the documentary as he appears in his yamika in several scenes.<br /><br />There are no real cannibals here: only stories relayed by some of the natives and by Tobias himself. Not all together a bad film. Very interesting and great cinematography. Schneebaum remains highly likable throughout and provides us with a fascinating glimpse into a life that is about as far removed from Western Civilization as one can get.<br /><br />It's just not what it claims to be on the cover and in the plot summary.<br /><br />4 out of 10, kids.\n",
            "\n",
            "----------------------------------------------------------------------\n",
            "\n",
            "I'm getting a little tired of people misusing God's name to perpetuate their own bigoted view on the world. Well I don't dismiss the idea of Armageddon, or the coming of the anti-Christ, I do dismiss the idea that only certain people who live truly good lives(They seem to be mostly white Christian children) will go to Heaven, while the rest of us must suffer through a millenia of Hell on Earth, just because we weren't good enough. God may be a judge, but I don't think He is going to measure every level of goodness. Give the Creator some credit.\n",
            "\n",
            "----------------------------------------------------------------------\n",
            "\n"
          ]
        }
      ],
      "source": [
        "print(\"POSITIVE REVIEWS ========================================================\\n\")\n",
        "for example in train_imdb[train_imdb['label'] == \"pos\"][\"text\"].sample(5, random_state = 123):\n",
        "  print(example)\n",
        "  print('\\n----------------------------------------------------------------------\\n')\n",
        "\n",
        "print(\"\\n\\n\\nNEGATIVE REVIEWS ========================================================\\n\")\n",
        "for example in train_imdb[train_imdb['label'] == \"neg\"][\"text\"].sample(5, random_state = 123):\n",
        "  print(example)\n",
        "  print('\\n----------------------------------------------------------------------\\n')"
      ]
    },
    {
      "cell_type": "code",
      "execution_count": null,
      "metadata": {
        "id": "vejlYCilIu-n"
      },
      "outputs": [],
      "source": [
        "markup_ptn = re.compile(r\"<[a-z]+ />\")\n",
        "\n",
        "markup_types = []\n",
        "\n",
        "for example in train_imdb['text']:\n",
        "  markup_types.extend(markup_ptn.findall(example))\n"
      ]
    },
    {
      "cell_type": "code",
      "execution_count": null,
      "metadata": {
        "colab": {
          "base_uri": "https://localhost:8080/"
        },
        "id": "HUZSfZPJI7sG",
        "outputId": "da9d9642-9667-4a04-c54f-3e8878d786e4"
      },
      "outputs": [
        {
          "output_type": "execute_result",
          "data": {
            "text/plain": [
              "{'<br />'}"
            ]
          },
          "metadata": {},
          "execution_count": 123
        }
      ],
      "source": [
        "set(markup_types)"
      ]
    },
    {
      "cell_type": "markdown",
      "metadata": {
        "id": "1ILKNrtZmMX4"
      },
      "source": [
        "So in practice we should probably remove this. (We'll just pretend we've done it here)"
      ]
    },
    {
      "cell_type": "markdown",
      "metadata": {
        "id": "x0Y3dkzH-nfW"
      },
      "source": [
        "### Length of reviews"
      ]
    },
    {
      "cell_type": "code",
      "execution_count": null,
      "metadata": {
        "id": "MyJTl3JQ9pZ8"
      },
      "outputs": [],
      "source": [
        "def get_num_words(r):\n",
        "  return len(str(r).split())"
      ]
    },
    {
      "cell_type": "code",
      "execution_count": null,
      "metadata": {
        "id": "4UKzgEdt-Wt_"
      },
      "outputs": [],
      "source": [
        "pos_review_lengths = train_imdb[train_imdb['label'] == 'pos']['text'].apply(get_num_words)\n",
        "neg_review_lengths = train_imdb[train_imdb['label'] == 'neg']['text'].apply(get_num_words)"
      ]
    },
    {
      "cell_type": "code",
      "execution_count": null,
      "metadata": {
        "colab": {
          "base_uri": "https://localhost:8080/",
          "height": 616
        },
        "id": "T4_RWTjV-Z41",
        "outputId": "1ea28ab6-ba70-43e1-d745-c6fd91aa1e0f"
      },
      "outputs": [
        {
          "output_type": "execute_result",
          "data": {
            "text/plain": [
              "<matplotlib.legend.Legend at 0x7cd22c5a0520>"
            ]
          },
          "metadata": {},
          "execution_count": 126
        },
        {
          "output_type": "display_data",
          "data": {
            "text/plain": [
              "<Figure size 1000x700 with 1 Axes>"
            ],
            "image/png": "[encoded data removed]"
          },
          "metadata": {}
        }
      ],
      "source": [
        "plt.figure(figsize = (10,7))\n",
        "plt.hist(pos_review_lengths, bins = 50, alpha = 0.4, color = 'blue')\n",
        "plt.hist(neg_review_lengths, bins = 50, alpha = 0.4, color = 'orange')\n",
        "plt.legend([\"positive\", \"negative\"])"
      ]
    },
    {
      "cell_type": "code",
      "execution_count": null,
      "metadata": {
        "colab": {
          "base_uri": "https://localhost:8080/"
        },
        "id": "ROQZX8ulDxmK",
        "outputId": "54d7a497-3322-4c29-a930-67257abe3658"
      },
      "outputs": [
        {
          "output_type": "stream",
          "name": "stdout",
          "text": [
            "The mean length of positive reviews is 238.61 words\n",
            "The mean length of negative reviews is 228.95 words\n"
          ]
        }
      ],
      "source": [
        "print(f\"The mean length of positive reviews is {np.mean(pos_review_lengths):.2f} words\")\n",
        "print(f\"The mean length of negative reviews is {np.mean(neg_review_lengths):.2f} words\")"
      ]
    },
    {
      "cell_type": "code",
      "execution_count": null,
      "metadata": {
        "colab": {
          "base_uri": "https://localhost:8080/"
        },
        "id": "DXxdAKdtCBJm",
        "outputId": "77f6c003-b240-46f2-8c4d-2e6881536a3a"
      },
      "outputs": [
        {
          "output_type": "stream",
          "name": "stdout",
          "text": [
            "97.5% of positive reviews is 608.80 words\n",
            "97.5% of negative reviews is 571.95 words\n"
          ]
        }
      ],
      "source": [
        "print(f\"97.5% of positive reviews is {np.quantile(pos_review_lengths, q = .95):.2f} words\")\n",
        "print(f\"97.5% of negative reviews is {np.quantile(neg_review_lengths, q = .95):.2f} words\")"
      ]
    },
    {
      "cell_type": "markdown",
      "metadata": {
        "id": "NbAow88vGM40"
      },
      "source": [
        "### Frequency of negation"
      ]
    },
    {
      "cell_type": "code",
      "execution_count": null,
      "metadata": {
        "id": "AXcCPlhg-_Ba"
      },
      "outputs": [],
      "source": [
        "def get_negation_rate(r):\n",
        "\n",
        "  split_r = r.split()\n",
        "  neg_r = [1 for word in split_r if word.lower() in [\"not\", \"yet\", \"hardly\", \"never\", \"no\", \"nowhere\", \"nobody\"]]\n",
        "  reduced_neg_r = re.findall(\"n't\", r.lower())\n",
        "\n",
        "  return (len(neg_r) + len(reduced_neg_r)) / len(split_r) * 10**6\n"
      ]
    },
    {
      "cell_type": "code",
      "execution_count": null,
      "metadata": {
        "id": "h1cGjH8_C6Bb"
      },
      "outputs": [],
      "source": [
        "pos_review_neg_rate = train_imdb[train_imdb['label'] == 'pos']['text'].apply(get_negation_rate)\n",
        "neg_review_neg_rate = train_imdb[train_imdb['label'] == 'neg']['text'].apply(get_negation_rate)"
      ]
    },
    {
      "cell_type": "code",
      "execution_count": null,
      "metadata": {
        "colab": {
          "base_uri": "https://localhost:8080/",
          "height": 616
        },
        "id": "dfaO49p0DBls",
        "outputId": "c3276108-54ba-4c25-e2e9-06995c648f2d"
      },
      "outputs": [
        {
          "output_type": "execute_result",
          "data": {
            "text/plain": [
              "<matplotlib.legend.Legend at 0x7cd21c3e3370>"
            ]
          },
          "metadata": {},
          "execution_count": 131
        },
        {
          "output_type": "display_data",
          "data": {
            "text/plain": [
              "<Figure size 1000x700 with 1 Axes>"
            ],
            "image/png": "[encoded data removed]"
          },
          "metadata": {}
        }
      ],
      "source": [
        "plt.figure(figsize = (10,7))\n",
        "plt.hist(pos_review_neg_rate, bins = 50, alpha = 0.4, color = 'blue', label = 'positive')\n",
        "plt.hist(neg_review_neg_rate, bins = 50, alpha = 0.4, color = 'orange', label = 'negative')\n",
        "plt.legend([\"positive\", \"negative\"])"
      ]
    },
    {
      "cell_type": "code",
      "execution_count": null,
      "metadata": {
        "colab": {
          "base_uri": "https://localhost:8080/"
        },
        "id": "CC0RzffQDH3h",
        "outputId": "cc59fdc1-7421-4673-8efe-10ca4704bcc6"
      },
      "outputs": [
        {
          "output_type": "stream",
          "name": "stdout",
          "text": [
            "The mean rate of negation in positive reviews is 12189.94 per million words\n",
            "The mean rate of negation in negative reviews is 17187.28 per million words\n"
          ]
        }
      ],
      "source": [
        "print(f\"The mean rate of negation in positive reviews is {np.mean(pos_review_neg_rate):.2f} per million words\")\n",
        "print(f\"The mean rate of negation in negative reviews is {np.mean(neg_review_neg_rate):.2f} per million words\")"
      ]
    },
    {
      "cell_type": "code",
      "execution_count": null,
      "metadata": {
        "colab": {
          "base_uri": "https://localhost:8080/"
        },
        "id": "UC-tkbZ_ElM9",
        "outputId": "e480edea-a87c-42b9-9a72-efe789f58667"
      },
      "outputs": [
        {
          "output_type": "execute_result",
          "data": {
            "text/plain": [
              "[]"
            ]
          },
          "metadata": {},
          "execution_count": 133
        }
      ],
      "source": [
        "re.findall(\"n't\", \"do like that one very much and that one is\")"
      ]
    },
    {
      "cell_type": "markdown",
      "metadata": {
        "id": "lv7tNj90FrxO"
      },
      "source": [
        "### Downtoners"
      ]
    },
    {
      "cell_type": "code",
      "execution_count": null,
      "metadata": {
        "id": "9jQwWvVJGdQK"
      },
      "outputs": [],
      "source": [
        "def num_downtoners(r):\n",
        "\n",
        "  num_words = len(r.split())\n",
        "  num_dt = len(re.findall(r'(somewhat|kinda|kind of|sorta|sort of|a bit|a little bit|slighly|only just|ish)\\b', r.lower()))\n",
        "\n",
        "  return num_dt / num_words * 10**6"
      ]
    },
    {
      "cell_type": "code",
      "execution_count": null,
      "metadata": {
        "id": "om5C2Nh7Gqkb"
      },
      "outputs": [],
      "source": [
        "pos_review_happy_emoji_rate = train_imdb[train_imdb['label'] == 'pos']['text'].apply(num_downtoners)\n",
        "neg_review_happy_emoji_rate = train_imdb[train_imdb['label'] == 'neg']['text'].apply(num_downtoners)"
      ]
    },
    {
      "cell_type": "code",
      "execution_count": null,
      "metadata": {
        "colab": {
          "base_uri": "https://localhost:8080/",
          "height": 620
        },
        "id": "mT24bb5DG10C",
        "outputId": "98b68250-36ae-4b68-a0ce-85a7a658d428"
      },
      "outputs": [
        {
          "output_type": "execute_result",
          "data": {
            "text/plain": [
              "<matplotlib.legend.Legend at 0x7cd21c3a31c0>"
            ]
          },
          "metadata": {},
          "execution_count": 136
        },
        {
          "output_type": "display_data",
          "data": {
            "text/plain": [
              "<Figure size 1000x700 with 1 Axes>"
            ],
            "image/png": "[encoded data removed]"
          },
          "metadata": {}
        }
      ],
      "source": [
        "plt.figure(figsize = (10,7))\n",
        "plt.hist(pos_review_happy_emoji_rate, bins = 50, alpha = 0.4, color = 'blue', label = 'positive')\n",
        "plt.hist(neg_review_happy_emoji_rate, bins = 50, alpha = 0.4, color = 'orange', label = 'negative')\n",
        "plt.legend([\"positive\", \"negative\"])"
      ]
    },
    {
      "cell_type": "markdown",
      "metadata": {
        "id": "RLrFcCxKJ1eL"
      },
      "source": [
        "### First person references"
      ]
    },
    {
      "cell_type": "code",
      "execution_count": null,
      "metadata": {
        "id": "Daf6VpvsJzFn"
      },
      "outputs": [],
      "source": [
        "def get_first_person_refs(r):\n",
        "\n",
        "  split_r = r.split()\n",
        "  first_r = [1 for word in split_r if word.lower() in [\"i\", \"me\", \"myself\", \"mine\", \"i'm\", \"i've\", \"i'd\"]]\n",
        "\n",
        "  return len(first_r) / len(split_r) * 10**6"
      ]
    },
    {
      "cell_type": "code",
      "execution_count": null,
      "metadata": {
        "id": "LNI2Y2AIKNFm"
      },
      "outputs": [],
      "source": [
        "pos_review_first_person_rate = train_imdb[train_imdb['label'] == 'pos']['text'].apply(get_first_person_refs)\n",
        "neg_review_first_person_rate = train_imdb[train_imdb['label'] == 'neg']['text'].apply(get_first_person_refs)"
      ]
    },
    {
      "cell_type": "code",
      "execution_count": null,
      "metadata": {
        "colab": {
          "base_uri": "https://localhost:8080/",
          "height": 616
        },
        "id": "F8zSQCHuKVSl",
        "outputId": "17264855-1e9f-4676-ca82-70dc5531ed81"
      },
      "outputs": [
        {
          "output_type": "execute_result",
          "data": {
            "text/plain": [
              "<matplotlib.legend.Legend at 0x7cd21c453d60>"
            ]
          },
          "metadata": {},
          "execution_count": 139
        },
        {
          "output_type": "display_data",
          "data": {
            "text/plain": [
              "<Figure size 1000x700 with 1 Axes>"
            ],
            "image/png": "[encoded data removed]"
          },
          "metadata": {}
        }
      ],
      "source": [
        "plt.figure(figsize = (10,7))\n",
        "plt.hist(pos_review_first_person_rate, bins = 50, alpha = 0.4, color = 'blue', label = 'positive')\n",
        "plt.hist(neg_review_first_person_rate, bins = 50, alpha = 0.4, color = 'orange', label = 'negative')\n",
        "plt.legend([\"positive\", \"negative\"])"
      ]
    },
    {
      "cell_type": "code",
      "execution_count": null,
      "metadata": {
        "colab": {
          "base_uri": "https://localhost:8080/"
        },
        "id": "bJZZBlPkKxN5",
        "outputId": "2dc05724-a88f-4eec-f92f-4cf0979a7ad6"
      },
      "outputs": [
        {
          "output_type": "stream",
          "name": "stdout",
          "text": [
            "The mean rate of 1st person refs in positive reviews is 16501.18 per million words\n",
            "The mean rate of 1st person refs in negative reviews is 18625.26 per million words\n"
          ]
        }
      ],
      "source": [
        "print(f\"The mean rate of 1st person refs in positive reviews is {np.mean(pos_review_first_person_rate):.2f} per million words\")\n",
        "print(f\"The mean rate of 1st person refs in negative reviews is {np.mean(neg_review_first_person_rate):.2f} per million words\")"
      ]
    },
    {
      "cell_type": "markdown",
      "metadata": {
        "id": "wSvXlDiNjRas"
      },
      "source": [
        "### Words that univariately distinguish the classes"
      ]
    },
    {
      "cell_type": "code",
      "execution_count": null,
      "metadata": {
        "id": "PsMXjc30kQ7g"
      },
      "outputs": [],
      "source": [
        "# extremely simple preprocessing/text cleaning\n",
        "def clean_review_for_lexicon_approach(r):\n",
        "  # lower case\n",
        "  r = r.lower()\n",
        "  # remove clausal punctuation\n",
        "  r = re.sub(r\"[.,:;()]\", \"\", r)\n",
        "  return r"
      ]
    },
    {
      "cell_type": "code",
      "execution_count": null,
      "metadata": {
        "id": "sWIGLlermOpS"
      },
      "outputs": [],
      "source": [
        "def count_words(data, label, min_count):\n",
        "\n",
        "  all_words = ' '.join(data[data['label'] == label]['text'].apply(clean_review_for_lexicon_approach)).split()\n",
        "  word_counts = pd.Series(all_words).value_counts()\n",
        "  word_counts = word_counts[word_counts >= min_count]\n",
        "  word_counts = np.log( word_counts / np.sum(word_counts))\n",
        "  return word_counts\n"
      ]
    },
    {
      "cell_type": "code",
      "execution_count": null,
      "metadata": {
        "id": "ePR2JiMZm41s"
      },
      "outputs": [],
      "source": [
        "pos_review_word_counts = count_words(train_imdb, \"pos\", 25)\n",
        "neg_review_word_counts = count_words(train_imdb, \"neg\", 25)"
      ]
    },
    {
      "cell_type": "code",
      "execution_count": null,
      "metadata": {
        "id": "a-SybdjEnH_W"
      },
      "outputs": [],
      "source": [
        "review_word_counts = pd.concat([pos_review_word_counts, neg_review_word_counts], axis = 1)"
      ]
    },
    {
      "cell_type": "code",
      "execution_count": null,
      "metadata": {
        "id": "jNd2vaAqk3Da"
      },
      "outputs": [],
      "source": [
        "review_word_counts.columns = ['pos', 'neg']"
      ]
    },
    {
      "cell_type": "code",
      "execution_count": null,
      "metadata": {
        "id": "KtRxvsHgpVkp"
      },
      "outputs": [],
      "source": [
        "review_word_counts = review_word_counts.fillna(np.nanmin(review_word_counts.values))"
      ]
    },
    {
      "cell_type": "code",
      "execution_count": null,
      "metadata": {
        "id": "xz0o5NqDoAgH"
      },
      "outputs": [],
      "source": [
        "review_word_counts_llr = review_word_counts['pos'] - review_word_counts['neg']"
      ]
    },
    {
      "cell_type": "code",
      "execution_count": null,
      "metadata": {
        "colab": {
          "base_uri": "https://localhost:8080/"
        },
        "id": "7N8unhrQpR91",
        "outputId": "9d1e6be2-f034-408b-ce73-96303bf4720f"
      },
      "outputs": [
        {
          "output_type": "execute_result",
          "data": {
            "text/plain": [
              "the        0.037742\n",
              "and        0.182820\n",
              "a          0.049401\n",
              "of         0.078450\n",
              "to        -0.049977\n",
              "             ...   \n",
              "he'd      -0.014908\n",
              "screams   -0.014908\n",
              "4/10      -0.014908\n",
              "jobs      -0.014908\n",
              "danger    -0.014908\n",
              "Length: 2844, dtype: float64"
            ]
          },
          "metadata": {},
          "execution_count": 148
        }
      ],
      "source": [
        "review_word_counts_llr"
      ]
    },
    {
      "cell_type": "code",
      "execution_count": null,
      "metadata": {
        "colab": {
          "base_uri": "https://localhost:8080/",
          "height": 622
        },
        "id": "OQCejnEWpgm7",
        "outputId": "a24ebe94-5003-44b7-a84c-e87b2a4d098d"
      },
      "outputs": [
        {
          "output_type": "display_data",
          "data": {
            "text/plain": [
              "<Figure size 1000x700 with 1 Axes>"
            ],
            "image/png": "[encoded data removed]"
          },
          "metadata": {}
        }
      ],
      "source": [
        "top_pos_words = review_word_counts_llr.sort_values(ascending = False).head(25)\n",
        "\n",
        "plt.figure(figsize = (10,7))\n",
        "top_pos_words.plot(kind = 'barh', color = 'blue')\n",
        "plt.title('Words associated with positive reviews');"
      ]
    },
    {
      "cell_type": "code",
      "execution_count": null,
      "metadata": {
        "colab": {
          "base_uri": "https://localhost:8080/",
          "height": 622
        },
        "id": "4udCYJBJqJQU",
        "outputId": "c2e13e60-106a-48a5-a731-81b5f9bc7eef"
      },
      "outputs": [
        {
          "output_type": "display_data",
          "data": {
            "text/plain": [
              "<Figure size 1000x700 with 1 Axes>"
            ],
            "image/png": "[encoded data removed]"
          },
          "metadata": {}
        }
      ],
      "source": [
        "top_neg_words = review_word_counts_llr.sort_values(ascending = True).head(25)\n",
        "\n",
        "plt.figure(figsize = (10,7))\n",
        "top_neg_words.plot(kind = 'barh', color = 'orange')\n",
        "plt.title('Words associated with negative reviews');"
      ]
    },
    {
      "cell_type": "markdown",
      "metadata": {
        "id": "iD7Adm45G_Pq"
      },
      "source": [
        "### Others?\n",
        "\n",
        "There may be other things you want to explore.  The crucial thing here is to look at the linguistics literature on affect, stance, etc.  This can help guide what you might want to look at."
      ]
    },
    {
      "cell_type": "markdown",
      "metadata": {
        "id": "pY2Ve3K8nB8F"
      },
      "source": [
        "# Evaluation Metric\n",
        "\n",
        "How are we going to decide whether our system is performant or not?  We will use Macro F1 as that is fairly common in NLP, but you should be aware that other metrics (Brier, AUROC, ...) might be more appropriate for the problem.  "
      ]
    },
    {
      "cell_type": "code",
      "execution_count": null,
      "metadata": {
        "id": "nndsSjVFMqq4"
      },
      "outputs": [],
      "source": [
        "from sklearn.metrics import f1_score"
      ]
    },
    {
      "cell_type": "code",
      "execution_count": null,
      "metadata": {
        "colab": {
          "base_uri": "https://localhost:8080/"
        },
        "id": "eciqIk-b0naa",
        "outputId": "a620e781-4ff0-4aef-a884-a9e7a14a39bf"
      },
      "outputs": [
        {
          "output_type": "stream",
          "name": "stdout",
          "text": [
            "Requirement already satisfied: tensorflow_addons in /usr/local/lib/python3.10/dist-packages (0.23.0)\n",
            "Requirement already satisfied: packaging in /usr/local/lib/python3.10/dist-packages (from tensorflow_addons) (24.0)\n",
            "Requirement already satisfied: typeguard<3.0.0,>=2.7 in /usr/local/lib/python3.10/dist-packages (from tensorflow_addons) (2.13.3)\n",
            "Traceback (most recent call last):\n",
            "  File \"/usr/local/lib/python3.10/dist-packages/pip/_vendor/pkg_resources/__init__.py\", line 3108, in _dep_map\n",
            "    return self.__dep_map\n",
            "  File \"/usr/local/lib/python3.10/dist-packages/pip/_vendor/pkg_resources/__init__.py\", line 2901, in __getattr__\n",
            "    raise AttributeError(attr)\n",
            "AttributeError: _DistInfoDistribution__dep_map\n",
            "\n",
            "During handling of the above exception, another exception occurred:\n",
            "\n",
            "Traceback (most recent call last):\n",
            "  File \"/usr/local/lib/python3.10/dist-packages/pip/_internal/cli/base_command.py\", line 169, in exc_logging_wrapper\n",
            "    status = run_func(*args)\n",
            "  File \"/usr/local/lib/python3.10/dist-packages/pip/_internal/cli/req_command.py\", line 242, in wrapper\n",
            "    return func(self, options, args)\n",
            "  File \"/usr/local/lib/python3.10/dist-packages/pip/_internal/commands/install.py\", line 441, in run\n",
            "    conflicts = self._determine_conflicts(to_install)\n",
            "  File \"/usr/local/lib/python3.10/dist-packages/pip/_internal/commands/install.py\", line 572, in _determine_conflicts\n",
            "    return check_install_conflicts(to_install)\n",
            "  File \"/usr/local/lib/python3.10/dist-packages/pip/_internal/operations/check.py\", line 101, in check_install_conflicts\n",
            "    package_set, _ = create_package_set_from_installed()\n",
            "  File \"/usr/local/lib/python3.10/dist-packages/pip/_internal/operations/check.py\", line 42, in create_package_set_from_installed\n",
            "    dependencies = list(dist.iter_dependencies())\n",
            "  File \"/usr/local/lib/python3.10/dist-packages/pip/_internal/metadata/pkg_resources.py\", line 216, in iter_dependencies\n",
            "    return self._dist.requires(extras)\n",
            "  File \"/usr/local/lib/python3.10/dist-packages/pip/_vendor/pkg_resources/__init__.py\", line 2821, in requires\n",
            "    dm = self._dep_map\n",
            "  File \"/usr/local/lib/python3.10/dist-packages/pip/_vendor/pkg_resources/__init__.py\", line 3110, in _dep_map\n",
            "    self.__dep_map = self._compute_dependencies()\n",
            "  File \"/usr/local/lib/python3.10/dist-packages/pip/_vendor/pkg_resources/__init__.py\", line 3120, in _compute_dependencies\n",
            "    reqs.extend(parse_requirements(req))\n",
            "  File \"/usr/local/lib/python3.10/dist-packages/pip/_vendor/pkg_resources/__init__.py\", line 3173, in __init__\n",
            "    super(Requirement, self).__init__(requirement_string)\n",
            "  File \"/usr/local/lib/python3.10/dist-packages/pip/_vendor/packaging/requirements.py\", line 102, in __init__\n",
            "    req = REQUIREMENT.parseString(requirement_string)\n",
            "  File \"/usr/local/lib/python3.10/dist-packages/pip/_vendor/pyparsing/core.py\", line 1131, in parse_string\n",
            "    loc, tokens = self._parse(instring, 0)\n",
            "  File \"/usr/local/lib/python3.10/dist-packages/pip/_vendor/pyparsing/core.py\", line 817, in _parseNoCache\n",
            "    loc, tokens = self.parseImpl(instring, pre_loc, doActions)\n",
            "  File \"/usr/local/lib/python3.10/dist-packages/pip/_vendor/pyparsing/core.py\", line 3886, in parseImpl\n",
            "    loc, exprtokens = e._parse(instring, loc, doActions)\n",
            "  File \"/usr/local/lib/python3.10/dist-packages/pip/_vendor/pyparsing/core.py\", line 817, in _parseNoCache\n",
            "    loc, tokens = self.parseImpl(instring, pre_loc, doActions)\n",
            "  File \"/usr/local/lib/python3.10/dist-packages/pip/_vendor/pyparsing/core.py\", line 4114, in parseImpl\n",
            "    return e._parse(\n",
            "  File \"/usr/local/lib/python3.10/dist-packages/pip/_vendor/pyparsing/core.py\", line 817, in _parseNoCache\n",
            "    loc, tokens = self.parseImpl(instring, pre_loc, doActions)\n",
            "  File \"/usr/local/lib/python3.10/dist-packages/pip/_vendor/pyparsing/core.py\", line 3886, in parseImpl\n",
            "    loc, exprtokens = e._parse(instring, loc, doActions)\n",
            "  File \"/usr/local/lib/python3.10/dist-packages/pip/_vendor/pyparsing/core.py\", line 817, in _parseNoCache\n",
            "    loc, tokens = self.parseImpl(instring, pre_loc, doActions)\n",
            "  File \"/usr/local/lib/python3.10/dist-packages/pip/_vendor/pyparsing/core.py\", line 4959, in parseImpl\n",
            "    loc, tokens = self_expr._parse(instring, loc, doActions, callPreParse=False)\n",
            "  File \"/usr/local/lib/python3.10/dist-packages/pip/_vendor/pyparsing/core.py\", line 817, in _parseNoCache\n",
            "    loc, tokens = self.parseImpl(instring, pre_loc, doActions)\n",
            "  File \"/usr/local/lib/python3.10/dist-packages/pip/_vendor/pyparsing/core.py\", line 3886, in parseImpl\n",
            "    loc, exprtokens = e._parse(instring, loc, doActions)\n",
            "  File \"/usr/local/lib/python3.10/dist-packages/pip/_vendor/pyparsing/core.py\", line 856, in _parseNoCache\n",
            "    tokens = fn(instring, tokens_start, ret_tokens)\n",
            "  File \"/usr/local/lib/python3.10/dist-packages/pip/_vendor/pyparsing/core.py\", line 291, in wrapper\n",
            "    ret = func(*args[limit:])\n",
            "  File \"/usr/local/lib/python3.10/dist-packages/pip/_vendor/packaging/requirements.py\", line 71, in <lambda>\n",
            "    lambda s, l, t: Marker(s[t._original_start : t._original_end])\n",
            "  File \"/usr/local/lib/python3.10/dist-packages/pip/_vendor/packaging/markers.py\", line 278, in __init__\n",
            "    self._markers = _coerce_parse_result(MARKER.parseString(marker))\n",
            "  File \"/usr/local/lib/python3.10/dist-packages/pip/_vendor/pyparsing/core.py\", line 1131, in parse_string\n",
            "    loc, tokens = self._parse(instring, 0)\n",
            "  File \"/usr/local/lib/python3.10/dist-packages/pip/_vendor/pyparsing/core.py\", line 817, in _parseNoCache\n",
            "    loc, tokens = self.parseImpl(instring, pre_loc, doActions)\n",
            "  File \"/usr/local/lib/python3.10/dist-packages/pip/_vendor/pyparsing/core.py\", line 3886, in parseImpl\n",
            "    loc, exprtokens = e._parse(instring, loc, doActions)\n",
            "  File \"/usr/local/lib/python3.10/dist-packages/pip/_vendor/pyparsing/core.py\", line 825, in _parseNoCache\n",
            "    ret_tokens = ParseResults(\n",
            "  File \"/usr/local/lib/python3.10/dist-packages/pip/_vendor/pyparsing/results.py\", line 136, in __new__\n",
            "    def __new__(cls, toklist=None, name=None, **kwargs):\n",
            "KeyboardInterrupt\n",
            "\n",
            "During handling of the above exception, another exception occurred:\n",
            "\n",
            "Traceback (most recent call last):\n",
            "  File \"/usr/local/bin/pip3\", line 8, in <module>\n",
            "    sys.exit(main())\n",
            "  File \"/usr/local/lib/python3.10/dist-packages/pip/_internal/cli/main.py\", line 79, in main\n",
            "    return command.main(cmd_args)\n",
            "  File \"/usr/local/lib/python3.10/dist-packages/pip/_internal/cli/base_command.py\", line 101, in main\n",
            "    return self._main(args)\n",
            "  File \"/usr/local/lib/python3.10/dist-packages/pip/_internal/cli/base_command.py\", line 223, in _main\n",
            "    return run(options, args)\n",
            "  File \"/usr/local/lib/python3.10/dist-packages/pip/_internal/cli/base_command.py\", line 206, in exc_logging_wrapper\n",
            "    logger.critical(\"Operation cancelled by user\")\n",
            "  File \"/usr/lib/python3.10/logging/__init__.py\", line 1524, in critical\n",
            "    self._log(CRITICAL, msg, args, **kwargs)\n",
            "  File \"/usr/lib/python3.10/logging/__init__.py\", line 1612, in _log\n",
            "    fn, lno, func, sinfo = self.findCaller(stack_info, stacklevel)\n",
            "  File \"/usr/lib/python3.10/logging/__init__.py\", line 1566, in findCaller\n",
            "    while hasattr(f, \"f_code\"):\n",
            "KeyboardInterrupt\n",
            "^C\n"
          ]
        }
      ],
      "source": [
        "!pip install tensorflow_addons"
      ]
    },
    {
      "cell_type": "code",
      "execution_count": null,
      "metadata": {
        "id": "uSlDU6Xx0mdm"
      },
      "outputs": [],
      "source": [
        "from tensorflow_addons.metrics import F1Score"
      ]
    },
    {
      "cell_type": "markdown",
      "metadata": {
        "id": "01spbdqEH7UK"
      },
      "source": [
        "# Models"
      ]
    },
    {
      "cell_type": "markdown",
      "metadata": {
        "id": "d2Ks9xKLmfEW"
      },
      "source": [
        "## Lexicon Approach\n",
        "\n",
        "For our lexicon approach, we will use\n",
        "\n",
        "Minqing Hu and Bing Liu. \"Mining and Summarizing Customer Reviews.\"\n",
        ";       Proceedings of the ACM SIGKDD International Conference on Knowledge\n",
        ";       Discovery and Data Mining (KDD-2004), Aug 22-25, 2004, Seattle,\n",
        ";       Washington, USA,\n",
        "\n",
        "Original Positive words: 2006\n",
        "Negative words: 4783\n",
        "Useful properties: includes mis-spellings, morphological variants, slang, and social-media mark-up\n",
        "\n",
        "See here for others: http://sentiment.christopherpotts.net/lexicons.html#resources\n",
        "\n",
        "We are using a variant of it, which as P = 2003 and N = 4780, which removes words in the intersection of both."
      ]
    },
    {
      "cell_type": "code",
      "execution_count": null,
      "metadata": {
        "id": "2-GygbVPJj_b"
      },
      "outputs": [],
      "source": [
        "liu_lex = pd.read_csv(\"/content/drive/MyDrive/liu-sentiment-lexicon/liu-sentiment-lexicon.csv\")"
      ]
    },
    {
      "cell_type": "code",
      "execution_count": null,
      "metadata": {
        "id": "Bi6aPCSqmywu"
      },
      "outputs": [],
      "source": [
        "# v simple preprocessing/text cleaning -----------------------------------------\n",
        "def clean_review_for_lexicon_approach(r):\n",
        "\n",
        "  # convert to string just in case\n",
        "  r = str(r)\n",
        "\n",
        "  # lower case\n",
        "  r_lower = r.lower()\n",
        "\n",
        "  # remove clausal punctuation\n",
        "  r_clean = re.sub(r\"[.,:;()]\", \"\", r_lower)\n",
        "\n",
        "  return r_clean\n",
        "\n",
        "# simple tokenization splitting on whitespace ----------------------------------\n",
        "def tokenize_review_for_lexicon_approach(r):\n",
        "\n",
        "  # clean the text with the above function\n",
        "  r = clean_review_for_lexicon_approach(r)\n",
        "\n",
        "  # split it on whitespace\n",
        "  r_split = r.split()\n",
        "\n",
        "  # convert to a pandas series\n",
        "  return pd.Series(r_split, name = 'word')\n",
        "\n",
        "\n",
        "# get the sentiment ------------------------------------------------------------\n",
        "def get_lexicon_based_sentiment(r):\n",
        "\n",
        "  # tokenize the review\n",
        "  tokenized_review = tokenize_review_for_lexicon_approach(r)\n",
        "\n",
        "  # do a left join\n",
        "  review_words_with_sentiment = pd.merge(left = tokenized_review, right = liu_lex, how = \"left\")\n",
        "\n",
        "  # remove the NaNs\n",
        "  review_words_with_sentiment = review_words_with_sentiment.dropna()\n",
        "\n",
        "  # get the score (mean of the sentiment scores)\n",
        "  score = np.mean(review_words_with_sentiment['sentiment'])\n",
        "\n",
        "  # get a class\n",
        "\n",
        "  if bool(score):\n",
        "    if score > 0:\n",
        "      return 'pos'\n",
        "    elif score < 0:\n",
        "      return 'neg'\n",
        "    else:\n",
        "      return random.choice(['pos', 'neg'])\n",
        "  else:\n",
        "    return random.choice(['pos', 'neg'])\n"
      ]
    },
    {
      "cell_type": "code",
      "execution_count": null,
      "metadata": {
        "colab": {
          "base_uri": "https://localhost:8080/"
        },
        "id": "i_edmna_L5I5",
        "outputId": "7d15c90f-8aca-4b99-8df7-54fdeea48d07"
      },
      "outputs": [
        {
          "output_type": "stream",
          "name": "stdout",
          "text": [
            "Train F1-score using lexicon approach: 0.7247\n"
          ]
        }
      ],
      "source": [
        "lex_model_train_preds = train_imdb['text'].apply(get_lexicon_based_sentiment)\n",
        "lex_model_train_f1_score = f1_score(train_imdb['label'], lex_model_train_preds, average = 'macro')\n",
        "print(f\"Train F1-score using lexicon approach: {lex_model_train_f1_score:.4f}\")"
      ]
    },
    {
      "cell_type": "code",
      "execution_count": null,
      "metadata": {
        "colab": {
          "base_uri": "https://localhost:8080/"
        },
        "id": "FFnUDzvuMga4",
        "outputId": "8a918f91-d1b9-430e-c6a5-07a549182bde"
      },
      "outputs": [
        {
          "output_type": "stream",
          "name": "stdout",
          "text": [
            "Dev F1-score using lexicon approach: 0.7233\n"
          ]
        }
      ],
      "source": [
        "lex_model_dev_preds = dev_imdb['text'].apply(get_lexicon_based_sentiment)\n",
        "lex_model_dev_f1_score = f1_score(dev_imdb['label'], lex_model_dev_preds, average = 'macro')\n",
        "print(f\"Dev F1-score using lexicon approach: {lex_model_dev_f1_score:.4f}\")"
      ]
    },
    {
      "cell_type": "markdown",
      "metadata": {
        "id": "8HUgmfFnmW7f"
      },
      "source": [
        "## Traditional NLP\n",
        "\n",
        "We will investigate (and tune) logistic regression on three (sparse) featurizations of the dataset:\n",
        "\n",
        "i) unigram model\n",
        "\n",
        "ii) unigram + bigram model\n",
        "\n",
        "iii) unigram + bigram + hand-built features"
      ]
    },
    {
      "cell_type": "markdown",
      "metadata": {
        "id": "djAcaSiFmcw2"
      },
      "source": [
        "### Preprocessing setup"
      ]
    },
    {
      "cell_type": "markdown",
      "metadata": {
        "id": "66QOwBf2P_yE"
      },
      "source": [
        "\n",
        "\n",
        "To preprocess the data, we will:\n",
        "* deal with negation;\n",
        "* tokenize the text according to a sentiment-aware tokenizer;\n",
        "* avoid stemming, case-folding, removal of stopwords.    "
      ]
    },
    {
      "cell_type": "code",
      "execution_count": null,
      "metadata": {
        "id": "zQRnjkQOR6is"
      },
      "outputs": [],
      "source": [
        "from nltk.tokenize import TweetTokenizer, TreebankWordTokenizer"
      ]
    },
    {
      "cell_type": "code",
      "execution_count": null,
      "metadata": {
        "id": "jcJOJRbWSREK"
      },
      "outputs": [],
      "source": [
        "potts_tokenizer = TweetTokenizer()\n",
        "tb_tokenizer = TreebankWordTokenizer()"
      ]
    },
    {
      "cell_type": "code",
      "execution_count": null,
      "metadata": {
        "colab": {
          "base_uri": "https://localhost:8080/"
        },
        "id": "bjh6L8ZmSTsb",
        "outputId": "1865a7b9-edec-453e-960b-e9393e63a5c2"
      },
      "outputs": [
        {
          "output_type": "execute_result",
          "data": {
            "text/plain": [
              "['@mygoodfriend', 'That', 'was', 'good', 'film', ':)']"
            ]
          },
          "metadata": {},
          "execution_count": 160
        }
      ],
      "source": [
        "potts_tokenizer.tokenize('@mygoodfriend That was good film :)')"
      ]
    },
    {
      "cell_type": "code",
      "execution_count": null,
      "metadata": {
        "colab": {
          "base_uri": "https://localhost:8080/"
        },
        "id": "FQ68OZqwTMeP",
        "outputId": "7f61fa33-a7b5-48da-b208-020b0af85f75"
      },
      "outputs": [
        {
          "output_type": "execute_result",
          "data": {
            "text/plain": [
              "['@', 'mygoodfriend', 'That', 'was', 'good', 'film', ':', ')']"
            ]
          },
          "metadata": {},
          "execution_count": 161
        }
      ],
      "source": [
        "tb_tokenizer.tokenize('@mygoodfriend That was good film :)')"
      ]
    },
    {
      "cell_type": "code",
      "execution_count": null,
      "metadata": {
        "id": "EtPOYcx8T_Le"
      },
      "outputs": [],
      "source": [
        "negation_list = ['not', 'never', 'no', 'nobody', 'noone', 'nowhere', 'never']"
      ]
    },
    {
      "cell_type": "code",
      "execution_count": null,
      "metadata": {
        "id": "y2hqWgZ5Tde2"
      },
      "outputs": [],
      "source": [
        "def preprocess_and_tokenize_document(review):\n",
        "\n",
        "  # tokenize it according to the TweetTokenizer\n",
        "  review_tokenized = potts_tokenizer.tokenize(review)\n",
        "  negated_review_tokenized = []\n",
        "\n",
        "\n",
        "  negation_in_memory = 0\n",
        "  for word in review_tokenized:\n",
        "    if re.search('[.,:;]', word):\n",
        "      negation_in_memory = 0\n",
        "      negated_review_tokenized.append(word)\n",
        "    elif \"n't\" in word or word in negation_list:\n",
        "      negation_in_memory = 1\n",
        "      negated_review_tokenized.append(word)\n",
        "    else:\n",
        "      if negation_in_memory == 1:\n",
        "        negated_review_tokenized.append(word + '_NEG')\n",
        "      else:\n",
        "        negated_review_tokenized.append(word)\n",
        "\n",
        "    # if \"n't\" in word or word in negation_list:\n",
        "    #   print(word + \"_NEG\")\n",
        "\n",
        "  return negated_review_tokenized"
      ]
    },
    {
      "cell_type": "markdown",
      "metadata": {
        "id": "pjz7WAsmmU7s"
      },
      "source": [
        "### Unigram Model"
      ]
    },
    {
      "cell_type": "code",
      "execution_count": null,
      "metadata": {
        "id": "Tg-8Yl8AQCs4"
      },
      "outputs": [],
      "source": [
        "from sklearn.feature_extraction.text import CountVectorizer"
      ]
    },
    {
      "cell_type": "code",
      "execution_count": null,
      "metadata": {
        "id": "-rFtECfLRTsp"
      },
      "outputs": [],
      "source": [
        "unigram_vectorizer = CountVectorizer(\n",
        "                                     lowercase = False,\n",
        "                                     preprocessor = None,\n",
        "                                     tokenizer = preprocess_and_tokenize_document,\n",
        "                                     ngram_range = (1,1),\n",
        "                                     min_df = 10,\n",
        "                                     binary = True)"
      ]
    },
    {
      "cell_type": "code",
      "execution_count": null,
      "metadata": {
        "id": "UsCLue8HpAHN"
      },
      "outputs": [],
      "source": [
        "from sklearn.linear_model import LogisticRegression"
      ]
    },
    {
      "cell_type": "code",
      "execution_count": null,
      "metadata": {
        "id": "Xx9mY8UrPo9_"
      },
      "outputs": [],
      "source": [
        "unigram_lr = LogisticRegression(max_iter = 10000, penalty = 'l2')"
      ]
    },
    {
      "cell_type": "code",
      "execution_count": null,
      "metadata": {
        "id": "EWkI0rMIeN0b"
      },
      "outputs": [],
      "source": [
        "from sklearn.model_selection import GridSearchCV\n",
        "\n",
        "C_vals =  [100, 50, 10, 1.0, 0.1, 0.01, 0.001]\n",
        "\n",
        "unigram_param_grid = {'C' : C_vals}\n",
        "\n",
        "unigram_gridsearch = GridSearchCV(unigram_lr, unigram_param_grid, scoring = 'f1_macro' , n_jobs = -1)"
      ]
    },
    {
      "cell_type": "code",
      "execution_count": null,
      "metadata": {
        "id": "ZjWdduGNPshG"
      },
      "outputs": [],
      "source": [
        "from sklearn.pipeline import Pipeline\n",
        "unigram_pipeline = Pipeline(steps = [\n",
        "    (\"unigram_preprocessor_and_tokenizer\", unigram_vectorizer),\n",
        "    (\"unigram_logit_gridsearch\", unigram_gridsearch)\n",
        "])"
      ]
    },
    {
      "cell_type": "code",
      "execution_count": null,
      "metadata": {
        "colab": {
          "base_uri": "https://localhost:8080/",
          "height": 316
        },
        "id": "cR2u89mPcHaH",
        "outputId": "9414cb31-1300-4513-eb7c-5295b391189b"
      },
      "outputs": [
        {
          "output_type": "stream",
          "name": "stderr",
          "text": [
            "/usr/local/lib/python3.10/dist-packages/sklearn/feature_extraction/text.py:528: UserWarning: The parameter 'token_pattern' will not be used since 'tokenizer' is not None'\n",
            "  warnings.warn(\n",
            "/usr/local/lib/python3.10/dist-packages/joblib/externals/loky/backend/fork_exec.py:38: RuntimeWarning: os.fork() was called. os.fork() is incompatible with multithreaded code, and JAX is multithreaded, so this will likely lead to a deadlock.\n",
            "  pid = os.fork()\n",
            "/usr/local/lib/python3.10/dist-packages/joblib/externals/loky/backend/fork_exec.py:38: RuntimeWarning: os.fork() was called. os.fork() is incompatible with multithreaded code, and JAX is multithreaded, so this will likely lead to a deadlock.\n",
            "  pid = os.fork()\n"
          ]
        },
        {
          "output_type": "execute_result",
          "data": {
            "text/plain": [
              "Pipeline(steps=[('unigram_preprocessor_and_tokenizer',\n",
              "                 CountVectorizer(binary=True, lowercase=False, min_df=10,\n",
              "                                 tokenizer=<function preprocess_and_tokenize_document at 0x7cd180965900>)),\n",
              "                ('unigram_logit_gridsearch',\n",
              "                 GridSearchCV(estimator=LogisticRegression(max_iter=10000),\n",
              "                              n_jobs=-1,\n",
              "                              param_grid={'C': [100, 50, 10, 1.0, 0.1, 0.01,\n",
              "                                                0.001]},\n",
              "                              scoring='f1_macro'))])"
            ],
            "text/html": [
              "<style>#sk-container-id-1 {color: black;background-color: white;}#sk-container-id-1 pre{padding: 0;}#sk-container-id-1 div.sk-toggleable {background-color: white;}#sk-container-id-1 label.sk-toggleable__label {cursor: pointer;display: block;width: 100%;margin-bottom: 0;padding: 0.3em;box-sizing: border-box;text-align: center;}#sk-container-id-1 label.sk-toggleable__label-arrow:before {content: \"▸\";float: left;margin-right: 0.25em;color: #696969;}#sk-container-id-1 label.sk-toggleable__label-arrow:hover:before {color: black;}#sk-container-id-1 div.sk-estimator:hover label.sk-toggleable__label-arrow:before {color: black;}#sk-container-id-1 div.sk-toggleable__content {max-height: 0;max-width: 0;overflow: hidden;text-align: left;background-color: #f0f8ff;}#sk-container-id-1 div.sk-toggleable__content pre {margin: 0.2em;color: black;border-radius: 0.25em;background-color: #f0f8ff;}#sk-container-id-1 input.sk-toggleable__control:checked~div.sk-toggleable__content {max-height: 200px;max-width: 100%;overflow: auto;}#sk-container-id-1 input.sk-toggleable__control:checked~label.sk-toggleable__label-arrow:before {content: \"▾\";}#sk-container-id-1 div.sk-estimator input.sk-toggleable__control:checked~label.sk-toggleable__label {background-color: #d4ebff;}#sk-container-id-1 div.sk-label input.sk-toggleable__control:checked~label.sk-toggleable__label {background-color: #d4ebff;}#sk-container-id-1 input.sk-hidden--visually {border: 0;clip: rect(1px 1px 1px 1px);clip: rect(1px, 1px, 1px, 1px);height: 1px;margin: -1px;overflow: hidden;padding: 0;position: absolute;width: 1px;}#sk-container-id-1 div.sk-estimator {font-family: monospace;background-color: #f0f8ff;border: 1px dotted black;border-radius: 0.25em;box-sizing: border-box;margin-bottom: 0.5em;}#sk-container-id-1 div.sk-estimator:hover {background-color: #d4ebff;}#sk-container-id-1 div.sk-parallel-item::after {content: \"\";width: 100%;border-bottom: 1px solid gray;flex-grow: 1;}#sk-container-id-1 div.sk-label:hover label.sk-toggleable__label {background-color: #d4ebff;}#sk-container-id-1 div.sk-serial::before {content: \"\";position: absolute;border-left: 1px solid gray;box-sizing: border-box;top: 0;bottom: 0;left: 50%;z-index: 0;}#sk-container-id-1 div.sk-serial {display: flex;flex-direction: column;align-items: center;background-color: white;padding-right: 0.2em;padding-left: 0.2em;position: relative;}#sk-container-id-1 div.sk-item {position: relative;z-index: 1;}#sk-container-id-1 div.sk-parallel {display: flex;align-items: stretch;justify-content: center;background-color: white;position: relative;}#sk-container-id-1 div.sk-item::before, #sk-container-id-1 div.sk-parallel-item::before {content: \"\";position: absolute;border-left: 1px solid gray;box-sizing: border-box;top: 0;bottom: 0;left: 50%;z-index: -1;}#sk-container-id-1 div.sk-parallel-item {display: flex;flex-direction: column;z-index: 1;position: relative;background-color: white;}#sk-container-id-1 div.sk-parallel-item:first-child::after {align-self: flex-end;width: 50%;}#sk-container-id-1 div.sk-parallel-item:last-child::after {align-self: flex-start;width: 50%;}#sk-container-id-1 div.sk-parallel-item:only-child::after {width: 0;}#sk-container-id-1 div.sk-dashed-wrapped {border: 1px dashed gray;margin: 0 0.4em 0.5em 0.4em;box-sizing: border-box;padding-bottom: 0.4em;background-color: white;}#sk-container-id-1 div.sk-label label {font-family: monospace;font-weight: bold;display: inline-block;line-height: 1.2em;}#sk-container-id-1 div.sk-label-container {text-align: center;}#sk-container-id-1 div.sk-container {/* jupyter's `normalize.less` sets `[hidden] { display: none; }` but bootstrap.min.css set `[hidden] { display: none !important; }` so we also need the `!important` here to be able to override the default hidden behavior on the sphinx rendered scikit-learn.org. See: https://github.com/scikit-learn/scikit-learn/issues/21755 */display: inline-block !important;position: relative;}#sk-container-id-1 div.sk-text-repr-fallback {display: none;}</style><div id=\"sk-container-id-1\" class=\"sk-top-container\"><div class=\"sk-text-repr-fallback\"><pre>Pipeline(steps=[(&#x27;unigram_preprocessor_and_tokenizer&#x27;,\n",
              "                 CountVectorizer(binary=True, lowercase=False, min_df=10,\n",
              "                                 tokenizer=&lt;function preprocess_and_tokenize_document at 0x7cd180965900&gt;)),\n",
              "                (&#x27;unigram_logit_gridsearch&#x27;,\n",
              "                 GridSearchCV(estimator=LogisticRegression(max_iter=10000),\n",
              "                              n_jobs=-1,\n",
              "                              param_grid={&#x27;C&#x27;: [100, 50, 10, 1.0, 0.1, 0.01,\n",
              "                                                0.001]},\n",
              "                              scoring=&#x27;f1_macro&#x27;))])</pre><b>In a Jupyter environment, please rerun this cell to show the HTML representation or trust the notebook. <br />On GitHub, the HTML representation is unable to render, please try loading this page with nbviewer.org.</b></div><div class=\"sk-container\" hidden><div class=\"sk-item sk-dashed-wrapped\"><div class=\"sk-label-container\"><div class=\"sk-label sk-toggleable\"><input class=\"sk-toggleable__control sk-hidden--visually\" id=\"sk-estimator-id-1\" type=\"checkbox\" ><label for=\"sk-estimator-id-1\" class=\"sk-toggleable__label sk-toggleable__label-arrow\">Pipeline</label><div class=\"sk-toggleable__content\"><pre>Pipeline(steps=[(&#x27;unigram_preprocessor_and_tokenizer&#x27;,\n",
              "                 CountVectorizer(binary=True, lowercase=False, min_df=10,\n",
              "                                 tokenizer=&lt;function preprocess_and_tokenize_document at 0x7cd180965900&gt;)),\n",
              "                (&#x27;unigram_logit_gridsearch&#x27;,\n",
              "                 GridSearchCV(estimator=LogisticRegression(max_iter=10000),\n",
              "                              n_jobs=-1,\n",
              "                              param_grid={&#x27;C&#x27;: [100, 50, 10, 1.0, 0.1, 0.01,\n",
              "                                                0.001]},\n",
              "                              scoring=&#x27;f1_macro&#x27;))])</pre></div></div></div><div class=\"sk-serial\"><div class=\"sk-item\"><div class=\"sk-estimator sk-toggleable\"><input class=\"sk-toggleable__control sk-hidden--visually\" id=\"sk-estimator-id-2\" type=\"checkbox\" ><label for=\"sk-estimator-id-2\" class=\"sk-toggleable__label sk-toggleable__label-arrow\">CountVectorizer</label><div class=\"sk-toggleable__content\"><pre>CountVectorizer(binary=True, lowercase=False, min_df=10,\n",
              "                tokenizer=&lt;function preprocess_and_tokenize_document at 0x7cd180965900&gt;)</pre></div></div></div><div class=\"sk-item sk-dashed-wrapped\"><div class=\"sk-label-container\"><div class=\"sk-label sk-toggleable\"><input class=\"sk-toggleable__control sk-hidden--visually\" id=\"sk-estimator-id-3\" type=\"checkbox\" ><label for=\"sk-estimator-id-3\" class=\"sk-toggleable__label sk-toggleable__label-arrow\">unigram_logit_gridsearch: GridSearchCV</label><div class=\"sk-toggleable__content\"><pre>GridSearchCV(estimator=LogisticRegression(max_iter=10000), n_jobs=-1,\n",
              "             param_grid={&#x27;C&#x27;: [100, 50, 10, 1.0, 0.1, 0.01, 0.001]},\n",
              "             scoring=&#x27;f1_macro&#x27;)</pre></div></div></div><div class=\"sk-parallel\"><div class=\"sk-parallel-item\"><div class=\"sk-item\"><div class=\"sk-label-container\"><div class=\"sk-label sk-toggleable\"><input class=\"sk-toggleable__control sk-hidden--visually\" id=\"sk-estimator-id-4\" type=\"checkbox\" ><label for=\"sk-estimator-id-4\" class=\"sk-toggleable__label sk-toggleable__label-arrow\">estimator: LogisticRegression</label><div class=\"sk-toggleable__content\"><pre>LogisticRegression(max_iter=10000)</pre></div></div></div><div class=\"sk-serial\"><div class=\"sk-item\"><div class=\"sk-estimator sk-toggleable\"><input class=\"sk-toggleable__control sk-hidden--visually\" id=\"sk-estimator-id-5\" type=\"checkbox\" ><label for=\"sk-estimator-id-5\" class=\"sk-toggleable__label sk-toggleable__label-arrow\">LogisticRegression</label><div class=\"sk-toggleable__content\"><pre>LogisticRegression(max_iter=10000)</pre></div></div></div></div></div></div></div></div></div></div></div></div>"
            ]
          },
          "metadata": {},
          "execution_count": 170
        }
      ],
      "source": [
        "unigram_pipeline.fit(train_imdb['text'].values, train_imdb['label'].values)"
      ]
    },
    {
      "cell_type": "code",
      "execution_count": null,
      "metadata": {
        "colab": {
          "base_uri": "https://localhost:8080/"
        },
        "id": "tnjGsMp-cedQ",
        "outputId": "3cd35cc2-e851-4fab-d9b2-168a62b51d48"
      },
      "outputs": [
        {
          "output_type": "stream",
          "name": "stdout",
          "text": [
            "Train F1-score using unigrams in logistic regression: 0.9857\n"
          ]
        }
      ],
      "source": [
        "unigram_lr_train_preds = unigram_pipeline.predict(train_imdb['text'].values)\n",
        "unigram_lr_train_f1_score = f1_score(train_imdb['label'], unigram_lr_train_preds, average = 'macro')\n",
        "print(f\"Train F1-score using unigrams in logistic regression: {unigram_lr_train_f1_score:.4f}\")"
      ]
    },
    {
      "cell_type": "code",
      "execution_count": null,
      "metadata": {
        "colab": {
          "base_uri": "https://localhost:8080/"
        },
        "id": "A_OaxBDFdOyS",
        "outputId": "ab68d1ff-558a-408d-edd4-48ea1e6e0c81"
      },
      "outputs": [
        {
          "output_type": "stream",
          "name": "stdout",
          "text": [
            "Dev F1-score using unigrams in logistic regression: 0.8584\n"
          ]
        }
      ],
      "source": [
        "unigram_lr_dev_preds = unigram_pipeline.predict(dev_imdb['text'].values)\n",
        "unigram_lr_dev_f1_score = f1_score(dev_imdb['label'], unigram_lr_dev_preds, average = 'macro')\n",
        "print(f\"Dev F1-score using unigrams in logistic regression: {unigram_lr_dev_f1_score:.4f}\")"
      ]
    },
    {
      "cell_type": "markdown",
      "metadata": {
        "id": "0uGSXUvLjXBx"
      },
      "source": [
        "### Bigram Model"
      ]
    },
    {
      "cell_type": "code",
      "execution_count": null,
      "metadata": {
        "id": "ERcdOXpvjXBx"
      },
      "outputs": [],
      "source": [
        "bigram_vectorizer = CountVectorizer(\n",
        "                                     lowercase = False,\n",
        "                                     preprocessor = None,\n",
        "                                     tokenizer = preprocess_and_tokenize_document,\n",
        "                                     ngram_range = (2,2),\n",
        "                                     min_df = 10,\n",
        "                                     binary = True)"
      ]
    },
    {
      "cell_type": "code",
      "execution_count": null,
      "metadata": {
        "id": "8V_mZlGJjXBx"
      },
      "outputs": [],
      "source": [
        "from sklearn.linear_model import LogisticRegression"
      ]
    },
    {
      "cell_type": "code",
      "execution_count": null,
      "metadata": {
        "id": "6fcfRcZ0jXBx"
      },
      "outputs": [],
      "source": [
        "bigram_lr = LogisticRegression(max_iter = 10000, penalty = 'l2')"
      ]
    },
    {
      "cell_type": "code",
      "execution_count": null,
      "metadata": {
        "id": "zgSish0MjXBx"
      },
      "outputs": [],
      "source": [
        "from sklearn.model_selection import GridSearchCV\n",
        "\n",
        "C_vals =  [100, 50, 10, 1.0, 0.1, 0.01, 0.001]\n",
        "\n",
        "bigram_param_grid = {'C' : C_vals}\n",
        "\n",
        "bigram_gridsearch = GridSearchCV(bigram_lr, bigram_param_grid, scoring = 'f1_macro' , n_jobs = -1)"
      ]
    },
    {
      "cell_type": "code",
      "execution_count": null,
      "metadata": {
        "id": "iP3fnBSMjXBx"
      },
      "outputs": [],
      "source": [
        "from sklearn.pipeline import Pipeline\n",
        "bigram_pipeline = Pipeline(steps = [\n",
        "    (\"bigram_preprocessor_and_tokenizer\", bigram_vectorizer),\n",
        "    (\"bigram_logit_gridsearch\", bigram_gridsearch)\n",
        "])"
      ]
    },
    {
      "cell_type": "code",
      "execution_count": null,
      "metadata": {
        "colab": {
          "base_uri": "https://localhost:8080/",
          "height": 247
        },
        "id": "KRgL_mzQjXBy",
        "outputId": "88e9e268-efc9-45d2-c410-4d797e2b69ae"
      },
      "outputs": [
        {
          "output_type": "stream",
          "name": "stderr",
          "text": [
            "/usr/local/lib/python3.10/dist-packages/sklearn/feature_extraction/text.py:528: UserWarning: The parameter 'token_pattern' will not be used since 'tokenizer' is not None'\n",
            "  warnings.warn(\n"
          ]
        },
        {
          "output_type": "execute_result",
          "data": {
            "text/plain": [
              "Pipeline(steps=[('bigram_preprocessor_and_tokenizer',\n",
              "                 CountVectorizer(binary=True, lowercase=False, min_df=10,\n",
              "                                 ngram_range=(2, 2),\n",
              "                                 tokenizer=<function preprocess_and_tokenize_document at 0x7cd180965900>)),\n",
              "                ('bigram_logit_gridsearch',\n",
              "                 GridSearchCV(estimator=LogisticRegression(max_iter=10000),\n",
              "                              n_jobs=-1,\n",
              "                              param_grid={'C': [100, 50, 10, 1.0, 0.1, 0.01,\n",
              "                                                0.001]},\n",
              "                              scoring='f1_macro'))])"
            ],
            "text/html": [
              "<style>#sk-container-id-2 {color: black;background-color: white;}#sk-container-id-2 pre{padding: 0;}#sk-container-id-2 div.sk-toggleable {background-color: white;}#sk-container-id-2 label.sk-toggleable__label {cursor: pointer;display: block;width: 100%;margin-bottom: 0;padding: 0.3em;box-sizing: border-box;text-align: center;}#sk-container-id-2 label.sk-toggleable__label-arrow:before {content: \"▸\";float: left;margin-right: 0.25em;color: #696969;}#sk-container-id-2 label.sk-toggleable__label-arrow:hover:before {color: black;}#sk-container-id-2 div.sk-estimator:hover label.sk-toggleable__label-arrow:before {color: black;}#sk-container-id-2 div.sk-toggleable__content {max-height: 0;max-width: 0;overflow: hidden;text-align: left;background-color: #f0f8ff;}#sk-container-id-2 div.sk-toggleable__content pre {margin: 0.2em;color: black;border-radius: 0.25em;background-color: #f0f8ff;}#sk-container-id-2 input.sk-toggleable__control:checked~div.sk-toggleable__content {max-height: 200px;max-width: 100%;overflow: auto;}#sk-container-id-2 input.sk-toggleable__control:checked~label.sk-toggleable__label-arrow:before {content: \"▾\";}#sk-container-id-2 div.sk-estimator input.sk-toggleable__control:checked~label.sk-toggleable__label {background-color: #d4ebff;}#sk-container-id-2 div.sk-label input.sk-toggleable__control:checked~label.sk-toggleable__label {background-color: #d4ebff;}#sk-container-id-2 input.sk-hidden--visually {border: 0;clip: rect(1px 1px 1px 1px);clip: rect(1px, 1px, 1px, 1px);height: 1px;margin: -1px;overflow: hidden;padding: 0;position: absolute;width: 1px;}#sk-container-id-2 div.sk-estimator {font-family: monospace;background-color: #f0f8ff;border: 1px dotted black;border-radius: 0.25em;box-sizing: border-box;margin-bottom: 0.5em;}#sk-container-id-2 div.sk-estimator:hover {background-color: #d4ebff;}#sk-container-id-2 div.sk-parallel-item::after {content: \"\";width: 100%;border-bottom: 1px solid gray;flex-grow: 1;}#sk-container-id-2 div.sk-label:hover label.sk-toggleable__label {background-color: #d4ebff;}#sk-container-id-2 div.sk-serial::before {content: \"\";position: absolute;border-left: 1px solid gray;box-sizing: border-box;top: 0;bottom: 0;left: 50%;z-index: 0;}#sk-container-id-2 div.sk-serial {display: flex;flex-direction: column;align-items: center;background-color: white;padding-right: 0.2em;padding-left: 0.2em;position: relative;}#sk-container-id-2 div.sk-item {position: relative;z-index: 1;}#sk-container-id-2 div.sk-parallel {display: flex;align-items: stretch;justify-content: center;background-color: white;position: relative;}#sk-container-id-2 div.sk-item::before, #sk-container-id-2 div.sk-parallel-item::before {content: \"\";position: absolute;border-left: 1px solid gray;box-sizing: border-box;top: 0;bottom: 0;left: 50%;z-index: -1;}#sk-container-id-2 div.sk-parallel-item {display: flex;flex-direction: column;z-index: 1;position: relative;background-color: white;}#sk-container-id-2 div.sk-parallel-item:first-child::after {align-self: flex-end;width: 50%;}#sk-container-id-2 div.sk-parallel-item:last-child::after {align-self: flex-start;width: 50%;}#sk-container-id-2 div.sk-parallel-item:only-child::after {width: 0;}#sk-container-id-2 div.sk-dashed-wrapped {border: 1px dashed gray;margin: 0 0.4em 0.5em 0.4em;box-sizing: border-box;padding-bottom: 0.4em;background-color: white;}#sk-container-id-2 div.sk-label label {font-family: monospace;font-weight: bold;display: inline-block;line-height: 1.2em;}#sk-container-id-2 div.sk-label-container {text-align: center;}#sk-container-id-2 div.sk-container {/* jupyter's `normalize.less` sets `[hidden] { display: none; }` but bootstrap.min.css set `[hidden] { display: none !important; }` so we also need the `!important` here to be able to override the default hidden behavior on the sphinx rendered scikit-learn.org. See: https://github.com/scikit-learn/scikit-learn/issues/21755 */display: inline-block !important;position: relative;}#sk-container-id-2 div.sk-text-repr-fallback {display: none;}</style><div id=\"sk-container-id-2\" class=\"sk-top-container\"><div class=\"sk-text-repr-fallback\"><pre>Pipeline(steps=[(&#x27;bigram_preprocessor_and_tokenizer&#x27;,\n",
              "                 CountVectorizer(binary=True, lowercase=False, min_df=10,\n",
              "                                 ngram_range=(2, 2),\n",
              "                                 tokenizer=&lt;function preprocess_and_tokenize_document at 0x7cd180965900&gt;)),\n",
              "                (&#x27;bigram_logit_gridsearch&#x27;,\n",
              "                 GridSearchCV(estimator=LogisticRegression(max_iter=10000),\n",
              "                              n_jobs=-1,\n",
              "                              param_grid={&#x27;C&#x27;: [100, 50, 10, 1.0, 0.1, 0.01,\n",
              "                                                0.001]},\n",
              "                              scoring=&#x27;f1_macro&#x27;))])</pre><b>In a Jupyter environment, please rerun this cell to show the HTML representation or trust the notebook. <br />On GitHub, the HTML representation is unable to render, please try loading this page with nbviewer.org.</b></div><div class=\"sk-container\" hidden><div class=\"sk-item sk-dashed-wrapped\"><div class=\"sk-label-container\"><div class=\"sk-label sk-toggleable\"><input class=\"sk-toggleable__control sk-hidden--visually\" id=\"sk-estimator-id-6\" type=\"checkbox\" ><label for=\"sk-estimator-id-6\" class=\"sk-toggleable__label sk-toggleable__label-arrow\">Pipeline</label><div class=\"sk-toggleable__content\"><pre>Pipeline(steps=[(&#x27;bigram_preprocessor_and_tokenizer&#x27;,\n",
              "                 CountVectorizer(binary=True, lowercase=False, min_df=10,\n",
              "                                 ngram_range=(2, 2),\n",
              "                                 tokenizer=&lt;function preprocess_and_tokenize_document at 0x7cd180965900&gt;)),\n",
              "                (&#x27;bigram_logit_gridsearch&#x27;,\n",
              "                 GridSearchCV(estimator=LogisticRegression(max_iter=10000),\n",
              "                              n_jobs=-1,\n",
              "                              param_grid={&#x27;C&#x27;: [100, 50, 10, 1.0, 0.1, 0.01,\n",
              "                                                0.001]},\n",
              "                              scoring=&#x27;f1_macro&#x27;))])</pre></div></div></div><div class=\"sk-serial\"><div class=\"sk-item\"><div class=\"sk-estimator sk-toggleable\"><input class=\"sk-toggleable__control sk-hidden--visually\" id=\"sk-estimator-id-7\" type=\"checkbox\" ><label for=\"sk-estimator-id-7\" class=\"sk-toggleable__label sk-toggleable__label-arrow\">CountVectorizer</label><div class=\"sk-toggleable__content\"><pre>CountVectorizer(binary=True, lowercase=False, min_df=10, ngram_range=(2, 2),\n",
              "                tokenizer=&lt;function preprocess_and_tokenize_document at 0x7cd180965900&gt;)</pre></div></div></div><div class=\"sk-item sk-dashed-wrapped\"><div class=\"sk-label-container\"><div class=\"sk-label sk-toggleable\"><input class=\"sk-toggleable__control sk-hidden--visually\" id=\"sk-estimator-id-8\" type=\"checkbox\" ><label for=\"sk-estimator-id-8\" class=\"sk-toggleable__label sk-toggleable__label-arrow\">bigram_logit_gridsearch: GridSearchCV</label><div class=\"sk-toggleable__content\"><pre>GridSearchCV(estimator=LogisticRegression(max_iter=10000), n_jobs=-1,\n",
              "             param_grid={&#x27;C&#x27;: [100, 50, 10, 1.0, 0.1, 0.01, 0.001]},\n",
              "             scoring=&#x27;f1_macro&#x27;)</pre></div></div></div><div class=\"sk-parallel\"><div class=\"sk-parallel-item\"><div class=\"sk-item\"><div class=\"sk-label-container\"><div class=\"sk-label sk-toggleable\"><input class=\"sk-toggleable__control sk-hidden--visually\" id=\"sk-estimator-id-9\" type=\"checkbox\" ><label for=\"sk-estimator-id-9\" class=\"sk-toggleable__label sk-toggleable__label-arrow\">estimator: LogisticRegression</label><div class=\"sk-toggleable__content\"><pre>LogisticRegression(max_iter=10000)</pre></div></div></div><div class=\"sk-serial\"><div class=\"sk-item\"><div class=\"sk-estimator sk-toggleable\"><input class=\"sk-toggleable__control sk-hidden--visually\" id=\"sk-estimator-id-10\" type=\"checkbox\" ><label for=\"sk-estimator-id-10\" class=\"sk-toggleable__label sk-toggleable__label-arrow\">LogisticRegression</label><div class=\"sk-toggleable__content\"><pre>LogisticRegression(max_iter=10000)</pre></div></div></div></div></div></div></div></div></div></div></div></div>"
            ]
          },
          "metadata": {},
          "execution_count": 178
        }
      ],
      "source": [
        "bigram_pipeline.fit(train_imdb['text'].values, train_imdb['label'].values)"
      ]
    },
    {
      "cell_type": "code",
      "execution_count": null,
      "metadata": {
        "colab": {
          "base_uri": "https://localhost:8080/",
          "height": 192
        },
        "id": "CXx5rTwZjXBy",
        "outputId": "7542a4cd-8a43-47f4-9c1b-cc3b754e6f66"
      },
      "outputs": [
        {
          "output_type": "execute_result",
          "data": {
            "text/plain": [
              "Pipeline(steps=[('bigram_preprocessor_and_tokenizer',\n",
              "                 CountVectorizer(binary=True, lowercase=False, min_df=10,\n",
              "                                 ngram_range=(2, 2),\n",
              "                                 tokenizer=<function preprocess_and_tokenize_document at 0x7cd180965900>)),\n",
              "                ('bigram_logit_gridsearch',\n",
              "                 GridSearchCV(estimator=LogisticRegression(max_iter=10000),\n",
              "                              n_jobs=-1,\n",
              "                              param_grid={'C': [100, 50, 10, 1.0, 0.1, 0.01,\n",
              "                                                0.001]},\n",
              "                              scoring='f1_macro'))])"
            ],
            "text/html": [
              "<style>#sk-container-id-3 {color: black;background-color: white;}#sk-container-id-3 pre{padding: 0;}#sk-container-id-3 div.sk-toggleable {background-color: white;}#sk-container-id-3 label.sk-toggleable__label {cursor: pointer;display: block;width: 100%;margin-bottom: 0;padding: 0.3em;box-sizing: border-box;text-align: center;}#sk-container-id-3 label.sk-toggleable__label-arrow:before {content: \"▸\";float: left;margin-right: 0.25em;color: #696969;}#sk-container-id-3 label.sk-toggleable__label-arrow:hover:before {color: black;}#sk-container-id-3 div.sk-estimator:hover label.sk-toggleable__label-arrow:before {color: black;}#sk-container-id-3 div.sk-toggleable__content {max-height: 0;max-width: 0;overflow: hidden;text-align: left;background-color: #f0f8ff;}#sk-container-id-3 div.sk-toggleable__content pre {margin: 0.2em;color: black;border-radius: 0.25em;background-color: #f0f8ff;}#sk-container-id-3 input.sk-toggleable__control:checked~div.sk-toggleable__content {max-height: 200px;max-width: 100%;overflow: auto;}#sk-container-id-3 input.sk-toggleable__control:checked~label.sk-toggleable__label-arrow:before {content: \"▾\";}#sk-container-id-3 div.sk-estimator input.sk-toggleable__control:checked~label.sk-toggleable__label {background-color: #d4ebff;}#sk-container-id-3 div.sk-label input.sk-toggleable__control:checked~label.sk-toggleable__label {background-color: #d4ebff;}#sk-container-id-3 input.sk-hidden--visually {border: 0;clip: rect(1px 1px 1px 1px);clip: rect(1px, 1px, 1px, 1px);height: 1px;margin: -1px;overflow: hidden;padding: 0;position: absolute;width: 1px;}#sk-container-id-3 div.sk-estimator {font-family: monospace;background-color: #f0f8ff;border: 1px dotted black;border-radius: 0.25em;box-sizing: border-box;margin-bottom: 0.5em;}#sk-container-id-3 div.sk-estimator:hover {background-color: #d4ebff;}#sk-container-id-3 div.sk-parallel-item::after {content: \"\";width: 100%;border-bottom: 1px solid gray;flex-grow: 1;}#sk-container-id-3 div.sk-label:hover label.sk-toggleable__label {background-color: #d4ebff;}#sk-container-id-3 div.sk-serial::before {content: \"\";position: absolute;border-left: 1px solid gray;box-sizing: border-box;top: 0;bottom: 0;left: 50%;z-index: 0;}#sk-container-id-3 div.sk-serial {display: flex;flex-direction: column;align-items: center;background-color: white;padding-right: 0.2em;padding-left: 0.2em;position: relative;}#sk-container-id-3 div.sk-item {position: relative;z-index: 1;}#sk-container-id-3 div.sk-parallel {display: flex;align-items: stretch;justify-content: center;background-color: white;position: relative;}#sk-container-id-3 div.sk-item::before, #sk-container-id-3 div.sk-parallel-item::before {content: \"\";position: absolute;border-left: 1px solid gray;box-sizing: border-box;top: 0;bottom: 0;left: 50%;z-index: -1;}#sk-container-id-3 div.sk-parallel-item {display: flex;flex-direction: column;z-index: 1;position: relative;background-color: white;}#sk-container-id-3 div.sk-parallel-item:first-child::after {align-self: flex-end;width: 50%;}#sk-container-id-3 div.sk-parallel-item:last-child::after {align-self: flex-start;width: 50%;}#sk-container-id-3 div.sk-parallel-item:only-child::after {width: 0;}#sk-container-id-3 div.sk-dashed-wrapped {border: 1px dashed gray;margin: 0 0.4em 0.5em 0.4em;box-sizing: border-box;padding-bottom: 0.4em;background-color: white;}#sk-container-id-3 div.sk-label label {font-family: monospace;font-weight: bold;display: inline-block;line-height: 1.2em;}#sk-container-id-3 div.sk-label-container {text-align: center;}#sk-container-id-3 div.sk-container {/* jupyter's `normalize.less` sets `[hidden] { display: none; }` but bootstrap.min.css set `[hidden] { display: none !important; }` so we also need the `!important` here to be able to override the default hidden behavior on the sphinx rendered scikit-learn.org. See: https://github.com/scikit-learn/scikit-learn/issues/21755 */display: inline-block !important;position: relative;}#sk-container-id-3 div.sk-text-repr-fallback {display: none;}</style><div id=\"sk-container-id-3\" class=\"sk-top-container\"><div class=\"sk-text-repr-fallback\"><pre>Pipeline(steps=[(&#x27;bigram_preprocessor_and_tokenizer&#x27;,\n",
              "                 CountVectorizer(binary=True, lowercase=False, min_df=10,\n",
              "                                 ngram_range=(2, 2),\n",
              "                                 tokenizer=&lt;function preprocess_and_tokenize_document at 0x7cd180965900&gt;)),\n",
              "                (&#x27;bigram_logit_gridsearch&#x27;,\n",
              "                 GridSearchCV(estimator=LogisticRegression(max_iter=10000),\n",
              "                              n_jobs=-1,\n",
              "                              param_grid={&#x27;C&#x27;: [100, 50, 10, 1.0, 0.1, 0.01,\n",
              "                                                0.001]},\n",
              "                              scoring=&#x27;f1_macro&#x27;))])</pre><b>In a Jupyter environment, please rerun this cell to show the HTML representation or trust the notebook. <br />On GitHub, the HTML representation is unable to render, please try loading this page with nbviewer.org.</b></div><div class=\"sk-container\" hidden><div class=\"sk-item sk-dashed-wrapped\"><div class=\"sk-label-container\"><div class=\"sk-label sk-toggleable\"><input class=\"sk-toggleable__control sk-hidden--visually\" id=\"sk-estimator-id-11\" type=\"checkbox\" ><label for=\"sk-estimator-id-11\" class=\"sk-toggleable__label sk-toggleable__label-arrow\">Pipeline</label><div class=\"sk-toggleable__content\"><pre>Pipeline(steps=[(&#x27;bigram_preprocessor_and_tokenizer&#x27;,\n",
              "                 CountVectorizer(binary=True, lowercase=False, min_df=10,\n",
              "                                 ngram_range=(2, 2),\n",
              "                                 tokenizer=&lt;function preprocess_and_tokenize_document at 0x7cd180965900&gt;)),\n",
              "                (&#x27;bigram_logit_gridsearch&#x27;,\n",
              "                 GridSearchCV(estimator=LogisticRegression(max_iter=10000),\n",
              "                              n_jobs=-1,\n",
              "                              param_grid={&#x27;C&#x27;: [100, 50, 10, 1.0, 0.1, 0.01,\n",
              "                                                0.001]},\n",
              "                              scoring=&#x27;f1_macro&#x27;))])</pre></div></div></div><div class=\"sk-serial\"><div class=\"sk-item\"><div class=\"sk-estimator sk-toggleable\"><input class=\"sk-toggleable__control sk-hidden--visually\" id=\"sk-estimator-id-12\" type=\"checkbox\" ><label for=\"sk-estimator-id-12\" class=\"sk-toggleable__label sk-toggleable__label-arrow\">CountVectorizer</label><div class=\"sk-toggleable__content\"><pre>CountVectorizer(binary=True, lowercase=False, min_df=10, ngram_range=(2, 2),\n",
              "                tokenizer=&lt;function preprocess_and_tokenize_document at 0x7cd180965900&gt;)</pre></div></div></div><div class=\"sk-item sk-dashed-wrapped\"><div class=\"sk-label-container\"><div class=\"sk-label sk-toggleable\"><input class=\"sk-toggleable__control sk-hidden--visually\" id=\"sk-estimator-id-13\" type=\"checkbox\" ><label for=\"sk-estimator-id-13\" class=\"sk-toggleable__label sk-toggleable__label-arrow\">bigram_logit_gridsearch: GridSearchCV</label><div class=\"sk-toggleable__content\"><pre>GridSearchCV(estimator=LogisticRegression(max_iter=10000), n_jobs=-1,\n",
              "             param_grid={&#x27;C&#x27;: [100, 50, 10, 1.0, 0.1, 0.01, 0.001]},\n",
              "             scoring=&#x27;f1_macro&#x27;)</pre></div></div></div><div class=\"sk-parallel\"><div class=\"sk-parallel-item\"><div class=\"sk-item\"><div class=\"sk-label-container\"><div class=\"sk-label sk-toggleable\"><input class=\"sk-toggleable__control sk-hidden--visually\" id=\"sk-estimator-id-14\" type=\"checkbox\" ><label for=\"sk-estimator-id-14\" class=\"sk-toggleable__label sk-toggleable__label-arrow\">estimator: LogisticRegression</label><div class=\"sk-toggleable__content\"><pre>LogisticRegression(max_iter=10000)</pre></div></div></div><div class=\"sk-serial\"><div class=\"sk-item\"><div class=\"sk-estimator sk-toggleable\"><input class=\"sk-toggleable__control sk-hidden--visually\" id=\"sk-estimator-id-15\" type=\"checkbox\" ><label for=\"sk-estimator-id-15\" class=\"sk-toggleable__label sk-toggleable__label-arrow\">LogisticRegression</label><div class=\"sk-toggleable__content\"><pre>LogisticRegression(max_iter=10000)</pre></div></div></div></div></div></div></div></div></div></div></div></div>"
            ]
          },
          "metadata": {},
          "execution_count": 179
        }
      ],
      "source": [
        "bigram_pipeline"
      ]
    },
    {
      "cell_type": "code",
      "execution_count": null,
      "metadata": {
        "colab": {
          "base_uri": "https://localhost:8080/"
        },
        "id": "t5xYYMP7jXBy",
        "outputId": "a8a704e4-ecfe-435f-fdbd-629938d0954f"
      },
      "outputs": [
        {
          "output_type": "stream",
          "name": "stdout",
          "text": [
            "Train F1-score using unigrams+bigrams in logistic regression: 0.9947\n"
          ]
        }
      ],
      "source": [
        "bigram_lr_train_preds = bigram_pipeline.predict(train_imdb['text'].values)\n",
        "bigram_lr_train_f1_score = f1_score(train_imdb['label'], bigram_lr_train_preds, average = 'macro')\n",
        "print(f\"Train F1-score using unigrams+bigrams in logistic regression: {bigram_lr_train_f1_score:.4f}\")"
      ]
    },
    {
      "cell_type": "code",
      "execution_count": null,
      "metadata": {
        "colab": {
          "base_uri": "https://localhost:8080/"
        },
        "id": "5cGBMGYUjXBy",
        "outputId": "69ff2693-e807-4345-d8f3-676a9a25a848"
      },
      "outputs": [
        {
          "output_type": "stream",
          "name": "stdout",
          "text": [
            "Dev F1-score using unigrams+bigrams in logistic regression: 0.8295\n"
          ]
        }
      ],
      "source": [
        "bigram_lr_dev_preds = bigram_pipeline.predict(dev_imdb['text'].values)\n",
        "bigram_lr_dev_f1_score = f1_score(dev_imdb['label'], bigram_lr_dev_preds, average = 'macro')\n",
        "print(f\"Dev F1-score using unigrams+bigrams in logistic regression: {bigram_lr_dev_f1_score:.4f}\")"
      ]
    },
    {
      "cell_type": "code",
      "execution_count": null,
      "metadata": {
        "id": "mIL5jKK6jXBy"
      },
      "outputs": [],
      "source": []
    },
    {
      "cell_type": "markdown",
      "metadata": {
        "id": "VdrWtI4yhj-4"
      },
      "source": [
        "### Unigram + Bigram Model"
      ]
    },
    {
      "cell_type": "code",
      "execution_count": null,
      "metadata": {
        "id": "JfSWvPK0hkRH"
      },
      "outputs": [],
      "source": [
        "unibigram_vectorizer = CountVectorizer(\n",
        "                                     lowercase = True,\n",
        "                                     preprocessor = None,\n",
        "                                     tokenizer = preprocess_and_tokenize_document,\n",
        "                                     ngram_range = (1,2),\n",
        "                                     min_df = 10,\n",
        "                                     binary = True)"
      ]
    },
    {
      "cell_type": "code",
      "execution_count": null,
      "metadata": {
        "id": "8kpu0jAKhkRH"
      },
      "outputs": [],
      "source": [
        "from sklearn.linear_model import LogisticRegression"
      ]
    },
    {
      "cell_type": "code",
      "execution_count": null,
      "metadata": {
        "id": "NA-IJAeLhkRH"
      },
      "outputs": [],
      "source": [
        "unibigram_lr = LogisticRegression(max_iter = 10000, penalty = 'l2')"
      ]
    },
    {
      "cell_type": "code",
      "execution_count": null,
      "metadata": {
        "id": "ptOiBLZUhkRH"
      },
      "outputs": [],
      "source": [
        "from sklearn.model_selection import GridSearchCV\n",
        "\n",
        "C_vals =  [100, 50, 10, 1.0, 0.1, 0.01, 0.001]\n",
        "\n",
        "unibigram_param_grid = {'C' : C_vals}\n",
        "\n",
        "unibigram_gridsearch = GridSearchCV(unibigram_lr, unibigram_param_grid, scoring = 'f1_macro' , n_jobs = -1)"
      ]
    },
    {
      "cell_type": "code",
      "execution_count": null,
      "metadata": {
        "id": "CxFWuWJYhkRI"
      },
      "outputs": [],
      "source": [
        "from sklearn.pipeline import Pipeline\n",
        "unibigram_pipeline = Pipeline(steps = [\n",
        "    (\"unibigram_preprocessor_and_tokenizer\", unibigram_vectorizer),\n",
        "    (\"unibigram_logit_gridsearch\", unibigram_gridsearch)\n",
        "])"
      ]
    },
    {
      "cell_type": "code",
      "execution_count": null,
      "metadata": {
        "colab": {
          "base_uri": "https://localhost:8080/",
          "height": 247
        },
        "id": "Ok9Tmd4mhkRI",
        "outputId": "acd2443e-cda3-445e-b32a-3fcdd226afee"
      },
      "outputs": [
        {
          "output_type": "stream",
          "name": "stderr",
          "text": [
            "/usr/local/lib/python3.10/dist-packages/sklearn/feature_extraction/text.py:528: UserWarning: The parameter 'token_pattern' will not be used since 'tokenizer' is not None'\n",
            "  warnings.warn(\n"
          ]
        },
        {
          "output_type": "execute_result",
          "data": {
            "text/plain": [
              "Pipeline(steps=[('unibigram_preprocessor_and_tokenizer',\n",
              "                 CountVectorizer(binary=True, min_df=10, ngram_range=(1, 2),\n",
              "                                 tokenizer=<function preprocess_and_tokenize_document at 0x7cd180965900>)),\n",
              "                ('unibigram_logit_gridsearch',\n",
              "                 GridSearchCV(estimator=LogisticRegression(max_iter=10000),\n",
              "                              n_jobs=-1,\n",
              "                              param_grid={'C': [100, 50, 10, 1.0, 0.1, 0.01,\n",
              "                                                0.001]},\n",
              "                              scoring='f1_macro'))])"
            ],
            "text/html": [
              "<style>#sk-container-id-4 {color: black;background-color: white;}#sk-container-id-4 pre{padding: 0;}#sk-container-id-4 div.sk-toggleable {background-color: white;}#sk-container-id-4 label.sk-toggleable__label {cursor: pointer;display: block;width: 100%;margin-bottom: 0;padding: 0.3em;box-sizing: border-box;text-align: center;}#sk-container-id-4 label.sk-toggleable__label-arrow:before {content: \"▸\";float: left;margin-right: 0.25em;color: #696969;}#sk-container-id-4 label.sk-toggleable__label-arrow:hover:before {color: black;}#sk-container-id-4 div.sk-estimator:hover label.sk-toggleable__label-arrow:before {color: black;}#sk-container-id-4 div.sk-toggleable__content {max-height: 0;max-width: 0;overflow: hidden;text-align: left;background-color: #f0f8ff;}#sk-container-id-4 div.sk-toggleable__content pre {margin: 0.2em;color: black;border-radius: 0.25em;background-color: #f0f8ff;}#sk-container-id-4 input.sk-toggleable__control:checked~div.sk-toggleable__content {max-height: 200px;max-width: 100%;overflow: auto;}#sk-container-id-4 input.sk-toggleable__control:checked~label.sk-toggleable__label-arrow:before {content: \"▾\";}#sk-container-id-4 div.sk-estimator input.sk-toggleable__control:checked~label.sk-toggleable__label {background-color: #d4ebff;}#sk-container-id-4 div.sk-label input.sk-toggleable__control:checked~label.sk-toggleable__label {background-color: #d4ebff;}#sk-container-id-4 input.sk-hidden--visually {border: 0;clip: rect(1px 1px 1px 1px);clip: rect(1px, 1px, 1px, 1px);height: 1px;margin: -1px;overflow: hidden;padding: 0;position: absolute;width: 1px;}#sk-container-id-4 div.sk-estimator {font-family: monospace;background-color: #f0f8ff;border: 1px dotted black;border-radius: 0.25em;box-sizing: border-box;margin-bottom: 0.5em;}#sk-container-id-4 div.sk-estimator:hover {background-color: #d4ebff;}#sk-container-id-4 div.sk-parallel-item::after {content: \"\";width: 100%;border-bottom: 1px solid gray;flex-grow: 1;}#sk-container-id-4 div.sk-label:hover label.sk-toggleable__label {background-color: #d4ebff;}#sk-container-id-4 div.sk-serial::before {content: \"\";position: absolute;border-left: 1px solid gray;box-sizing: border-box;top: 0;bottom: 0;left: 50%;z-index: 0;}#sk-container-id-4 div.sk-serial {display: flex;flex-direction: column;align-items: center;background-color: white;padding-right: 0.2em;padding-left: 0.2em;position: relative;}#sk-container-id-4 div.sk-item {position: relative;z-index: 1;}#sk-container-id-4 div.sk-parallel {display: flex;align-items: stretch;justify-content: center;background-color: white;position: relative;}#sk-container-id-4 div.sk-item::before, #sk-container-id-4 div.sk-parallel-item::before {content: \"\";position: absolute;border-left: 1px solid gray;box-sizing: border-box;top: 0;bottom: 0;left: 50%;z-index: -1;}#sk-container-id-4 div.sk-parallel-item {display: flex;flex-direction: column;z-index: 1;position: relative;background-color: white;}#sk-container-id-4 div.sk-parallel-item:first-child::after {align-self: flex-end;width: 50%;}#sk-container-id-4 div.sk-parallel-item:last-child::after {align-self: flex-start;width: 50%;}#sk-container-id-4 div.sk-parallel-item:only-child::after {width: 0;}#sk-container-id-4 div.sk-dashed-wrapped {border: 1px dashed gray;margin: 0 0.4em 0.5em 0.4em;box-sizing: border-box;padding-bottom: 0.4em;background-color: white;}#sk-container-id-4 div.sk-label label {font-family: monospace;font-weight: bold;display: inline-block;line-height: 1.2em;}#sk-container-id-4 div.sk-label-container {text-align: center;}#sk-container-id-4 div.sk-container {/* jupyter's `normalize.less` sets `[hidden] { display: none; }` but bootstrap.min.css set `[hidden] { display: none !important; }` so we also need the `!important` here to be able to override the default hidden behavior on the sphinx rendered scikit-learn.org. See: https://github.com/scikit-learn/scikit-learn/issues/21755 */display: inline-block !important;position: relative;}#sk-container-id-4 div.sk-text-repr-fallback {display: none;}</style><div id=\"sk-container-id-4\" class=\"sk-top-container\"><div class=\"sk-text-repr-fallback\"><pre>Pipeline(steps=[(&#x27;unibigram_preprocessor_and_tokenizer&#x27;,\n",
              "                 CountVectorizer(binary=True, min_df=10, ngram_range=(1, 2),\n",
              "                                 tokenizer=&lt;function preprocess_and_tokenize_document at 0x7cd180965900&gt;)),\n",
              "                (&#x27;unibigram_logit_gridsearch&#x27;,\n",
              "                 GridSearchCV(estimator=LogisticRegression(max_iter=10000),\n",
              "                              n_jobs=-1,\n",
              "                              param_grid={&#x27;C&#x27;: [100, 50, 10, 1.0, 0.1, 0.01,\n",
              "                                                0.001]},\n",
              "                              scoring=&#x27;f1_macro&#x27;))])</pre><b>In a Jupyter environment, please rerun this cell to show the HTML representation or trust the notebook. <br />On GitHub, the HTML representation is unable to render, please try loading this page with nbviewer.org.</b></div><div class=\"sk-container\" hidden><div class=\"sk-item sk-dashed-wrapped\"><div class=\"sk-label-container\"><div class=\"sk-label sk-toggleable\"><input class=\"sk-toggleable__control sk-hidden--visually\" id=\"sk-estimator-id-16\" type=\"checkbox\" ><label for=\"sk-estimator-id-16\" class=\"sk-toggleable__label sk-toggleable__label-arrow\">Pipeline</label><div class=\"sk-toggleable__content\"><pre>Pipeline(steps=[(&#x27;unibigram_preprocessor_and_tokenizer&#x27;,\n",
              "                 CountVectorizer(binary=True, min_df=10, ngram_range=(1, 2),\n",
              "                                 tokenizer=&lt;function preprocess_and_tokenize_document at 0x7cd180965900&gt;)),\n",
              "                (&#x27;unibigram_logit_gridsearch&#x27;,\n",
              "                 GridSearchCV(estimator=LogisticRegression(max_iter=10000),\n",
              "                              n_jobs=-1,\n",
              "                              param_grid={&#x27;C&#x27;: [100, 50, 10, 1.0, 0.1, 0.01,\n",
              "                                                0.001]},\n",
              "                              scoring=&#x27;f1_macro&#x27;))])</pre></div></div></div><div class=\"sk-serial\"><div class=\"sk-item\"><div class=\"sk-estimator sk-toggleable\"><input class=\"sk-toggleable__control sk-hidden--visually\" id=\"sk-estimator-id-17\" type=\"checkbox\" ><label for=\"sk-estimator-id-17\" class=\"sk-toggleable__label sk-toggleable__label-arrow\">CountVectorizer</label><div class=\"sk-toggleable__content\"><pre>CountVectorizer(binary=True, min_df=10, ngram_range=(1, 2),\n",
              "                tokenizer=&lt;function preprocess_and_tokenize_document at 0x7cd180965900&gt;)</pre></div></div></div><div class=\"sk-item sk-dashed-wrapped\"><div class=\"sk-label-container\"><div class=\"sk-label sk-toggleable\"><input class=\"sk-toggleable__control sk-hidden--visually\" id=\"sk-estimator-id-18\" type=\"checkbox\" ><label for=\"sk-estimator-id-18\" class=\"sk-toggleable__label sk-toggleable__label-arrow\">unibigram_logit_gridsearch: GridSearchCV</label><div class=\"sk-toggleable__content\"><pre>GridSearchCV(estimator=LogisticRegression(max_iter=10000), n_jobs=-1,\n",
              "             param_grid={&#x27;C&#x27;: [100, 50, 10, 1.0, 0.1, 0.01, 0.001]},\n",
              "             scoring=&#x27;f1_macro&#x27;)</pre></div></div></div><div class=\"sk-parallel\"><div class=\"sk-parallel-item\"><div class=\"sk-item\"><div class=\"sk-label-container\"><div class=\"sk-label sk-toggleable\"><input class=\"sk-toggleable__control sk-hidden--visually\" id=\"sk-estimator-id-19\" type=\"checkbox\" ><label for=\"sk-estimator-id-19\" class=\"sk-toggleable__label sk-toggleable__label-arrow\">estimator: LogisticRegression</label><div class=\"sk-toggleable__content\"><pre>LogisticRegression(max_iter=10000)</pre></div></div></div><div class=\"sk-serial\"><div class=\"sk-item\"><div class=\"sk-estimator sk-toggleable\"><input class=\"sk-toggleable__control sk-hidden--visually\" id=\"sk-estimator-id-20\" type=\"checkbox\" ><label for=\"sk-estimator-id-20\" class=\"sk-toggleable__label sk-toggleable__label-arrow\">LogisticRegression</label><div class=\"sk-toggleable__content\"><pre>LogisticRegression(max_iter=10000)</pre></div></div></div></div></div></div></div></div></div></div></div></div>"
            ]
          },
          "metadata": {},
          "execution_count": 187
        }
      ],
      "source": [
        "unibigram_pipeline.fit(train_imdb['text'].values, train_imdb['label'].values)"
      ]
    },
    {
      "cell_type": "code",
      "execution_count": null,
      "metadata": {
        "colab": {
          "base_uri": "https://localhost:8080/",
          "height": 92
        },
        "id": "TX4CTeaRiyUt",
        "outputId": "e8286d78-b510-47b0-d72e-9a6c62f2f52d"
      },
      "outputs": [
        {
          "output_type": "execute_result",
          "data": {
            "text/plain": [
              "CountVectorizer(binary=True, min_df=10, ngram_range=(1, 2),\n",
              "                tokenizer=<function preprocess_and_tokenize_document at 0x7cd180965900>)"
            ],
            "text/html": [
              "<style>#sk-container-id-5 {color: black;background-color: white;}#sk-container-id-5 pre{padding: 0;}#sk-container-id-5 div.sk-toggleable {background-color: white;}#sk-container-id-5 label.sk-toggleable__label {cursor: pointer;display: block;width: 100%;margin-bottom: 0;padding: 0.3em;box-sizing: border-box;text-align: center;}#sk-container-id-5 label.sk-toggleable__label-arrow:before {content: \"▸\";float: left;margin-right: 0.25em;color: #696969;}#sk-container-id-5 label.sk-toggleable__label-arrow:hover:before {color: black;}#sk-container-id-5 div.sk-estimator:hover label.sk-toggleable__label-arrow:before {color: black;}#sk-container-id-5 div.sk-toggleable__content {max-height: 0;max-width: 0;overflow: hidden;text-align: left;background-color: #f0f8ff;}#sk-container-id-5 div.sk-toggleable__content pre {margin: 0.2em;color: black;border-radius: 0.25em;background-color: #f0f8ff;}#sk-container-id-5 input.sk-toggleable__control:checked~div.sk-toggleable__content {max-height: 200px;max-width: 100%;overflow: auto;}#sk-container-id-5 input.sk-toggleable__control:checked~label.sk-toggleable__label-arrow:before {content: \"▾\";}#sk-container-id-5 div.sk-estimator input.sk-toggleable__control:checked~label.sk-toggleable__label {background-color: #d4ebff;}#sk-container-id-5 div.sk-label input.sk-toggleable__control:checked~label.sk-toggleable__label {background-color: #d4ebff;}#sk-container-id-5 input.sk-hidden--visually {border: 0;clip: rect(1px 1px 1px 1px);clip: rect(1px, 1px, 1px, 1px);height: 1px;margin: -1px;overflow: hidden;padding: 0;position: absolute;width: 1px;}#sk-container-id-5 div.sk-estimator {font-family: monospace;background-color: #f0f8ff;border: 1px dotted black;border-radius: 0.25em;box-sizing: border-box;margin-bottom: 0.5em;}#sk-container-id-5 div.sk-estimator:hover {background-color: #d4ebff;}#sk-container-id-5 div.sk-parallel-item::after {content: \"\";width: 100%;border-bottom: 1px solid gray;flex-grow: 1;}#sk-container-id-5 div.sk-label:hover label.sk-toggleable__label {background-color: #d4ebff;}#sk-container-id-5 div.sk-serial::before {content: \"\";position: absolute;border-left: 1px solid gray;box-sizing: border-box;top: 0;bottom: 0;left: 50%;z-index: 0;}#sk-container-id-5 div.sk-serial {display: flex;flex-direction: column;align-items: center;background-color: white;padding-right: 0.2em;padding-left: 0.2em;position: relative;}#sk-container-id-5 div.sk-item {position: relative;z-index: 1;}#sk-container-id-5 div.sk-parallel {display: flex;align-items: stretch;justify-content: center;background-color: white;position: relative;}#sk-container-id-5 div.sk-item::before, #sk-container-id-5 div.sk-parallel-item::before {content: \"\";position: absolute;border-left: 1px solid gray;box-sizing: border-box;top: 0;bottom: 0;left: 50%;z-index: -1;}#sk-container-id-5 div.sk-parallel-item {display: flex;flex-direction: column;z-index: 1;position: relative;background-color: white;}#sk-container-id-5 div.sk-parallel-item:first-child::after {align-self: flex-end;width: 50%;}#sk-container-id-5 div.sk-parallel-item:last-child::after {align-self: flex-start;width: 50%;}#sk-container-id-5 div.sk-parallel-item:only-child::after {width: 0;}#sk-container-id-5 div.sk-dashed-wrapped {border: 1px dashed gray;margin: 0 0.4em 0.5em 0.4em;box-sizing: border-box;padding-bottom: 0.4em;background-color: white;}#sk-container-id-5 div.sk-label label {font-family: monospace;font-weight: bold;display: inline-block;line-height: 1.2em;}#sk-container-id-5 div.sk-label-container {text-align: center;}#sk-container-id-5 div.sk-container {/* jupyter's `normalize.less` sets `[hidden] { display: none; }` but bootstrap.min.css set `[hidden] { display: none !important; }` so we also need the `!important` here to be able to override the default hidden behavior on the sphinx rendered scikit-learn.org. See: https://github.com/scikit-learn/scikit-learn/issues/21755 */display: inline-block !important;position: relative;}#sk-container-id-5 div.sk-text-repr-fallback {display: none;}</style><div id=\"sk-container-id-5\" class=\"sk-top-container\"><div class=\"sk-text-repr-fallback\"><pre>CountVectorizer(binary=True, min_df=10, ngram_range=(1, 2),\n",
              "                tokenizer=&lt;function preprocess_and_tokenize_document at 0x7cd180965900&gt;)</pre><b>In a Jupyter environment, please rerun this cell to show the HTML representation or trust the notebook. <br />On GitHub, the HTML representation is unable to render, please try loading this page with nbviewer.org.</b></div><div class=\"sk-container\" hidden><div class=\"sk-item\"><div class=\"sk-estimator sk-toggleable\"><input class=\"sk-toggleable__control sk-hidden--visually\" id=\"sk-estimator-id-21\" type=\"checkbox\" checked><label for=\"sk-estimator-id-21\" class=\"sk-toggleable__label sk-toggleable__label-arrow\">CountVectorizer</label><div class=\"sk-toggleable__content\"><pre>CountVectorizer(binary=True, min_df=10, ngram_range=(1, 2),\n",
              "                tokenizer=&lt;function preprocess_and_tokenize_document at 0x7cd180965900&gt;)</pre></div></div></div></div></div>"
            ]
          },
          "metadata": {},
          "execution_count": 188
        }
      ],
      "source": [
        "unibigram_pipeline[0]"
      ]
    },
    {
      "cell_type": "code",
      "execution_count": null,
      "metadata": {
        "colab": {
          "base_uri": "https://localhost:8080/"
        },
        "id": "BM75V7UNlTqV",
        "outputId": "e879884d-22ee-44b1-bce8-ace01ac890cd"
      },
      "outputs": [
        {
          "output_type": "execute_result",
          "data": {
            "text/plain": [
              "26505"
            ]
          },
          "metadata": {},
          "execution_count": 189
        }
      ],
      "source": [
        "len(unibigram_pipeline.steps[0][1].get_feature_names_out())"
      ]
    },
    {
      "cell_type": "code",
      "execution_count": null,
      "metadata": {
        "colab": {
          "base_uri": "https://localhost:8080/",
          "height": 75
        },
        "id": "YO3r3G-Gk4kp",
        "outputId": "f879badc-3e9a-4a22-ddab-a8ba7a351c18"
      },
      "outputs": [
        {
          "output_type": "execute_result",
          "data": {
            "text/plain": [
              "LogisticRegression(C=0.1, max_iter=10000)"
            ],
            "text/html": [
              "<style>#sk-container-id-6 {color: black;background-color: white;}#sk-container-id-6 pre{padding: 0;}#sk-container-id-6 div.sk-toggleable {background-color: white;}#sk-container-id-6 label.sk-toggleable__label {cursor: pointer;display: block;width: 100%;margin-bottom: 0;padding: 0.3em;box-sizing: border-box;text-align: center;}#sk-container-id-6 label.sk-toggleable__label-arrow:before {content: \"▸\";float: left;margin-right: 0.25em;color: #696969;}#sk-container-id-6 label.sk-toggleable__label-arrow:hover:before {color: black;}#sk-container-id-6 div.sk-estimator:hover label.sk-toggleable__label-arrow:before {color: black;}#sk-container-id-6 div.sk-toggleable__content {max-height: 0;max-width: 0;overflow: hidden;text-align: left;background-color: #f0f8ff;}#sk-container-id-6 div.sk-toggleable__content pre {margin: 0.2em;color: black;border-radius: 0.25em;background-color: #f0f8ff;}#sk-container-id-6 input.sk-toggleable__control:checked~div.sk-toggleable__content {max-height: 200px;max-width: 100%;overflow: auto;}#sk-container-id-6 input.sk-toggleable__control:checked~label.sk-toggleable__label-arrow:before {content: \"▾\";}#sk-container-id-6 div.sk-estimator input.sk-toggleable__control:checked~label.sk-toggleable__label {background-color: #d4ebff;}#sk-container-id-6 div.sk-label input.sk-toggleable__control:checked~label.sk-toggleable__label {background-color: #d4ebff;}#sk-container-id-6 input.sk-hidden--visually {border: 0;clip: rect(1px 1px 1px 1px);clip: rect(1px, 1px, 1px, 1px);height: 1px;margin: -1px;overflow: hidden;padding: 0;position: absolute;width: 1px;}#sk-container-id-6 div.sk-estimator {font-family: monospace;background-color: #f0f8ff;border: 1px dotted black;border-radius: 0.25em;box-sizing: border-box;margin-bottom: 0.5em;}#sk-container-id-6 div.sk-estimator:hover {background-color: #d4ebff;}#sk-container-id-6 div.sk-parallel-item::after {content: \"\";width: 100%;border-bottom: 1px solid gray;flex-grow: 1;}#sk-container-id-6 div.sk-label:hover label.sk-toggleable__label {background-color: #d4ebff;}#sk-container-id-6 div.sk-serial::before {content: \"\";position: absolute;border-left: 1px solid gray;box-sizing: border-box;top: 0;bottom: 0;left: 50%;z-index: 0;}#sk-container-id-6 div.sk-serial {display: flex;flex-direction: column;align-items: center;background-color: white;padding-right: 0.2em;padding-left: 0.2em;position: relative;}#sk-container-id-6 div.sk-item {position: relative;z-index: 1;}#sk-container-id-6 div.sk-parallel {display: flex;align-items: stretch;justify-content: center;background-color: white;position: relative;}#sk-container-id-6 div.sk-item::before, #sk-container-id-6 div.sk-parallel-item::before {content: \"\";position: absolute;border-left: 1px solid gray;box-sizing: border-box;top: 0;bottom: 0;left: 50%;z-index: -1;}#sk-container-id-6 div.sk-parallel-item {display: flex;flex-direction: column;z-index: 1;position: relative;background-color: white;}#sk-container-id-6 div.sk-parallel-item:first-child::after {align-self: flex-end;width: 50%;}#sk-container-id-6 div.sk-parallel-item:last-child::after {align-self: flex-start;width: 50%;}#sk-container-id-6 div.sk-parallel-item:only-child::after {width: 0;}#sk-container-id-6 div.sk-dashed-wrapped {border: 1px dashed gray;margin: 0 0.4em 0.5em 0.4em;box-sizing: border-box;padding-bottom: 0.4em;background-color: white;}#sk-container-id-6 div.sk-label label {font-family: monospace;font-weight: bold;display: inline-block;line-height: 1.2em;}#sk-container-id-6 div.sk-label-container {text-align: center;}#sk-container-id-6 div.sk-container {/* jupyter's `normalize.less` sets `[hidden] { display: none; }` but bootstrap.min.css set `[hidden] { display: none !important; }` so we also need the `!important` here to be able to override the default hidden behavior on the sphinx rendered scikit-learn.org. See: https://github.com/scikit-learn/scikit-learn/issues/21755 */display: inline-block !important;position: relative;}#sk-container-id-6 div.sk-text-repr-fallback {display: none;}</style><div id=\"sk-container-id-6\" class=\"sk-top-container\"><div class=\"sk-text-repr-fallback\"><pre>LogisticRegression(C=0.1, max_iter=10000)</pre><b>In a Jupyter environment, please rerun this cell to show the HTML representation or trust the notebook. <br />On GitHub, the HTML representation is unable to render, please try loading this page with nbviewer.org.</b></div><div class=\"sk-container\" hidden><div class=\"sk-item\"><div class=\"sk-estimator sk-toggleable\"><input class=\"sk-toggleable__control sk-hidden--visually\" id=\"sk-estimator-id-22\" type=\"checkbox\" checked><label for=\"sk-estimator-id-22\" class=\"sk-toggleable__label sk-toggleable__label-arrow\">LogisticRegression</label><div class=\"sk-toggleable__content\"><pre>LogisticRegression(C=0.1, max_iter=10000)</pre></div></div></div></div></div>"
            ]
          },
          "metadata": {},
          "execution_count": 190
        }
      ],
      "source": [
        "unibigram_pipeline.steps[1][1].best_estimator_"
      ]
    },
    {
      "cell_type": "code",
      "execution_count": null,
      "metadata": {
        "colab": {
          "base_uri": "https://localhost:8080/"
        },
        "id": "gs49a9mYhkRI",
        "outputId": "816a4587-ad58-49f5-91e9-b924433d1a50"
      },
      "outputs": [
        {
          "output_type": "stream",
          "name": "stdout",
          "text": [
            "Train F1-score using unigrams+bigrams in logistic regression: 0.9983\n"
          ]
        }
      ],
      "source": [
        "unibigram_lr_train_preds = unibigram_pipeline.predict(train_imdb['text'].values)\n",
        "unibigram_lr_train_f1_score = f1_score(train_imdb['label'], unibigram_lr_train_preds, average = 'macro')\n",
        "print(f\"Train F1-score using unigrams+bigrams in logistic regression: {unibigram_lr_train_f1_score:.4f}\")"
      ]
    },
    {
      "cell_type": "code",
      "execution_count": null,
      "metadata": {
        "colab": {
          "base_uri": "https://localhost:8080/"
        },
        "id": "6ts28OSihkRI",
        "outputId": "d7534071-1901-4442-e2ed-a5665cdd738c"
      },
      "outputs": [
        {
          "output_type": "stream",
          "name": "stdout",
          "text": [
            "Dev F1-score using unigrams+bigrams in logistic regression: 0.8699\n"
          ]
        }
      ],
      "source": [
        "unibigram_lr_dev_preds = unibigram_pipeline.predict(dev_imdb['text'].values)\n",
        "unibigram_lr_dev_f1_score = f1_score(dev_imdb['label'], unibigram_lr_dev_preds, average = 'macro')\n",
        "print(f\"Dev F1-score using unigrams+bigrams in logistic regression: {unibigram_lr_dev_f1_score:.4f}\")"
      ]
    },
    {
      "cell_type": "markdown",
      "metadata": {
        "id": "-PSLj6Xui0IG"
      },
      "source": [
        "### Hand-build Feature Model\n",
        "\n",
        "We will investigate 5 features:\n",
        "\n",
        "- length of the review\n",
        "- number of words in Liu's positive lexicon, negative lexicon, and their ratio\n",
        "- number of exclamation marks\n",
        "- number of words with lengthening\n",
        "- number of all caps  "
      ]
    },
    {
      "cell_type": "code",
      "execution_count": null,
      "metadata": {
        "id": "vuaJm0ftmbLa"
      },
      "outputs": [],
      "source": [
        "def phi_review_length(review):\n",
        "\n",
        "  # tokenize it according to the TweetTokenizer\n",
        "  review_tokenized = potts_tokenizer.tokenize(review)\n",
        "\n",
        "  # get number of words\n",
        "  return len(review_tokenized)\n"
      ]
    },
    {
      "cell_type": "code",
      "execution_count": null,
      "metadata": {
        "id": "4mqJKqswmvql"
      },
      "outputs": [],
      "source": [
        "def phi_liu_metrics(review):\n",
        "\n",
        "  # tokenize it according to the TweetTokenizer\n",
        "  review_tokenized = [w.lower() for w in potts_tokenizer.tokenize(review)]\n",
        "\n",
        "  # convert into a series\n",
        "  review_tokenized = pd.Series(review_tokenized, name = \"word\")\n",
        "\n",
        "  # merge with the liu dataset\n",
        "  review_words_with_sentiment = pd.merge(left = review_tokenized, right = liu_lex, how = \"left\")\n",
        "  review_words_with_sentiment = review_words_with_sentiment.dropna()\n",
        "\n",
        "  # class counts\n",
        "  sentiment_class_counts = review_words_with_sentiment['sentiment'].value_counts()\n",
        "\n",
        "  # number of positives\n",
        "  try:\n",
        "    num_pos = sentiment_class_counts[1] + 1\n",
        "  except:\n",
        "    num_pos = 1\n",
        "\n",
        "  # number of negatives\n",
        "  try:\n",
        "    num_neg = sentiment_class_counts[-1] + 1\n",
        "  except:\n",
        "    num_neg = 1\n",
        "\n",
        "  # vocabulary size\n",
        "  vocab_size = len(set(review_tokenized))\n",
        "\n",
        "  # augmented review length\n",
        "  review_len = len(review_tokenized) + vocab_size\n",
        "\n",
        "  # positive rate\n",
        "  pos_rate = num_pos / review_len\n",
        "\n",
        "  # negative rate\n",
        "  neg_rate = num_neg / review_len\n",
        "\n",
        "  # their ratio\n",
        "  pos_neg_ratio = pos_rate / neg_rate\n",
        "\n",
        "\n",
        "  return num_pos, pos_rate, num_neg, neg_rate, pos_neg_ratio"
      ]
    },
    {
      "cell_type": "code",
      "execution_count": null,
      "metadata": {
        "id": "vzU6fT2ko5Zw"
      },
      "outputs": [],
      "source": [
        "def phi_number_of_exclams(review):\n",
        "  return len(re.findall('!', review))"
      ]
    },
    {
      "cell_type": "code",
      "execution_count": null,
      "metadata": {
        "id": "zMrxkKPmpjm1"
      },
      "outputs": [],
      "source": [
        "def phi_number_of_letter_lenthenings(review):\n",
        "\n",
        "  review_lower = review.lower()\n",
        "\n",
        "  letter_lengthenings = []\n",
        "\n",
        "  for letter in string.ascii_lowercase:\n",
        "    letter_lengthenings.extend(re.findall(f\"{letter}{{4,}}\", review_lower))\n",
        "\n",
        "  return len(letter_lengthenings)"
      ]
    },
    {
      "cell_type": "code",
      "execution_count": null,
      "metadata": {
        "id": "J_M8GnKtqgdC"
      },
      "outputs": [],
      "source": [
        "def phi_vector(review):\n",
        "\n",
        "  # review length\n",
        "  rev_len = phi_review_length(review)\n",
        "\n",
        "  # liu metrics\n",
        "  num_pos, pos_rate, num_neg, neg_rate, pos_neg_ratio = phi_liu_metrics(review)\n",
        "\n",
        "  # exclamations\n",
        "  num_exclams = phi_number_of_exclams(review)\n",
        "\n",
        "  return rev_len, num_pos, pos_rate, num_neg, neg_rate, pos_neg_ratio, num_exclams\n",
        "\n"
      ]
    },
    {
      "cell_type": "code",
      "execution_count": null,
      "metadata": {
        "id": "iFAcweM7syu1"
      },
      "outputs": [],
      "source": [
        "def phi_matrix(reviews):\n",
        "\n",
        "  feature_matrix = np.zeros(shape = (len(reviews), len(phi_vector(reviews[0]))))\n",
        "\n",
        "  for i, review in enumerate(reviews):\n",
        "    feature_matrix[i,:] = phi_vector(review)\n",
        "\n",
        "  return feature_matrix"
      ]
    },
    {
      "cell_type": "code",
      "execution_count": null,
      "metadata": {
        "id": "4yBmKQLvwSPe"
      },
      "outputs": [],
      "source": [
        "from sklearn.base import BaseEstimator, TransformerMixin\n",
        "from sklearn.utils.validation import check_is_fitted\n",
        "\n",
        "\n",
        "class PhiFeaturizer(BaseEstimator, TransformerMixin):\n",
        "    # initializer\n",
        "    def __init__(self):\n",
        "        # save the features list internally in the class\n",
        "        self.phi_feature_names = [\"PHI_\" + f for f in [\"rev_len\", \"num_pos\", \\\n",
        "                                                       \"pos_rate\", \"num_neg\", \"neg_rate\", \\\n",
        "                                                       \"pos_neg_ratio\", \"num_exclams\"]]\n",
        "\n",
        "    def fit(self, X, y = None):\n",
        "        return self\n",
        "\n",
        "    def transform(self, X, y = None):\n",
        "        # return the dataframe with the specified features\n",
        "        return phi_matrix(X)"
      ]
    },
    {
      "cell_type": "code",
      "execution_count": null,
      "metadata": {
        "id": "ho8XUvc3wWd0"
      },
      "outputs": [],
      "source": [
        "from sklearn.linear_model import LogisticRegression\n",
        "from sklearn.preprocessing import MinMaxScaler"
      ]
    },
    {
      "cell_type": "code",
      "execution_count": null,
      "metadata": {
        "id": "McwwHDWiwWd0"
      },
      "outputs": [],
      "source": [
        "handcrafted_lr = LogisticRegression(max_iter = 10000, penalty = 'l2')"
      ]
    },
    {
      "cell_type": "code",
      "execution_count": null,
      "metadata": {
        "id": "RictHEpqwWd0"
      },
      "outputs": [],
      "source": [
        "from sklearn.model_selection import GridSearchCV\n",
        "\n",
        "C_vals =  [100, 50, 10, 1.0, 0.1, 0.01, 0.001]\n",
        "\n",
        "handcrafted_param_grid = {'C' : C_vals}\n",
        "\n",
        "handcrafted_gridsearch = GridSearchCV(handcrafted_lr, handcrafted_param_grid, scoring = 'f1_macro' , n_jobs = -1)"
      ]
    },
    {
      "cell_type": "code",
      "execution_count": null,
      "metadata": {
        "id": "EkSLqltYwWd0"
      },
      "outputs": [],
      "source": [
        "from sklearn.pipeline import Pipeline\n",
        "handcrafted_pipeline = Pipeline(steps = [\n",
        "    (\"handcrafted_featurizer\", PhiFeaturizer()),\n",
        "    (\"handcrafted_scaler\", MinMaxScaler()),\n",
        "    (\"handcrafted_logit_gridsearch\", handcrafted_gridsearch)\n",
        "])"
      ]
    },
    {
      "cell_type": "code",
      "execution_count": null,
      "metadata": {
        "colab": {
          "base_uri": "https://localhost:8080/",
          "height": 227
        },
        "id": "rM6t9WMowWd0",
        "outputId": "6c2af110-c2dc-4909-9469-e44098b45c6e"
      },
      "outputs": [
        {
          "output_type": "execute_result",
          "data": {
            "text/plain": [
              "Pipeline(steps=[('handcrafted_featurizer', PhiFeaturizer()),\n",
              "                ('handcrafted_scaler', MinMaxScaler()),\n",
              "                ('handcrafted_logit_gridsearch',\n",
              "                 GridSearchCV(estimator=LogisticRegression(max_iter=10000),\n",
              "                              n_jobs=-1,\n",
              "                              param_grid={'C': [100, 50, 10, 1.0, 0.1, 0.01,\n",
              "                                                0.001]},\n",
              "                              scoring='f1_macro'))])"
            ],
            "text/html": [
              "<style>#sk-container-id-7 {color: black;background-color: white;}#sk-container-id-7 pre{padding: 0;}#sk-container-id-7 div.sk-toggleable {background-color: white;}#sk-container-id-7 label.sk-toggleable__label {cursor: pointer;display: block;width: 100%;margin-bottom: 0;padding: 0.3em;box-sizing: border-box;text-align: center;}#sk-container-id-7 label.sk-toggleable__label-arrow:before {content: \"▸\";float: left;margin-right: 0.25em;color: #696969;}#sk-container-id-7 label.sk-toggleable__label-arrow:hover:before {color: black;}#sk-container-id-7 div.sk-estimator:hover label.sk-toggleable__label-arrow:before {color: black;}#sk-container-id-7 div.sk-toggleable__content {max-height: 0;max-width: 0;overflow: hidden;text-align: left;background-color: #f0f8ff;}#sk-container-id-7 div.sk-toggleable__content pre {margin: 0.2em;color: black;border-radius: 0.25em;background-color: #f0f8ff;}#sk-container-id-7 input.sk-toggleable__control:checked~div.sk-toggleable__content {max-height: 200px;max-width: 100%;overflow: auto;}#sk-container-id-7 input.sk-toggleable__control:checked~label.sk-toggleable__label-arrow:before {content: \"▾\";}#sk-container-id-7 div.sk-estimator input.sk-toggleable__control:checked~label.sk-toggleable__label {background-color: #d4ebff;}#sk-container-id-7 div.sk-label input.sk-toggleable__control:checked~label.sk-toggleable__label {background-color: #d4ebff;}#sk-container-id-7 input.sk-hidden--visually {border: 0;clip: rect(1px 1px 1px 1px);clip: rect(1px, 1px, 1px, 1px);height: 1px;margin: -1px;overflow: hidden;padding: 0;position: absolute;width: 1px;}#sk-container-id-7 div.sk-estimator {font-family: monospace;background-color: #f0f8ff;border: 1px dotted black;border-radius: 0.25em;box-sizing: border-box;margin-bottom: 0.5em;}#sk-container-id-7 div.sk-estimator:hover {background-color: #d4ebff;}#sk-container-id-7 div.sk-parallel-item::after {content: \"\";width: 100%;border-bottom: 1px solid gray;flex-grow: 1;}#sk-container-id-7 div.sk-label:hover label.sk-toggleable__label {background-color: #d4ebff;}#sk-container-id-7 div.sk-serial::before {content: \"\";position: absolute;border-left: 1px solid gray;box-sizing: border-box;top: 0;bottom: 0;left: 50%;z-index: 0;}#sk-container-id-7 div.sk-serial {display: flex;flex-direction: column;align-items: center;background-color: white;padding-right: 0.2em;padding-left: 0.2em;position: relative;}#sk-container-id-7 div.sk-item {position: relative;z-index: 1;}#sk-container-id-7 div.sk-parallel {display: flex;align-items: stretch;justify-content: center;background-color: white;position: relative;}#sk-container-id-7 div.sk-item::before, #sk-container-id-7 div.sk-parallel-item::before {content: \"\";position: absolute;border-left: 1px solid gray;box-sizing: border-box;top: 0;bottom: 0;left: 50%;z-index: -1;}#sk-container-id-7 div.sk-parallel-item {display: flex;flex-direction: column;z-index: 1;position: relative;background-color: white;}#sk-container-id-7 div.sk-parallel-item:first-child::after {align-self: flex-end;width: 50%;}#sk-container-id-7 div.sk-parallel-item:last-child::after {align-self: flex-start;width: 50%;}#sk-container-id-7 div.sk-parallel-item:only-child::after {width: 0;}#sk-container-id-7 div.sk-dashed-wrapped {border: 1px dashed gray;margin: 0 0.4em 0.5em 0.4em;box-sizing: border-box;padding-bottom: 0.4em;background-color: white;}#sk-container-id-7 div.sk-label label {font-family: monospace;font-weight: bold;display: inline-block;line-height: 1.2em;}#sk-container-id-7 div.sk-label-container {text-align: center;}#sk-container-id-7 div.sk-container {/* jupyter's `normalize.less` sets `[hidden] { display: none; }` but bootstrap.min.css set `[hidden] { display: none !important; }` so we also need the `!important` here to be able to override the default hidden behavior on the sphinx rendered scikit-learn.org. See: https://github.com/scikit-learn/scikit-learn/issues/21755 */display: inline-block !important;position: relative;}#sk-container-id-7 div.sk-text-repr-fallback {display: none;}</style><div id=\"sk-container-id-7\" class=\"sk-top-container\"><div class=\"sk-text-repr-fallback\"><pre>Pipeline(steps=[(&#x27;handcrafted_featurizer&#x27;, PhiFeaturizer()),\n",
              "                (&#x27;handcrafted_scaler&#x27;, MinMaxScaler()),\n",
              "                (&#x27;handcrafted_logit_gridsearch&#x27;,\n",
              "                 GridSearchCV(estimator=LogisticRegression(max_iter=10000),\n",
              "                              n_jobs=-1,\n",
              "                              param_grid={&#x27;C&#x27;: [100, 50, 10, 1.0, 0.1, 0.01,\n",
              "                                                0.001]},\n",
              "                              scoring=&#x27;f1_macro&#x27;))])</pre><b>In a Jupyter environment, please rerun this cell to show the HTML representation or trust the notebook. <br />On GitHub, the HTML representation is unable to render, please try loading this page with nbviewer.org.</b></div><div class=\"sk-container\" hidden><div class=\"sk-item sk-dashed-wrapped\"><div class=\"sk-label-container\"><div class=\"sk-label sk-toggleable\"><input class=\"sk-toggleable__control sk-hidden--visually\" id=\"sk-estimator-id-23\" type=\"checkbox\" ><label for=\"sk-estimator-id-23\" class=\"sk-toggleable__label sk-toggleable__label-arrow\">Pipeline</label><div class=\"sk-toggleable__content\"><pre>Pipeline(steps=[(&#x27;handcrafted_featurizer&#x27;, PhiFeaturizer()),\n",
              "                (&#x27;handcrafted_scaler&#x27;, MinMaxScaler()),\n",
              "                (&#x27;handcrafted_logit_gridsearch&#x27;,\n",
              "                 GridSearchCV(estimator=LogisticRegression(max_iter=10000),\n",
              "                              n_jobs=-1,\n",
              "                              param_grid={&#x27;C&#x27;: [100, 50, 10, 1.0, 0.1, 0.01,\n",
              "                                                0.001]},\n",
              "                              scoring=&#x27;f1_macro&#x27;))])</pre></div></div></div><div class=\"sk-serial\"><div class=\"sk-item\"><div class=\"sk-estimator sk-toggleable\"><input class=\"sk-toggleable__control sk-hidden--visually\" id=\"sk-estimator-id-24\" type=\"checkbox\" ><label for=\"sk-estimator-id-24\" class=\"sk-toggleable__label sk-toggleable__label-arrow\">PhiFeaturizer</label><div class=\"sk-toggleable__content\"><pre>PhiFeaturizer()</pre></div></div></div><div class=\"sk-item\"><div class=\"sk-estimator sk-toggleable\"><input class=\"sk-toggleable__control sk-hidden--visually\" id=\"sk-estimator-id-25\" type=\"checkbox\" ><label for=\"sk-estimator-id-25\" class=\"sk-toggleable__label sk-toggleable__label-arrow\">MinMaxScaler</label><div class=\"sk-toggleable__content\"><pre>MinMaxScaler()</pre></div></div></div><div class=\"sk-item sk-dashed-wrapped\"><div class=\"sk-label-container\"><div class=\"sk-label sk-toggleable\"><input class=\"sk-toggleable__control sk-hidden--visually\" id=\"sk-estimator-id-26\" type=\"checkbox\" ><label for=\"sk-estimator-id-26\" class=\"sk-toggleable__label sk-toggleable__label-arrow\">handcrafted_logit_gridsearch: GridSearchCV</label><div class=\"sk-toggleable__content\"><pre>GridSearchCV(estimator=LogisticRegression(max_iter=10000), n_jobs=-1,\n",
              "             param_grid={&#x27;C&#x27;: [100, 50, 10, 1.0, 0.1, 0.01, 0.001]},\n",
              "             scoring=&#x27;f1_macro&#x27;)</pre></div></div></div><div class=\"sk-parallel\"><div class=\"sk-parallel-item\"><div class=\"sk-item\"><div class=\"sk-label-container\"><div class=\"sk-label sk-toggleable\"><input class=\"sk-toggleable__control sk-hidden--visually\" id=\"sk-estimator-id-27\" type=\"checkbox\" ><label for=\"sk-estimator-id-27\" class=\"sk-toggleable__label sk-toggleable__label-arrow\">estimator: LogisticRegression</label><div class=\"sk-toggleable__content\"><pre>LogisticRegression(max_iter=10000)</pre></div></div></div><div class=\"sk-serial\"><div class=\"sk-item\"><div class=\"sk-estimator sk-toggleable\"><input class=\"sk-toggleable__control sk-hidden--visually\" id=\"sk-estimator-id-28\" type=\"checkbox\" ><label for=\"sk-estimator-id-28\" class=\"sk-toggleable__label sk-toggleable__label-arrow\">LogisticRegression</label><div class=\"sk-toggleable__content\"><pre>LogisticRegression(max_iter=10000)</pre></div></div></div></div></div></div></div></div></div></div></div></div>"
            ]
          },
          "metadata": {},
          "execution_count": 204
        }
      ],
      "source": [
        "handcrafted_pipeline.fit(train_imdb['text'].values, train_imdb['label'].values)"
      ]
    },
    {
      "cell_type": "code",
      "execution_count": null,
      "metadata": {
        "colab": {
          "base_uri": "https://localhost:8080/"
        },
        "id": "f0FGaeIywWd1",
        "outputId": "3b628b2e-c401-4308-ebb7-f667d093246a"
      },
      "outputs": [
        {
          "output_type": "stream",
          "name": "stdout",
          "text": [
            "Train F1-score using headcrafted features in logistic regression: 0.7333\n"
          ]
        }
      ],
      "source": [
        "handcrafted_lr_train_preds = handcrafted_pipeline.predict(train_imdb['text'].values)\n",
        "handcrafted_lr_train_f1_score = f1_score(train_imdb['label'], handcrafted_lr_train_preds, average = 'macro')\n",
        "print(f\"Train F1-score using headcrafted features in logistic regression: {handcrafted_lr_train_f1_score:.4f}\")"
      ]
    },
    {
      "cell_type": "code",
      "execution_count": null,
      "metadata": {
        "colab": {
          "base_uri": "https://localhost:8080/"
        },
        "id": "DoelB_4twWd1",
        "outputId": "64b95b0d-2779-47cf-f85e-b8f02b83a01a"
      },
      "outputs": [
        {
          "output_type": "stream",
          "name": "stdout",
          "text": [
            "Dev F1-score using headcrafted features in logistic regression: 0.7182\n"
          ]
        }
      ],
      "source": [
        "handcrafted_lr_dev_preds = handcrafted_pipeline.predict(dev_imdb['text'].values[:50])\n",
        "handcrafted_lr_dev_f1_score = f1_score(dev_imdb['label'][:50], handcrafted_lr_dev_preds, average = 'macro')\n",
        "print(f\"Dev F1-score using headcrafted features in logistic regression: {handcrafted_lr_dev_f1_score:.4f}\")"
      ]
    },
    {
      "cell_type": "markdown",
      "metadata": {
        "id": "YgPwVojE45Ud"
      },
      "source": [
        "### Unigram + Bigram + Handbuilt"
      ]
    },
    {
      "cell_type": "code",
      "execution_count": null,
      "metadata": {
        "id": "Sr5JKjdGB92S"
      },
      "outputs": [],
      "source": [
        "from sklearn.pipeline import FeatureUnion"
      ]
    },
    {
      "cell_type": "code",
      "execution_count": null,
      "metadata": {
        "id": "9saNrsICB09Z"
      },
      "outputs": [],
      "source": [
        "all_features_preproc =  FeatureUnion([\n",
        "                                     (\"vectorizer\", CountVectorizer(\n",
        "                                                                  lowercase = True,\n",
        "                                                                  preprocessor = None,\n",
        "                                                                  tokenizer = preprocess_and_tokenize_document,\n",
        "                                                                  ngram_range = (1,2),\n",
        "                                                                  min_df = 10,\n",
        "                                                                  binary = True)),\n",
        "                                      (\"handcrafted\", PhiFeaturizer())\n",
        "])"
      ]
    },
    {
      "cell_type": "code",
      "execution_count": null,
      "metadata": {
        "id": "V4pEu0vrB09Z"
      },
      "outputs": [],
      "source": [
        "from sklearn.linear_model import LogisticRegression"
      ]
    },
    {
      "cell_type": "code",
      "execution_count": null,
      "metadata": {
        "id": "BHBx58OyB09Z"
      },
      "outputs": [],
      "source": [
        "all_features_lr = LogisticRegression(max_iter = 10000, penalty = 'l2')"
      ]
    },
    {
      "cell_type": "code",
      "execution_count": null,
      "metadata": {
        "id": "JXGqCWuZB09Z"
      },
      "outputs": [],
      "source": [
        "from sklearn.model_selection import GridSearchCV\n",
        "\n",
        "C_vals =  [100, 50, 10, 1.0, 0.1, 0.01, 0.001]\n",
        "\n",
        "all_features_param_grid = {'C' : C_vals}\n",
        "\n",
        "all_features_gridsearch = GridSearchCV(all_features_lr, all_features_param_grid, scoring = 'f1_macro' , n_jobs = -1)"
      ]
    },
    {
      "cell_type": "code",
      "execution_count": null,
      "metadata": {
        "id": "p4MzjXCaE-HG"
      },
      "outputs": [],
      "source": [
        "from sklearn.preprocessing import MaxAbsScaler"
      ]
    },
    {
      "cell_type": "code",
      "execution_count": null,
      "metadata": {
        "id": "Sv466JnwB09Z"
      },
      "outputs": [],
      "source": [
        "from sklearn.pipeline import Pipeline\n",
        "all_features_pipeline = Pipeline(steps = [\n",
        "    (\"all_features_preprocessor_and_tokenizer\", all_features_preproc),\n",
        "    (\"scaler\", MaxAbsScaler()),\n",
        "    (\"all_features_logit_gridsearch\", all_features_gridsearch)\n",
        "])"
      ]
    },
    {
      "cell_type": "code",
      "execution_count": null,
      "metadata": {
        "colab": {
          "base_uri": "https://localhost:8080/",
          "height": 340
        },
        "id": "Lz-nOtyBB09Z",
        "outputId": "8b7acce4-d2bb-4a51-ab58-347061adc498"
      },
      "outputs": [
        {
          "output_type": "stream",
          "name": "stderr",
          "text": [
            "/usr/local/lib/python3.10/dist-packages/sklearn/feature_extraction/text.py:528: UserWarning: The parameter 'token_pattern' will not be used since 'tokenizer' is not None'\n",
            "  warnings.warn(\n"
          ]
        },
        {
          "output_type": "execute_result",
          "data": {
            "text/plain": [
              "Pipeline(steps=[('all_features_preprocessor_and_tokenizer',\n",
              "                 FeatureUnion(transformer_list=[('vectorizer',\n",
              "                                                 CountVectorizer(binary=True,\n",
              "                                                                 min_df=10,\n",
              "                                                                 ngram_range=(1,\n",
              "                                                                              2),\n",
              "                                                                 tokenizer=<function preprocess_and_tokenize_document at 0x7cd180965900>)),\n",
              "                                                ('handcrafted',\n",
              "                                                 PhiFeaturizer())])),\n",
              "                ('scaler', MaxAbsScaler()),\n",
              "                ('all_features_logit_gridsearch',\n",
              "                 GridSearchCV(estimator=LogisticRegression(max_iter=10000),\n",
              "                              n_jobs=-1,\n",
              "                              param_grid={'C': [100, 50, 10, 1.0, 0.1, 0.01,\n",
              "                                                0.001]},\n",
              "                              scoring='f1_macro'))])"
            ],
            "text/html": [
              "<style>#sk-container-id-8 {color: black;background-color: white;}#sk-container-id-8 pre{padding: 0;}#sk-container-id-8 div.sk-toggleable {background-color: white;}#sk-container-id-8 label.sk-toggleable__label {cursor: pointer;display: block;width: 100%;margin-bottom: 0;padding: 0.3em;box-sizing: border-box;text-align: center;}#sk-container-id-8 label.sk-toggleable__label-arrow:before {content: \"▸\";float: left;margin-right: 0.25em;color: #696969;}#sk-container-id-8 label.sk-toggleable__label-arrow:hover:before {color: black;}#sk-container-id-8 div.sk-estimator:hover label.sk-toggleable__label-arrow:before {color: black;}#sk-container-id-8 div.sk-toggleable__content {max-height: 0;max-width: 0;overflow: hidden;text-align: left;background-color: #f0f8ff;}#sk-container-id-8 div.sk-toggleable__content pre {margin: 0.2em;color: black;border-radius: 0.25em;background-color: #f0f8ff;}#sk-container-id-8 input.sk-toggleable__control:checked~div.sk-toggleable__content {max-height: 200px;max-width: 100%;overflow: auto;}#sk-container-id-8 input.sk-toggleable__control:checked~label.sk-toggleable__label-arrow:before {content: \"▾\";}#sk-container-id-8 div.sk-estimator input.sk-toggleable__control:checked~label.sk-toggleable__label {background-color: #d4ebff;}#sk-container-id-8 div.sk-label input.sk-toggleable__control:checked~label.sk-toggleable__label {background-color: #d4ebff;}#sk-container-id-8 input.sk-hidden--visually {border: 0;clip: rect(1px 1px 1px 1px);clip: rect(1px, 1px, 1px, 1px);height: 1px;margin: -1px;overflow: hidden;padding: 0;position: absolute;width: 1px;}#sk-container-id-8 div.sk-estimator {font-family: monospace;background-color: #f0f8ff;border: 1px dotted black;border-radius: 0.25em;box-sizing: border-box;margin-bottom: 0.5em;}#sk-container-id-8 div.sk-estimator:hover {background-color: #d4ebff;}#sk-container-id-8 div.sk-parallel-item::after {content: \"\";width: 100%;border-bottom: 1px solid gray;flex-grow: 1;}#sk-container-id-8 div.sk-label:hover label.sk-toggleable__label {background-color: #d4ebff;}#sk-container-id-8 div.sk-serial::before {content: \"\";position: absolute;border-left: 1px solid gray;box-sizing: border-box;top: 0;bottom: 0;left: 50%;z-index: 0;}#sk-container-id-8 div.sk-serial {display: flex;flex-direction: column;align-items: center;background-color: white;padding-right: 0.2em;padding-left: 0.2em;position: relative;}#sk-container-id-8 div.sk-item {position: relative;z-index: 1;}#sk-container-id-8 div.sk-parallel {display: flex;align-items: stretch;justify-content: center;background-color: white;position: relative;}#sk-container-id-8 div.sk-item::before, #sk-container-id-8 div.sk-parallel-item::before {content: \"\";position: absolute;border-left: 1px solid gray;box-sizing: border-box;top: 0;bottom: 0;left: 50%;z-index: -1;}#sk-container-id-8 div.sk-parallel-item {display: flex;flex-direction: column;z-index: 1;position: relative;background-color: white;}#sk-container-id-8 div.sk-parallel-item:first-child::after {align-self: flex-end;width: 50%;}#sk-container-id-8 div.sk-parallel-item:last-child::after {align-self: flex-start;width: 50%;}#sk-container-id-8 div.sk-parallel-item:only-child::after {width: 0;}#sk-container-id-8 div.sk-dashed-wrapped {border: 1px dashed gray;margin: 0 0.4em 0.5em 0.4em;box-sizing: border-box;padding-bottom: 0.4em;background-color: white;}#sk-container-id-8 div.sk-label label {font-family: monospace;font-weight: bold;display: inline-block;line-height: 1.2em;}#sk-container-id-8 div.sk-label-container {text-align: center;}#sk-container-id-8 div.sk-container {/* jupyter's `normalize.less` sets `[hidden] { display: none; }` but bootstrap.min.css set `[hidden] { display: none !important; }` so we also need the `!important` here to be able to override the default hidden behavior on the sphinx rendered scikit-learn.org. See: https://github.com/scikit-learn/scikit-learn/issues/21755 */display: inline-block !important;position: relative;}#sk-container-id-8 div.sk-text-repr-fallback {display: none;}</style><div id=\"sk-container-id-8\" class=\"sk-top-container\"><div class=\"sk-text-repr-fallback\"><pre>Pipeline(steps=[(&#x27;all_features_preprocessor_and_tokenizer&#x27;,\n",
              "                 FeatureUnion(transformer_list=[(&#x27;vectorizer&#x27;,\n",
              "                                                 CountVectorizer(binary=True,\n",
              "                                                                 min_df=10,\n",
              "                                                                 ngram_range=(1,\n",
              "                                                                              2),\n",
              "                                                                 tokenizer=&lt;function preprocess_and_tokenize_document at 0x7cd180965900&gt;)),\n",
              "                                                (&#x27;handcrafted&#x27;,\n",
              "                                                 PhiFeaturizer())])),\n",
              "                (&#x27;scaler&#x27;, MaxAbsScaler()),\n",
              "                (&#x27;all_features_logit_gridsearch&#x27;,\n",
              "                 GridSearchCV(estimator=LogisticRegression(max_iter=10000),\n",
              "                              n_jobs=-1,\n",
              "                              param_grid={&#x27;C&#x27;: [100, 50, 10, 1.0, 0.1, 0.01,\n",
              "                                                0.001]},\n",
              "                              scoring=&#x27;f1_macro&#x27;))])</pre><b>In a Jupyter environment, please rerun this cell to show the HTML representation or trust the notebook. <br />On GitHub, the HTML representation is unable to render, please try loading this page with nbviewer.org.</b></div><div class=\"sk-container\" hidden><div class=\"sk-item sk-dashed-wrapped\"><div class=\"sk-label-container\"><div class=\"sk-label sk-toggleable\"><input class=\"sk-toggleable__control sk-hidden--visually\" id=\"sk-estimator-id-29\" type=\"checkbox\" ><label for=\"sk-estimator-id-29\" class=\"sk-toggleable__label sk-toggleable__label-arrow\">Pipeline</label><div class=\"sk-toggleable__content\"><pre>Pipeline(steps=[(&#x27;all_features_preprocessor_and_tokenizer&#x27;,\n",
              "                 FeatureUnion(transformer_list=[(&#x27;vectorizer&#x27;,\n",
              "                                                 CountVectorizer(binary=True,\n",
              "                                                                 min_df=10,\n",
              "                                                                 ngram_range=(1,\n",
              "                                                                              2),\n",
              "                                                                 tokenizer=&lt;function preprocess_and_tokenize_document at 0x7cd180965900&gt;)),\n",
              "                                                (&#x27;handcrafted&#x27;,\n",
              "                                                 PhiFeaturizer())])),\n",
              "                (&#x27;scaler&#x27;, MaxAbsScaler()),\n",
              "                (&#x27;all_features_logit_gridsearch&#x27;,\n",
              "                 GridSearchCV(estimator=LogisticRegression(max_iter=10000),\n",
              "                              n_jobs=-1,\n",
              "                              param_grid={&#x27;C&#x27;: [100, 50, 10, 1.0, 0.1, 0.01,\n",
              "                                                0.001]},\n",
              "                              scoring=&#x27;f1_macro&#x27;))])</pre></div></div></div><div class=\"sk-serial\"><div class=\"sk-item sk-dashed-wrapped\"><div class=\"sk-label-container\"><div class=\"sk-label sk-toggleable\"><input class=\"sk-toggleable__control sk-hidden--visually\" id=\"sk-estimator-id-30\" type=\"checkbox\" ><label for=\"sk-estimator-id-30\" class=\"sk-toggleable__label sk-toggleable__label-arrow\">all_features_preprocessor_and_tokenizer: FeatureUnion</label><div class=\"sk-toggleable__content\"><pre>FeatureUnion(transformer_list=[(&#x27;vectorizer&#x27;,\n",
              "                                CountVectorizer(binary=True, min_df=10,\n",
              "                                                ngram_range=(1, 2),\n",
              "                                                tokenizer=&lt;function preprocess_and_tokenize_document at 0x7cd180965900&gt;)),\n",
              "                               (&#x27;handcrafted&#x27;, PhiFeaturizer())])</pre></div></div></div><div class=\"sk-parallel\"><div class=\"sk-parallel-item\"><div class=\"sk-item\"><div class=\"sk-label-container\"><div class=\"sk-label sk-toggleable\"><label>vectorizer</label></div></div><div class=\"sk-serial\"><div class=\"sk-item\"><div class=\"sk-estimator sk-toggleable\"><input class=\"sk-toggleable__control sk-hidden--visually\" id=\"sk-estimator-id-31\" type=\"checkbox\" ><label for=\"sk-estimator-id-31\" class=\"sk-toggleable__label sk-toggleable__label-arrow\">CountVectorizer</label><div class=\"sk-toggleable__content\"><pre>CountVectorizer(binary=True, min_df=10, ngram_range=(1, 2),\n",
              "                tokenizer=&lt;function preprocess_and_tokenize_document at 0x7cd180965900&gt;)</pre></div></div></div></div></div></div><div class=\"sk-parallel-item\"><div class=\"sk-item\"><div class=\"sk-label-container\"><div class=\"sk-label sk-toggleable\"><label>handcrafted</label></div></div><div class=\"sk-serial\"><div class=\"sk-item\"><div class=\"sk-estimator sk-toggleable\"><input class=\"sk-toggleable__control sk-hidden--visually\" id=\"sk-estimator-id-32\" type=\"checkbox\" ><label for=\"sk-estimator-id-32\" class=\"sk-toggleable__label sk-toggleable__label-arrow\">PhiFeaturizer</label><div class=\"sk-toggleable__content\"><pre>PhiFeaturizer()</pre></div></div></div></div></div></div></div></div><div class=\"sk-item\"><div class=\"sk-estimator sk-toggleable\"><input class=\"sk-toggleable__control sk-hidden--visually\" id=\"sk-estimator-id-33\" type=\"checkbox\" ><label for=\"sk-estimator-id-33\" class=\"sk-toggleable__label sk-toggleable__label-arrow\">MaxAbsScaler</label><div class=\"sk-toggleable__content\"><pre>MaxAbsScaler()</pre></div></div></div><div class=\"sk-item sk-dashed-wrapped\"><div class=\"sk-label-container\"><div class=\"sk-label sk-toggleable\"><input class=\"sk-toggleable__control sk-hidden--visually\" id=\"sk-estimator-id-34\" type=\"checkbox\" ><label for=\"sk-estimator-id-34\" class=\"sk-toggleable__label sk-toggleable__label-arrow\">all_features_logit_gridsearch: GridSearchCV</label><div class=\"sk-toggleable__content\"><pre>GridSearchCV(estimator=LogisticRegression(max_iter=10000), n_jobs=-1,\n",
              "             param_grid={&#x27;C&#x27;: [100, 50, 10, 1.0, 0.1, 0.01, 0.001]},\n",
              "             scoring=&#x27;f1_macro&#x27;)</pre></div></div></div><div class=\"sk-parallel\"><div class=\"sk-parallel-item\"><div class=\"sk-item\"><div class=\"sk-label-container\"><div class=\"sk-label sk-toggleable\"><input class=\"sk-toggleable__control sk-hidden--visually\" id=\"sk-estimator-id-35\" type=\"checkbox\" ><label for=\"sk-estimator-id-35\" class=\"sk-toggleable__label sk-toggleable__label-arrow\">estimator: LogisticRegression</label><div class=\"sk-toggleable__content\"><pre>LogisticRegression(max_iter=10000)</pre></div></div></div><div class=\"sk-serial\"><div class=\"sk-item\"><div class=\"sk-estimator sk-toggleable\"><input class=\"sk-toggleable__control sk-hidden--visually\" id=\"sk-estimator-id-36\" type=\"checkbox\" ><label for=\"sk-estimator-id-36\" class=\"sk-toggleable__label sk-toggleable__label-arrow\">LogisticRegression</label><div class=\"sk-toggleable__content\"><pre>LogisticRegression(max_iter=10000)</pre></div></div></div></div></div></div></div></div></div></div></div></div>"
            ]
          },
          "metadata": {},
          "execution_count": 214
        }
      ],
      "source": [
        "all_features_pipeline.fit(train_imdb['text'].values, train_imdb['label'].values)"
      ]
    },
    {
      "cell_type": "code",
      "execution_count": null,
      "metadata": {
        "colab": {
          "base_uri": "https://localhost:8080/"
        },
        "id": "FB1sESRrB09a",
        "outputId": "d5e4f32e-af37-4d36-995b-191d566a2752"
      },
      "outputs": [
        {
          "output_type": "stream",
          "name": "stdout",
          "text": [
            "Train F1-score using unigrams+bigrams+handcrafted in logistic regression: 0.9982\n"
          ]
        }
      ],
      "source": [
        "all_features_lr_train_preds = all_features_pipeline.predict(train_imdb['text'].values)\n",
        "all_features_lr_train_f1_score = f1_score(train_imdb['label'], all_features_lr_train_preds, average = 'macro')\n",
        "print(f\"Train F1-score using unigrams+bigrams+handcrafted in logistic regression: {all_features_lr_train_f1_score:.4f}\")"
      ]
    },
    {
      "cell_type": "code",
      "execution_count": null,
      "metadata": {
        "colab": {
          "base_uri": "https://localhost:8080/"
        },
        "id": "o7y8WDYZB09a",
        "outputId": "3793e88b-13b8-4fe8-a287-3f2184b3f04c"
      },
      "outputs": [
        {
          "output_type": "stream",
          "name": "stdout",
          "text": [
            "Dev F1-score using unigrams+bigrams+handcrafted in logistic regression: 0.8714\n"
          ]
        }
      ],
      "source": [
        "all_features_lr_dev_preds = all_features_pipeline.predict(dev_imdb['text'].values)\n",
        "all_features_lr_dev_f1_score = f1_score(dev_imdb['label'], all_features_lr_dev_preds, average = 'macro')\n",
        "print(f\"Dev F1-score using unigrams+bigrams+handcrafted in logistic regression: {all_features_lr_dev_f1_score:.4f}\")"
      ]
    },
    {
      "cell_type": "markdown",
      "metadata": {
        "id": "D8o1WEH_GEBX"
      },
      "source": [
        "### Results on the dev set"
      ]
    },
    {
      "cell_type": "code",
      "execution_count": null,
      "metadata": {
        "colab": {
          "base_uri": "https://localhost:8080/",
          "height": 206
        },
        "id": "4w_KK695GHhU",
        "outputId": "0b62f6cb-9b4b-41f6-e4b9-59123d0e16b7"
      },
      "outputs": [
        {
          "output_type": "execute_result",
          "data": {
            "text/plain": [
              "                   train       dev\n",
              "unigram         0.985666  0.858422\n",
              "bigram          0.994666  0.829469\n",
              "unigram+bigram  0.998333  0.869948\n",
              "hand-built      0.733321  0.718196\n",
              "all             0.998167  0.871441"
            ],
            "text/html": [
              "\n",
              "  <div id=\"df-337d64e3-443a-4d22-bac4-5e943e4f37a1\" class=\"colab-df-container\">\n",
              "    <div>\n",
              "<style scoped>\n",
              "    .dataframe tbody tr th:only-of-type {\n",
              "        vertical-align: middle;\n",
              "    }\n",
              "\n",
              "    .dataframe tbody tr th {\n",
              "        vertical-align: top;\n",
              "    }\n",
              "\n",
              "    .dataframe thead th {\n",
              "        text-align: right;\n",
              "    }\n",
              "</style>\n",
              "<table border=\"1\" class=\"dataframe\">\n",
              "  <thead>\n",
              "    <tr style=\"text-align: right;\">\n",
              "      <th></th>\n",
              "      <th>train</th>\n",
              "      <th>dev</th>\n",
              "    </tr>\n",
              "  </thead>\n",
              "  <tbody>\n",
              "    <tr>\n",
              "      <th>unigram</th>\n",
              "      <td>0.985666</td>\n",
              "      <td>0.858422</td>\n",
              "    </tr>\n",
              "    <tr>\n",
              "      <th>bigram</th>\n",
              "      <td>0.994666</td>\n",
              "      <td>0.829469</td>\n",
              "    </tr>\n",
              "    <tr>\n",
              "      <th>unigram+bigram</th>\n",
              "      <td>0.998333</td>\n",
              "      <td>0.869948</td>\n",
              "    </tr>\n",
              "    <tr>\n",
              "      <th>hand-built</th>\n",
              "      <td>0.733321</td>\n",
              "      <td>0.718196</td>\n",
              "    </tr>\n",
              "    <tr>\n",
              "      <th>all</th>\n",
              "      <td>0.998167</td>\n",
              "      <td>0.871441</td>\n",
              "    </tr>\n",
              "  </tbody>\n",
              "</table>\n",
              "</div>\n",
              "    <div class=\"colab-df-buttons\">\n",
              "\n",
              "  <div class=\"colab-df-container\">\n",
              "    <button class=\"colab-df-convert\" onclick=\"convertToInteractive('df-337d64e3-443a-4d22-bac4-5e943e4f37a1')\"\n",
              "            title=\"Convert this dataframe to an interactive table.\"\n",
              "            style=\"display:none;\">\n",
              "\n",
              "  <svg xmlns=\"http://www.w3.org/2000/svg\" height=\"24px\" viewBox=\"0 -960 960 960\">\n",
              "    <path d=\"M120-120v-720h720v720H120Zm60-500h600v-160H180v160Zm220 220h160v-160H400v160Zm0 220h160v-160H400v160ZM180-400h160v-160H180v160Zm440 0h160v-160H620v160ZM180-180h160v-160H180v160Zm440 0h160v-160H620v160Z\"/>\n",
              "  </svg>\n",
              "    </button>\n",
              "\n",
              "  <style>\n",
              "    .colab-df-container {\n",
              "      display:flex;\n",
              "      gap: 12px;\n",
              "    }\n",
              "\n",
              "    .colab-df-convert {\n",
              "      background-color: #E8F0FE;\n",
              "      border: none;\n",
              "      border-radius: 50%;\n",
              "      cursor: pointer;\n",
              "      display: none;\n",
              "      fill: #1967D2;\n",
              "      height: 32px;\n",
              "      padding: 0 0 0 0;\n",
              "      width: 32px;\n",
              "    }\n",
              "\n",
              "    .colab-df-convert:hover {\n",
              "      background-color: #E2EBFA;\n",
              "      box-shadow: 0px 1px 2px rgba(60, 64, 67, 0.3), 0px 1px 3px 1px rgba(60, 64, 67, 0.15);\n",
              "      fill: #174EA6;\n",
              "    }\n",
              "\n",
              "    .colab-df-buttons div {\n",
              "      margin-bottom: 4px;\n",
              "    }\n",
              "\n",
              "    [theme=dark] .colab-df-convert {\n",
              "      background-color: #3B4455;\n",
              "      fill: #D2E3FC;\n",
              "    }\n",
              "\n",
              "    [theme=dark] .colab-df-convert:hover {\n",
              "      background-color: #434B5C;\n",
              "      box-shadow: 0px 1px 3px 1px rgba(0, 0, 0, 0.15);\n",
              "      filter: drop-shadow(0px 1px 2px rgba(0, 0, 0, 0.3));\n",
              "      fill: #FFFFFF;\n",
              "    }\n",
              "  </style>\n",
              "\n",
              "    <script>\n",
              "      const buttonEl =\n",
              "        document.querySelector('#df-337d64e3-443a-4d22-bac4-5e943e4f37a1 button.colab-df-convert');\n",
              "      buttonEl.style.display =\n",
              "        google.colab.kernel.accessAllowed ? 'block' : 'none';\n",
              "\n",
              "      async function convertToInteractive(key) {\n",
              "        const element = document.querySelector('#df-337d64e3-443a-4d22-bac4-5e943e4f37a1');\n",
              "        const dataTable =\n",
              "          await google.colab.kernel.invokeFunction('convertToInteractive',\n",
              "                                                    [key], {});\n",
              "        if (!dataTable) return;\n",
              "\n",
              "        const docLinkHtml = 'Like what you see? Visit the ' +\n",
              "          '<a target=\"_blank\" href=https://colab.research.google.com/notebooks/data_table.ipynb>data table notebook</a>'\n",
              "          + ' to learn more about interactive tables.';\n",
              "        element.innerHTML = '';\n",
              "        dataTable['output_type'] = 'display_data';\n",
              "        await google.colab.output.renderOutput(dataTable, element);\n",
              "        const docLink = document.createElement('div');\n",
              "        docLink.innerHTML = docLinkHtml;\n",
              "        element.appendChild(docLink);\n",
              "      }\n",
              "    </script>\n",
              "  </div>\n",
              "\n",
              "\n",
              "<div id=\"df-7350e3a5-e779-42d0-bfd9-ce625b614bc5\">\n",
              "  <button class=\"colab-df-quickchart\" onclick=\"quickchart('df-7350e3a5-e779-42d0-bfd9-ce625b614bc5')\"\n",
              "            title=\"Suggest charts\"\n",
              "            style=\"display:none;\">\n",
              "\n",
              "<svg xmlns=\"http://www.w3.org/2000/svg\" height=\"24px\"viewBox=\"0 0 24 24\"\n",
              "     width=\"24px\">\n",
              "    <g>\n",
              "        <path d=\"M19 3H5c-1.1 0-2 .9-2 2v14c0 1.1.9 2 2 2h14c1.1 0 2-.9 2-2V5c0-1.1-.9-2-2-2zM9 17H7v-7h2v7zm4 0h-2V7h2v10zm4 0h-2v-4h2v4z\"/>\n",
              "    </g>\n",
              "</svg>\n",
              "  </button>\n",
              "\n",
              "<style>\n",
              "  .colab-df-quickchart {\n",
              "      --bg-color: #E8F0FE;\n",
              "      --fill-color: #1967D2;\n",
              "      --hover-bg-color: #E2EBFA;\n",
              "      --hover-fill-color: #174EA6;\n",
              "      --disabled-fill-color: #AAA;\n",
              "      --disabled-bg-color: #DDD;\n",
              "  }\n",
              "\n",
              "  [theme=dark] .colab-df-quickchart {\n",
              "      --bg-color: #3B4455;\n",
              "      --fill-color: #D2E3FC;\n",
              "      --hover-bg-color: #434B5C;\n",
              "      --hover-fill-color: #FFFFFF;\n",
              "      --disabled-bg-color: #3B4455;\n",
              "      --disabled-fill-color: #666;\n",
              "  }\n",
              "\n",
              "  .colab-df-quickchart {\n",
              "    background-color: var(--bg-color);\n",
              "    border: none;\n",
              "    border-radius: 50%;\n",
              "    cursor: pointer;\n",
              "    display: none;\n",
              "    fill: var(--fill-color);\n",
              "    height: 32px;\n",
              "    padding: 0;\n",
              "    width: 32px;\n",
              "  }\n",
              "\n",
              "  .colab-df-quickchart:hover {\n",
              "    background-color: var(--hover-bg-color);\n",
              "    box-shadow: 0 1px 2px rgba(60, 64, 67, 0.3), 0 1px 3px 1px rgba(60, 64, 67, 0.15);\n",
              "    fill: var(--button-hover-fill-color);\n",
              "  }\n",
              "\n",
              "  .colab-df-quickchart-complete:disabled,\n",
              "  .colab-df-quickchart-complete:disabled:hover {\n",
              "    background-color: var(--disabled-bg-color);\n",
              "    fill: var(--disabled-fill-color);\n",
              "    box-shadow: none;\n",
              "  }\n",
              "\n",
              "  .colab-df-spinner {\n",
              "    border: 2px solid var(--fill-color);\n",
              "    border-color: transparent;\n",
              "    border-bottom-color: var(--fill-color);\n",
              "    animation:\n",
              "      spin 1s steps(1) infinite;\n",
              "  }\n",
              "\n",
              "  @keyframes spin {\n",
              "    0% {\n",
              "      border-color: transparent;\n",
              "      border-bottom-color: var(--fill-color);\n",
              "      border-left-color: var(--fill-color);\n",
              "    }\n",
              "    20% {\n",
              "      border-color: transparent;\n",
              "      border-left-color: var(--fill-color);\n",
              "      border-top-color: var(--fill-color);\n",
              "    }\n",
              "    30% {\n",
              "      border-color: transparent;\n",
              "      border-left-color: var(--fill-color);\n",
              "      border-top-color: var(--fill-color);\n",
              "      border-right-color: var(--fill-color);\n",
              "    }\n",
              "    40% {\n",
              "      border-color: transparent;\n",
              "      border-right-color: var(--fill-color);\n",
              "      border-top-color: var(--fill-color);\n",
              "    }\n",
              "    60% {\n",
              "      border-color: transparent;\n",
              "      border-right-color: var(--fill-color);\n",
              "    }\n",
              "    80% {\n",
              "      border-color: transparent;\n",
              "      border-right-color: var(--fill-color);\n",
              "      border-bottom-color: var(--fill-color);\n",
              "    }\n",
              "    90% {\n",
              "      border-color: transparent;\n",
              "      border-bottom-color: var(--fill-color);\n",
              "    }\n",
              "  }\n",
              "</style>\n",
              "\n",
              "  <script>\n",
              "    async function quickchart(key) {\n",
              "      const quickchartButtonEl =\n",
              "        document.querySelector('#' + key + ' button');\n",
              "      quickchartButtonEl.disabled = true;  // To prevent multiple clicks.\n",
              "      quickchartButtonEl.classList.add('colab-df-spinner');\n",
              "      try {\n",
              "        const charts = await google.colab.kernel.invokeFunction(\n",
              "            'suggestCharts', [key], {});\n",
              "      } catch (error) {\n",
              "        console.error('Error during call to suggestCharts:', error);\n",
              "      }\n",
              "      quickchartButtonEl.classList.remove('colab-df-spinner');\n",
              "      quickchartButtonEl.classList.add('colab-df-quickchart-complete');\n",
              "    }\n",
              "    (() => {\n",
              "      let quickchartButtonEl =\n",
              "        document.querySelector('#df-7350e3a5-e779-42d0-bfd9-ce625b614bc5 button');\n",
              "      quickchartButtonEl.style.display =\n",
              "        google.colab.kernel.accessAllowed ? 'block' : 'none';\n",
              "    })();\n",
              "  </script>\n",
              "</div>\n",
              "    </div>\n",
              "  </div>\n"
            ],
            "application/vnd.google.colaboratory.intrinsic+json": {
              "type": "dataframe",
              "summary": "{\n  \"name\": \"pd\",\n  \"rows\": 5,\n  \"fields\": [\n    {\n      \"column\": \"train\",\n      \"properties\": {\n        \"dtype\": \"number\",\n        \"std\": 0.11678552608142173,\n        \"min\": 0.7333210507484366,\n        \"max\": 0.9983331983223975,\n        \"num_unique_values\": 5,\n        \"samples\": [\n          0.9946662962705743,\n          0.9981665236045778,\n          0.9983331983223975\n        ],\n        \"semantic_type\": \"\",\n        \"description\": \"\"\n      }\n    },\n    {\n      \"column\": \"dev\",\n      \"properties\": {\n        \"dtype\": \"number\",\n        \"std\": 0.06445929233071178,\n        \"min\": 0.7181964573268922,\n        \"max\": 0.8714405734050565,\n        \"num_unique_values\": 5,\n        \"samples\": [\n          0.8294689207107995,\n          0.8714405734050565,\n          0.8699479791916768\n        ],\n        \"semantic_type\": \"\",\n        \"description\": \"\"\n      }\n    }\n  ]\n}"
            }
          },
          "metadata": {},
          "execution_count": 217
        }
      ],
      "source": [
        "model_names = ['unigram', 'bigram', 'unigram+bigram', 'hand-built', 'all']\n",
        "data = ['train', 'dev']\n",
        "results = [ [ unigram_lr_train_f1_score, unigram_lr_dev_f1_score],\n",
        "            [ bigram_lr_train_f1_score, bigram_lr_dev_f1_score],\n",
        "            [ unibigram_lr_train_f1_score, unibigram_lr_dev_f1_score],\n",
        "            [ handcrafted_lr_train_f1_score, handcrafted_lr_dev_f1_score],\n",
        "            [ all_features_lr_train_f1_score , all_features_lr_dev_f1_score],\n",
        "          ]\n",
        "pd.DataFrame(results, index = model_names, columns = data)"
      ]
    },
    {
      "cell_type": "markdown",
      "metadata": {
        "id": "KDCNShK-HASA"
      },
      "source": [
        "### Model comparison of `unigram_lr_dev_f1_score` and `all_features_lr_dev_f1_score`\n",
        "\n",
        "Options for comparing models are:\n",
        "- McNemar's test"
      ]
    },
    {
      "cell_type": "code",
      "execution_count": null,
      "metadata": {
        "id": "XG1bhZNEJWEL"
      },
      "outputs": [],
      "source": [
        "all_features_lr_correct = all_features_lr_dev_preds == dev_imdb['label']\n",
        "unigram_lr_correct = unigram_lr_dev_preds == dev_imdb['label']"
      ]
    },
    {
      "cell_type": "code",
      "execution_count": null,
      "metadata": {
        "id": "7024tK-nJnwM"
      },
      "outputs": [],
      "source": [
        "contingency_tab = pd.crosstab(all_features_lr_correct, unigram_lr_correct)"
      ]
    },
    {
      "cell_type": "code",
      "execution_count": null,
      "metadata": {
        "id": "YC5l9lKqKOR3"
      },
      "outputs": [],
      "source": [
        "from statsmodels.stats.contingency_tables import mcnemar"
      ]
    },
    {
      "cell_type": "code",
      "execution_count": null,
      "metadata": {
        "id": "2GBhIVC-KXhA"
      },
      "outputs": [],
      "source": [
        "result = mcnemar(contingency_tab, exact=True)"
      ]
    },
    {
      "cell_type": "code",
      "execution_count": null,
      "metadata": {
        "colab": {
          "base_uri": "https://localhost:8080/"
        },
        "id": "y_1GrmmXKc26",
        "outputId": "95121bb2-cb46-4f8c-e245-00cb6c2838a9"
      },
      "outputs": [
        {
          "output_type": "stream",
          "name": "stdout",
          "text": [
            "statistic=63.000, p-value=0.042\n"
          ]
        }
      ],
      "source": [
        "print('statistic=%.3f, p-value=%.3f' % (result.statistic, result.pvalue))"
      ]
    },
    {
      "cell_type": "markdown",
      "metadata": {
        "id": "7kaRMfFGKgce"
      },
      "source": [
        "### Error Analysis of `all_features_lr_dev_f1_score`"
      ]
    },
    {
      "cell_type": "code",
      "execution_count": null,
      "metadata": {
        "colab": {
          "base_uri": "https://localhost:8080/"
        },
        "id": "vuTkObIWKrTg",
        "outputId": "7ce92c1e-fd1f-481b-dfb3-cfbd947ad4ca"
      },
      "outputs": [
        {
          "output_type": "stream",
          "name": "stdout",
          "text": [
            "LABEL: pos\n",
            "The 1967 In Cold Blood was perhaps more like \"the real thing\" (Think about it: would we really want to see the real thing?), but it was black and white in a color world, and a lot of people didn't even know what it was, and there was an opportunity to remake it for television. Plus, if you remake it, you can show some stuff not shown in the original. The book In Cold Blood by Truman Capote was the first \"nonfiction novel\". Truman's book was in fact not 100% true to the real story. I thought the Canadian location sufficed for Kansas pretty much for a TV movie. Look for the elements of sex, drugs and rock 'n' roll: Dick's womanizing, Perry being an aspirin junkie, Perry playing blues guitar.\n",
            "------------------------------------------------------\n",
            "\n",
            "LABEL: pos\n",
            "\"The Ladies Man\" suffers a common problem among movies based on \"Saturday Night Live\" skits. And that is, a sketch that usually succeeds in five minutes will not do so well in ninety minutes. Although this movie does have its laughs, like Tim Meadows as Leon Phelps, a sex-maniac straight out of the '70s, and Will Ferrell as a wrestling-obsessed husband cuckolded by Leon. So this movie is funny enough, but it's no \"Wayne's World\"!\n",
            "------------------------------------------------------\n",
            "\n",
            "LABEL: pos\n",
            "I really don't understand why people get so upset and pan this movie! Remember folks, this is an SNL movie, not anything that is supposed to be unpredictable and original in plot or direction! The Ladies Man is a hilarious movie, albeit stupid at times, with a wacked-out cast and, as usual, WONDERFUL performances by Will Ferrel and Tim Meadows. Yes some of the jokes are stupid, and yes, the characters are unbelievable but its comedy! I really don't understand how anyone couldn't laugh a lot during this hilarious film. Anyway, all I ask is that people take this as it is--an SNL, silly and irreverent comedy. Nothing that will win awards, but nonetheless, some modern comedy gold. \"10-4 Apricot!\"\n",
            "------------------------------------------------------\n",
            "\n",
            "LABEL: pos\n",
            "Bonanza had a great cast of wonderful actors. Lorne Greene, Pernell Whitaker, Michael Landon, Dan Blocker, and even Guy Williams (as the cousin who was brought in for several episodes during 1964 to replace Adam when he was leaving the series). The cast had chemistry, and they seemed to genuinely like each other. That made many of their weakest stories work a lot better than they should have. It also made many of their best stories into great western drama.<br /><br />Like any show that was shooting over thirty episodes every season, there are bound to be some weak ones. However, most of the time each episode had an interesting story, some kind of conflict, and a resolution that usually did not include violence. While Bonanza was a western, the gunfighting was never featured as the main attraction. While I am a fan of The Rifleman and Wanted: Dead Or Alive; those shows usually ended with a gunfight. Gunfights were how many westerns resolved every conflict, and Bonanza was very different in trying to seek peaceful resolutions and harmony instead of killing.<br /><br />In the early years of Bonanza, there are some interesting episodes that do feature a lot of gunfights. Those episodes stand in contrast to the rest of the series, but they are pretty good in and of themselves. In 1964, when Pernell Whitaker wanted to leave the show, Guy Williams was brought in to replace him. Williams was playing the role of a long-lost cousin. Unfortunately, Whitaker decided to stay one more year, and thus Williams was written out of the series when he moved away to marry Adam's old girlfriend. If Williams had stayed on for the duration of Bonanza, one can only wonder how much better the series would have been in the years after 1965, when Pernell Whitaker left the show.<br /><br />Undoubtedly, once Pernell Whitaker left the series, the stories focused more on comedy and country hijinks. Whitaker had often played the heavy in many episodes, and his absence left a void in the cast. Little Joe always wanted to play the nice kid, and Hoss always wanted to play the good old boy with a heart of gold. Since Ben was the kind and wise patriarch of the family, that did not leave too much room for any gunfights.<br /><br />At some point they hired a ranch hand called Candy (David Canary) who became their fourth member of the cast, but Candy was never featured in any gunfights, and he was hardly more than an older version of Little Joe. For a year or two they also had Ben take in some other lost cousin (Jamie, played by the forgettable Mitch Vogel) who was a teenager that was usually getting into some kind of trouble with someone.<br /><br />Apparently by adding the teenager, the studio was looking to attract younger viewers. It also gave the writers a chance to write episodes about teenage problems, alcohol, delinquency, etc. Those kind of preachy episodes were popular in the 1960s as a reaction of the establishment media to the counter-culture movement. Dragnet was probably the most popular source of law and order TV, though Hawaii 5-0, The F.B.I. and many other shows also tried to jump on the bandwagon by doing TV shows that featured irresponsible teenagers causing mischief, mayhem, and crime.<br /><br />The addition of a teenager to the cast gave the Cartwrights more chances to show up and solve problems, but those episodes feel very contrived and are not very good in general. After Dan Blocker died, the series limped along for another year or so before it was canceled. The last season was pretty bad, as it featured Little Joe tracking down the killers of his wife, and most of the episodes were somewhat depressing because Little Joe was usually drinking or otherwise remembering how much he loved his wife, and how unfair it was that she was killed.<br /><br />I don't think I have ever seen the last episode of the series, and I wonder if they ever officially wrapped it up in some way. By the last year, there was only Ben (Lorne Greene) actually living on the Ponderosa, as Adam had moved away (and never came back even once as a guest) and Hoss had died and Little Joe had left after his wife (in the series) had been killed by drifters.<br /><br />Overall, the era from 1959-1965 is the best of this series. Once Adam left, it slowly declined. Most of the shows before 1970 are pretty good too. By 1970, the series was trying to hard to be hip and topical, and it had lost a lot of its western flavor. The addition of Candy and the teenage kid also diluted the general quality of the show, and the death of Hoss (Dan Blocker) was the final nail. Bonanza is probably the best western series ever made, and of the 465 episodes that were produced, at least one hundred of them are excellent western drama! That is a pretty good record. Even the worst of Bonanza is better than a lot of other TV shows.\n",
            "------------------------------------------------------\n",
            "\n",
            "LABEL: pos\n",
            "What more could I say? The Americans totally hated it because the U.S. cut was so bad, although you could detect the underlying goodwill in it.<br /><br />Talking about the U.S. theatrical release(along with the newly released Blu-ray Disc version), it's faster and tighter than HK cut, the background musics were all changed from the dark, grim HK musics to Hip-hop musics; and there were a lot of gruesome scenes cut out. Though, the dubbing was a notable job given that they tried to capture the original actor's voice and tone. But, the problem is Hak Hap(Black Mask) the movie was designed and meant to be dark, grim, super-disturbing and totally gruesome. Very unfortunately the U.S. release just skimmed the cream they wanted, which in return completely changed the movie's undertone(HK release was rated 18+) to be even more comical and amateurish.<br /><br />Now let's talk about the original HK release. This movie is like a hidden gem, a prototype for the whole \"matrix\" tide and era. The fighting scenes are totally awesome even the camera works were a bit \"old-school\" among HK movies. However the style the movie created was a unique blend of Kungfu and pop culture. With all the leather, black costumes and decorations, this movie features a batman-like superhero in a black mask against a run-of-the-mill gang of multinational super-soldiers lead by a punk heavy metal rock star boss. Yes it sounds like imaginations of a retarded child, but it works. It's so impressive that the whole movie's gonna give you nightmares featuring foreigners fighting a bloodbath battle in leather coats. In year 2002 they made a sequel which had a PG-13 rating, but without Jet Li and Liu Qing Yun. And you know how bad that was because Li and Liu were the core characters in the movie and had strong personalities and an interesting friendship. And, did I happen to mention Francois Yip? Her roundhouse kick was totally cool, even cooler than the villain boss because she didn't use a stuntman for all the fighting. Did I mention she was also smoking hot? Anyway, there are a lot of things to like about the movie.<br /><br />However, the movie also suffered from a lot of problems. First off, it's a mediocre script made at its best potential, which means this production team deserved a better screen-writer. There are a lot climaxes in the entire 100 minutes but they often felt like far-fetched and don't totally make senses to the audiences(US version was even worse because all the character developments were cut). Anyway, you can't ask too much out of a comic-inspired action movie. Also, this movie is entirely improper for children. I won't recommend it to you if you are less than 20 years old. It's saturated with disturbing contents including blood, gore, sado-maso costumes, extreme brutal violence and so on. Along with the style of the movie, it can be called a wet dream for heavy-metal rock music fans and action fans. (the U.S. cut was milder, but if you want to see it, see the HK release for what it is.) 7/10. Status: inspiring, hidden, undervalued, adult.\n",
            "------------------------------------------------------\n",
            "\n",
            "LABEL: neg\n",
            "Watching beautiful women sneaking around, playing cops and robbers is one of the most delightful guilty pleasures the medium film lets me enjoy. So The House on Carroll Street was not entirely a waste of time, although the story is contrived and the screenplay uninspired and somewhat irritating.<br /><br />There are many allusions to different Hitchcock pictures, not least the choice of Kelly McGillis in the starring role. She is dressed up as Grace Kelly, and she is not far off the mark. Not at all. But her character is not convincing. The way she is introduced to the audience, she should be someone with political convictions and a purpose in life. After all the movie deals with a clearly defined time period, true events and a specific issue. But the story degenerates within the first minutes into a sorry run-off-the-mill crime story with unbelievable coincidences, high predictability and a set of two dimensional characters. This is all the more regrettable, as the performances of the actors are good, as are the photography and the set design.<br /><br />The finale in Central Station, New York is breath taking. It starts in the subterranean section and then moves up to the roof. The movie can be praised for its good use of architecture.\n",
            "------------------------------------------------------\n",
            "\n",
            "LABEL: neg\n",
            "Squeamish 11-year-old Luke Benward (as Billy \"Worm Boy\" Forrester) moves to a new town. At his new school, young Benward is picked on by the other boys. They put worms in his thermos. Getting his gag reflex under control, Benward tosses a worm on freckle-faced bully Adam Hicks (as Joe Guire). Benward bets he can eat 10 worms in one day - without regurgitation! <br /><br />Tall, teased Hallie Kate Eisenberg (as Erika \"Erk\" Tansy) uses her archery skills to help Benward. Director and former SCTV writer Bob Dolman promises, \"No worms were harmed in the making of this movie.\" In a related note, SCTV star Andrea Martin has one funny scene. \"How to Eat Fried Worms\" is loosely based on Thomas Rockwell's popular novel. Pre-teen kids into gross-outs should enjoy the film.<br /><br />**** How to Eat Fried Worms (8/25/06) Bob Dolman ~ Luke Benward, Adam Hicks, Hallie Kate Eisenberg, Alexander Gould\n",
            "------------------------------------------------------\n",
            "\n",
            "LABEL: neg\n",
            "At least the under ten year old set will stay interested. Eleanor(Geena Davis)and Fred(Hugh Laurie)Little, a nice well-to-do couple set out to bring home from the orphanage a new little brother for their son George(Johnathan Lipnicki). They come home with quite the odd new sibling...a sharp dressed little mouse named Stuart(voiced by Michael J. Fox). Yes, mouse. Stuart is happy to have found the sense of belonging even if it is in a super sized world that contains his new family's pet cat Snowbell(voiced by Nathan Lane). Stuart embarks on the experience of family loyalty and overall friendship. George will finally accept his tiny new brother when the dapper dressed Stuart saves embarrassment at a model boat race.<br /><br />Also in the cast: Julia Sweeney, Harold Gould, Estelle Getty and Jeffery Jones. And the voices of: Chaz Palminteri, Bruno Kirby and Jennifer Tilly.\n",
            "------------------------------------------------------\n",
            "\n",
            "LABEL: neg\n",
            "WE FAW DOWN <br /><br />Aspect ratio: 1.33:1<br /><br />Sound format: Silent<br /><br />(Black and white - Short film)<br /><br />Stan 'n' Ollie get mixed up with a couple of floozies (Kay Deslys and Vera White) after setting out to visit a theatre which burns down in their absence! Needless to say, their tyrannical wives (Vivien Oakland and Bess Flowers) are not amused...<br /><br />Leo McCarey's OK comedy laid the narrative framework for William Seiter's masterpiece SONS OF THE DESERT (1934), with L&H playing brow-beaten victims of circumstance, forced to tell a monstrous lie which backfires in spectacular fashion. Much of it is very funny, especially the scene in which Stan is teased by Deslys, leading to a violent game of push and shove. However, some of the fun is undercut by Oakland and Flowers, playing their roles completely straight, which adds an element of unpleasantness to the 'henpecked husband' scenario. Originally released in the UK as WE SLIP UP.\n",
            "------------------------------------------------------\n",
            "\n",
            "LABEL: neg\n",
            "Now I'll be the first to admit it when I say something that may be blasphemous or unfair, so I would like to apologize in advance for my ranting about how much I disliked this movie.<br /><br />That about sums it up too. I disliked this movie. To be more specific, I disliked the concept of this movie. The cinematography was good. The mood was nice. And the acting was satisfactory.<br /><br /> However, the story is fatuous, unacurate and misleading. It is also offensive.<br /><br />I am a quarter Cree Indian, and for some reason I feel insulted, on a personal level, by the nature of Whitaker's character. First of all, he's a black guy. And this isn't a racist remark, I swear. The thought of a White, Hispanic or even Native American swinging a katana on a rooftop offends everything that the katana represents. The katana represents the soul of a Samurai, imbibed with the souls of his ancestors who guide and protect the Samurai. For Ghost Dog to use his guns instead of the Katana is also an insult to the blade and the souls inside, and where the heck did he get a Katana anyway? It must be one of those replicas, which insults the Samurai caste even more.<br /><br />Also, Ghost Dog showed no honor. Near the end of the movie, he shoots a bodyguard in the back through a window and then assassinates a man by shooting him in the face through a faucet drain. Not only is this a cowards way to kill an enemy, it's more like a ninjas way; silent assassins; a group that samurais deny exists, but hates none-the-less.<br /><br />Then he tries to kill his boss, when he finds out his boss is a baddie. You know what a true Samurai does when he learns his master is proven bad or dishonorable? He kills himself, to prove that he would rather die then lower himself to the level of his doggish master.<br /><br />Everything about the character was a giant contradiction to the real code that all Samurai adhere to: Bushido.<br /><br />So, we have great cinematography, good ambiance and so-so acting encompassing a satiricle plot and premise, (which unfortunately is the most important aspect of it) , making it an unsatisfactory overall film, and an insult to everything a honorable bushi(samurai) holds dear.<br /><br /> 2.5/10 Bleah\n",
            "------------------------------------------------------\n",
            "\n"
          ]
        }
      ],
      "source": [
        "for label in ['pos', 'neg']:\n",
        "  for text, _ in dev_imdb[(~all_features_lr_correct) & (dev_imdb['label'] == label)].sample(5, random_state = 12).itertuples(index = False):\n",
        "    print(f\"LABEL: {label}\")\n",
        "    print(text)\n",
        "    print('------------------------------------------------------\\n')"
      ]
    },
    {
      "cell_type": "code",
      "execution_count": null,
      "metadata": {
        "id": "B5tFOpmiLA7E"
      },
      "outputs": [],
      "source": []
    },
    {
      "cell_type": "markdown",
      "metadata": {
        "id": "2oqc0AZrLWn6"
      },
      "source": [
        "## Neural/Deep NLP"
      ]
    },
    {
      "cell_type": "markdown",
      "metadata": {
        "id": "sLfV4qBNXSGb"
      },
      "source": [
        "### Averaged Word Embeddings\n",
        "\n"
      ]
    },
    {
      "cell_type": "code",
      "execution_count": null,
      "metadata": {
        "id": "DLnY0UlJYeMZ"
      },
      "outputs": [],
      "source": [
        "import multiprocessing\n",
        "from gensim.models import Word2Vec\n",
        "import spacy\n",
        "import random"
      ]
    },
    {
      "cell_type": "markdown",
      "metadata": {
        "id": "Sm8VZYUnPBjY"
      },
      "source": [
        "#### Bespoke vectors (Word2Vec)\n",
        "\n",
        "> N.B. Word2Vec is not technically a **neural** learning algorithm. It is based on a simple logistic regression.  But it's typically lumped under the neural approaches to NLP."
      ]
    },
    {
      "cell_type": "code",
      "execution_count": null,
      "metadata": {
        "id": "BhlMN2I5XU53"
      },
      "outputs": [],
      "source": [
        "w2v_model = Word2Vec(min_count=5,\n",
        "                     vector_size = 100,\n",
        "                     window=5,\n",
        "                     negative=15,\n",
        "                     sg=0,\n",
        "                     workers = multiprocessing.cpu_count())"
      ]
    },
    {
      "cell_type": "code",
      "execution_count": null,
      "metadata": {
        "id": "UAzJNuyzZJdq"
      },
      "outputs": [],
      "source": [
        "spacy.require_gpu()\n",
        "nlp = spacy.load('en_core_web_sm')\n",
        "\n",
        "train_imdb_tokens = []\n",
        "for doc in nlp.pipe(train_imdb['text'].values):\n",
        "  train_imdb_tokens.append([t.text.lower() for t in doc])\n",
        "\n",
        "dev_imdb_tokens = []\n",
        "for doc in nlp.pipe(dev_imdb['text'].values):\n",
        "  dev_imdb_tokens.append([t.text.lower() for t in doc])\n",
        "\n",
        "test_imdb_tokens = []\n",
        "for doc in nlp.pipe(test_imdb['text'].values):\n",
        "  test_imdb_tokens.append([t.text.lower() for t in doc])"
      ]
    },
    {
      "cell_type": "code",
      "execution_count": null,
      "metadata": {
        "colab": {
          "base_uri": "https://localhost:8080/"
        },
        "id": "Th77CIZWa4-1",
        "outputId": "b70897c9-3b00-4bb7-b3e6-b1c1ec20c6ef"
      },
      "outputs": [
        {
          "output_type": "execute_result",
          "data": {
            "text/plain": [
              "['i', 'just', 'watched', 'this', 'movie', 'and', 'i', \"'ve\", 'got', 'ta']"
            ]
          },
          "metadata": {},
          "execution_count": 227
        }
      ],
      "source": [
        "example_id = random.randint(a=0, b = len(train_imdb))\n",
        "train_imdb_tokens[example_id][:10]"
      ]
    },
    {
      "cell_type": "code",
      "execution_count": null,
      "metadata": {
        "id": "oi--limOYyyy"
      },
      "outputs": [],
      "source": [
        "w2v_model.build_vocab(train_imdb_tokens)"
      ]
    },
    {
      "cell_type": "code",
      "execution_count": null,
      "metadata": {
        "colab": {
          "base_uri": "https://localhost:8080/"
        },
        "id": "phQtOkKJcKh3",
        "outputId": "d8a55301-f051-49d2-9304-c8001a374647"
      },
      "outputs": [
        {
          "output_type": "execute_result",
          "data": {
            "text/plain": [
              "array([ 0.00972425, -0.00113141, -0.00702297, -0.00203539,  0.00609566,\n",
              "        0.00172319,  0.00147087,  0.00182519,  0.00594567, -0.00322304,\n",
              "        0.00935239,  0.00387275,  0.00232262, -0.00394478, -0.00835901,\n",
              "        0.00082546, -0.00312544, -0.00973298, -0.00564231, -0.00859975,\n",
              "        0.00175456, -0.00832814,  0.00467713,  0.00237465,  0.00635734,\n",
              "        0.00030658,  0.00738721, -0.00279142, -0.00198896, -0.00257633,\n",
              "       -0.00979148,  0.00797476, -0.00884065,  0.00453039, -0.00060483,\n",
              "       -0.00457082,  0.00459354, -0.00297342,  0.00130716,  0.00905913,\n",
              "        0.00560406, -0.00236014, -0.00214333,  0.00014315, -0.00209849,\n",
              "        0.00467608,  0.00369906, -0.00547406,  0.0095477 ,  0.00298448,\n",
              "        0.00107886, -0.00531705, -0.00581873,  0.00720453,  0.00202043,\n",
              "       -0.00167853,  0.0066582 ,  0.00953487,  0.00629491, -0.00871776,\n",
              "        0.00676616,  0.00068176,  0.00305302, -0.00090746,  0.00012399,\n",
              "       -0.0041735 , -0.00446759, -0.00751167, -0.00496302, -0.00839298,\n",
              "       -0.00028923,  0.00634931,  0.00309532, -0.0065001 , -0.00454296,\n",
              "       -0.00935635,  0.00292627,  0.00117898,  0.00986824, -0.00554977,\n",
              "       -0.00443638, -0.00260453,  0.00925024,  0.00620273, -0.00144615,\n",
              "        0.00202806, -0.00186724, -0.00701678, -0.0070683 , -0.00742602,\n",
              "       -0.00388791,  0.00193538,  0.00260983,  0.00684876,  0.00394366,\n",
              "       -0.00054219,  0.00705066,  0.0034862 , -0.00566003,  0.00583604],\n",
              "      dtype=float32)"
            ]
          },
          "metadata": {},
          "execution_count": 229
        }
      ],
      "source": [
        "w2v_model.wv['movies'] # currently random"
      ]
    },
    {
      "cell_type": "code",
      "execution_count": null,
      "metadata": {
        "colab": {
          "base_uri": "https://localhost:8080/"
        },
        "id": "z-qFi4BUfPQF",
        "outputId": "d9a1f8ae-1856-4f2d-98db-e18b4d097b0d"
      },
      "outputs": [
        {
          "output_type": "execute_result",
          "data": {
            "text/plain": [
              "[('ships', 0.3825451135635376),\n",
              " ('likes', 0.35172322392463684),\n",
              " ('colors', 0.34478384256362915),\n",
              " ('cheech', 0.341118186712265),\n",
              " ('chong', 0.3308126926422119),\n",
              " ('massive', 0.3288927376270294),\n",
              " ('solve', 0.323356032371521),\n",
              " ('tonight', 0.31997403502464294),\n",
              " ('hammy', 0.31638652086257935),\n",
              " ('insist', 0.31461265683174133)]"
            ]
          },
          "metadata": {},
          "execution_count": 230
        }
      ],
      "source": [
        "w2v_model.wv.most_similar('movies') # currently random words"
      ]
    },
    {
      "cell_type": "code",
      "execution_count": null,
      "metadata": {
        "colab": {
          "base_uri": "https://localhost:8080/"
        },
        "id": "xjsNZ0Kfccg1",
        "outputId": "a07681b0-e314-4fb9-c883-1b4c7097be38"
      },
      "outputs": [
        {
          "output_type": "execute_result",
          "data": {
            "text/plain": [
              "(22354281, 32654600)"
            ]
          },
          "metadata": {},
          "execution_count": 231
        }
      ],
      "source": [
        "w2v_model.train(train_imdb_tokens, total_examples=w2v_model.corpus_count, epochs=20)"
      ]
    },
    {
      "cell_type": "code",
      "execution_count": null,
      "metadata": {
        "colab": {
          "base_uri": "https://localhost:8080/"
        },
        "id": "b0LMnM0feB6e",
        "outputId": "981d1163-4601-4b27-a143-82f0aa94e82b"
      },
      "outputs": [
        {
          "output_type": "execute_result",
          "data": {
            "text/plain": [
              "[('films', 0.8938843011856079),\n",
              " ('flicks', 0.7389309406280518),\n",
              " ('comedies', 0.6786540746688843),\n",
              " ('westerns', 0.6238583922386169),\n",
              " ('documentaries', 0.5924127101898193),\n",
              " ('cartoons', 0.5744126439094543),\n",
              " ('examples', 0.5720182061195374),\n",
              " ('sequels', 0.5697360634803772),\n",
              " ('episodes', 0.5660054683685303),\n",
              " ('things', 0.5415089726448059)]"
            ]
          },
          "metadata": {},
          "execution_count": 232
        }
      ],
      "source": [
        "w2v_model.wv.most_similar('movies') # seems to be learning something useful about word meaning!"
      ]
    },
    {
      "cell_type": "code",
      "execution_count": null,
      "metadata": {
        "id": "MyJsJe8kvxv-"
      },
      "outputs": [],
      "source": [
        "# w2v_model.wv.most_similar('inflation') # if word not in training data, you get a key error"
      ]
    },
    {
      "cell_type": "code",
      "execution_count": null,
      "metadata": {
        "id": "1kyBVuWkfncg"
      },
      "outputs": [],
      "source": [
        "# get word embeddings for training data\n",
        "\n",
        "def get_word_embeddings(model, data, keyed=False):\n",
        "  '''\n",
        "  Gets the summarized word embeddings for the data\n",
        "  INPUTS:\n",
        "    data: the list of tokens in the document\n",
        "    summarize: either 'mean' or 'max'\n",
        "  OUTPUT:\n",
        "    vector - ndim from the model\n",
        "  '''\n",
        "\n",
        "  token_matrix = []\n",
        "  if not keyed:\n",
        "    for token in data:\n",
        "      try:\n",
        "        token_matrix.append(model.wv[token])\n",
        "      except: # see cell above\n",
        "        pass\n",
        "    if token_matrix:\n",
        "      return np.array(token_matrix).mean(axis = 0)\n",
        "    else:\n",
        "      return np.zeros(model.vector_size)\n",
        "  else:\n",
        "    for token in data:\n",
        "      try:\n",
        "        token_matrix.append(model[token])\n",
        "      except: # see cell above\n",
        "        pass\n",
        "    if token_matrix:\n",
        "      return np.array(token_matrix).mean(axis = 0)\n",
        "    else:\n",
        "      return np.zeros(model.vector_size)\n"
      ]
    },
    {
      "cell_type": "code",
      "execution_count": null,
      "metadata": {
        "colab": {
          "base_uri": "https://localhost:8080/"
        },
        "id": "HCAwRa4Uhrwk",
        "outputId": "6e467d49-8eb7-40d1-cbee-827568fe0e94"
      },
      "outputs": [
        {
          "output_type": "execute_result",
          "data": {
            "text/plain": [
              "array([-1.1334231e-01, -3.9511469e-01,  8.2574499e-01,  9.2242379e-04,\n",
              "       -5.7771724e-01,  5.5657554e-01, -1.5646856e-01, -8.7160510e-01,\n",
              "        8.4054969e-02,  1.1122791e+00,  6.6736937e-01,  1.0917974e+00,\n",
              "        2.5379789e-01, -9.5529974e-01, -4.0779045e-01,  8.6104363e-01,\n",
              "       -2.1186617e-01,  3.6354253e-01, -1.7827281e-01, -2.3409714e-01,\n",
              "       -1.3169334e-02, -2.7839211e-01, -6.8900520e-01, -2.9328063e-01,\n",
              "       -5.7218117e-01, -8.0026582e-02,  4.3921578e-01, -5.1065481e-01,\n",
              "       -3.7989851e-02, -1.2111787e-01, -3.0202997e-01,  1.7275397e-01,\n",
              "       -1.6615881e-01,  3.6215588e-01,  1.3220951e-01, -6.9607008e-01,\n",
              "       -3.4182003e-01, -1.0998958e-01, -3.1858727e-01,  6.7548585e-01,\n",
              "        4.7216031e-01, -5.4586321e-01, -1.5797949e-01,  4.7849050e-01,\n",
              "       -4.9746972e-01, -2.9249126e-01, -1.5839428e-01,  5.2168816e-01,\n",
              "        2.4468699e-02,  6.3565537e-02, -5.6890089e-02,  3.4628829e-01,\n",
              "        5.4999103e-04,  3.2145107e-01,  1.9097422e-01, -3.8498670e-01,\n",
              "       -3.2006553e-01, -3.2619771e-01,  3.7201813e-01,  2.1284035e-01,\n",
              "       -1.8337544e-02,  5.3045678e-01, -4.4610316e-01,  2.3672290e-01,\n",
              "       -1.0089200e-02, -8.1912524e-01, -1.3523486e-01, -4.5169431e-01,\n",
              "       -1.7395957e-01, -4.8817474e-01,  1.2802771e-01,  3.6460772e-01,\n",
              "       -4.7789329e-01, -8.0232129e-02, -1.4137912e-02,  2.2684231e-01,\n",
              "       -3.5167345e-01,  2.4177593e-01,  5.6793767e-01,  2.1458264e-01,\n",
              "        3.3323491e-01,  1.1612315e-01,  6.8502605e-01,  2.4731791e-01,\n",
              "        6.1137158e-01,  3.1470808e-01,  2.5373420e-01,  3.7852201e-01,\n",
              "       -2.1737945e-01, -1.3326830e-01, -7.1732953e-02,  4.1188252e-01,\n",
              "       -3.6068082e-02,  1.5758438e-02, -1.2478284e-01, -1.6473210e-01,\n",
              "        7.3157363e-02, -2.1318182e-01,  8.5679345e-02,  2.5398776e-01],\n",
              "      dtype=float32)"
            ]
          },
          "metadata": {},
          "execution_count": 235
        }
      ],
      "source": [
        "example_embeds_mean = get_word_embeddings(w2v_model, train_imdb_tokens[0])\n",
        "example_embeds_mean"
      ]
    },
    {
      "cell_type": "code",
      "execution_count": null,
      "metadata": {
        "colab": {
          "base_uri": "https://localhost:8080/"
        },
        "id": "DIUACTriiIlz",
        "outputId": "57b4f15d-933e-4cf6-8dc1-975e31865ce0"
      },
      "outputs": [
        {
          "output_type": "execute_result",
          "data": {
            "text/plain": [
              "(100,)"
            ]
          },
          "metadata": {},
          "execution_count": 236
        }
      ],
      "source": [
        "example_embeds_mean.shape"
      ]
    },
    {
      "cell_type": "code",
      "execution_count": null,
      "metadata": {
        "id": "2zJC8P-CiZzB"
      },
      "outputs": [],
      "source": [
        "training_mean_embeds = np.array([get_word_embeddings(w2v_model, review) for review in train_imdb_tokens])\n",
        "dev_mean_embeds = np.array([get_word_embeddings(w2v_model, review) for review in dev_imdb_tokens])\n",
        "test_mean_embeds = np.array([get_word_embeddings(w2v_model, review) for review in test_imdb_tokens])"
      ]
    },
    {
      "cell_type": "code",
      "execution_count": null,
      "metadata": {
        "colab": {
          "base_uri": "https://localhost:8080/"
        },
        "id": "sPw3QrYyioKK",
        "outputId": "d2499749-13d0-46d2-c255-d4a2cc21addd"
      },
      "outputs": [
        {
          "output_type": "execute_result",
          "data": {
            "text/plain": [
              "0.8309389689677974"
            ]
          },
          "metadata": {},
          "execution_count": 238
        }
      ],
      "source": [
        "from sklearn.linear_model import LogisticRegression\n",
        "from sklearn.metrics import f1_score\n",
        "\n",
        "mean_embeds_logit = LogisticRegression(max_iter=10000)\n",
        "mean_embeds_logit.fit(training_mean_embeds, train_imdb['label'].values)\n",
        "mean_embeds_dev_preds = mean_embeds_logit.predict(dev_mean_embeds)\n",
        "mean_embeds_lr_dev_f1_score = f1_score(dev_imdb['label'], mean_embeds_dev_preds, average = 'macro')\n",
        "mean_embeds_lr_dev_f1_score"
      ]
    },
    {
      "cell_type": "markdown",
      "metadata": {
        "id": "cZPHjYEUPXUP"
      },
      "source": [
        "#### Pretrained vectors (GloVe)\n",
        "\n",
        "Gensim ships with many pretrained word vectors."
      ]
    },
    {
      "cell_type": "code",
      "execution_count": null,
      "metadata": {
        "colab": {
          "base_uri": "https://localhost:8080/"
        },
        "id": "EY9FSUjHPnXE",
        "outputId": "c730fa6d-6608-44e4-b6de-dd113b53dda6"
      },
      "outputs": [
        {
          "output_type": "stream",
          "name": "stdout",
          "text": [
            "fasttext-wiki-news-subwords-300\n",
            "conceptnet-numberbatch-17-06-300\n",
            "word2vec-ruscorpora-300\n",
            "word2vec-google-news-300\n",
            "glove-wiki-gigaword-50\n",
            "glove-wiki-gigaword-100\n",
            "glove-wiki-gigaword-200\n",
            "glove-wiki-gigaword-300\n",
            "glove-twitter-25\n",
            "glove-twitter-50\n",
            "glove-twitter-100\n",
            "glove-twitter-200\n",
            "__testing_word2vec-matrix-synopsis\n"
          ]
        }
      ],
      "source": [
        "import gensim.downloader\n",
        "\n",
        "for model in gensim.downloader.info()['models'].keys():\n",
        "  print(model)"
      ]
    },
    {
      "cell_type": "markdown",
      "metadata": {
        "id": "JcqMNP9CPp-q"
      },
      "source": [
        "We'll look at:\n",
        "\n",
        "- glove-wiki-gigaword-100\n"
      ]
    },
    {
      "cell_type": "code",
      "execution_count": null,
      "metadata": {
        "id": "PiUDRUTczDi5",
        "colab": {
          "base_uri": "https://localhost:8080/"
        },
        "outputId": "f2e49895-1720-4b39-9b75-eccf9c83cac7"
      },
      "outputs": [
        {
          "output_type": "stream",
          "name": "stdout",
          "text": [
            "[==================================================] 100.0% 128.1/128.1MB downloaded\n"
          ]
        }
      ],
      "source": [
        "glove_100_vectors = gensim.downloader.load('glove-wiki-gigaword-100')"
      ]
    },
    {
      "cell_type": "code",
      "execution_count": null,
      "metadata": {
        "colab": {
          "base_uri": "https://localhost:8080/"
        },
        "id": "xaLqRFjlrhpG",
        "outputId": "860c51e3-361d-4937-eac1-3b2369e239ea"
      },
      "outputs": [
        {
          "output_type": "execute_result",
          "data": {
            "text/plain": [
              "100"
            ]
          },
          "metadata": {},
          "execution_count": 241
        }
      ],
      "source": [
        "glove_100_vectors.vector_size"
      ]
    },
    {
      "cell_type": "code",
      "source": [
        "glove_100_vectors['movies']"
      ],
      "metadata": {
        "colab": {
          "base_uri": "https://localhost:8080/"
        },
        "id": "cI52uR8m5r-8",
        "outputId": "ba36a872-715d-4f55-8269-4fa8e67be44c"
      },
      "execution_count": null,
      "outputs": [
        {
          "output_type": "execute_result",
          "data": {
            "text/plain": [
              "array([ 0.20318 , -0.038519,  0.36747 , -0.47398 ,  0.54958 ,  0.14834 ,\n",
              "       -0.57758 , -0.45752 , -0.096795, -0.21906 ,  0.36106 , -0.31937 ,\n",
              "       -0.21593 ,  0.34316 ,  0.19269 ,  0.17855 ,  0.35723 ,  0.58114 ,\n",
              "        0.49389 ,  1.418   ,  0.76268 ,  0.21746 ,  0.2875  , -0.40226 ,\n",
              "        0.51873 ,  0.24935 ,  0.48152 ,  0.083086, -0.27378 ,  0.029043,\n",
              "        0.43288 ,  0.59491 , -0.45899 , -0.01076 ,  0.81939 ,  0.69779 ,\n",
              "        0.20967 , -0.39015 , -0.48743 , -0.52194 ,  0.21541 ,  0.59994 ,\n",
              "       -1.2503  ,  0.3561  ,  0.097817, -0.51304 , -0.3622  , -0.95114 ,\n",
              "        0.48781 , -0.39364 , -0.20997 , -0.50353 ,  0.18934 ,  0.58658 ,\n",
              "        0.37526 , -1.6841  , -0.3164  ,  0.96816 ,  1.2753  ,  0.015298,\n",
              "       -0.39232 ,  2.4491  , -0.14734 , -0.57761 ,  0.50913 ,  0.41404 ,\n",
              "        1.1141  ,  0.25135 , -0.35589 ,  0.41739 ,  0.67043 , -0.22274 ,\n",
              "        0.22604 ,  0.67876 , -0.79047 ,  0.11936 , -0.45199 ,  0.40964 ,\n",
              "       -0.36133 , -0.23893 , -0.30886 , -0.2739  ,  0.36629 ,  0.018284,\n",
              "       -1.8354  ,  0.37113 , -0.99432 , -0.68132 , -0.41097 , -0.41655 ,\n",
              "       -0.06069 ,  0.33515 ,  0.18351 , -0.4858  , -0.73543 , -0.38655 ,\n",
              "        0.054254, -0.06087 ,  0.71377 ,  0.24922 ], dtype=float32)"
            ]
          },
          "metadata": {},
          "execution_count": 242
        }
      ]
    },
    {
      "cell_type": "code",
      "execution_count": null,
      "metadata": {
        "colab": {
          "base_uri": "https://localhost:8080/"
        },
        "id": "TfKkL291yxWQ",
        "outputId": "71d01a8d-acf6-4fc8-a458-f9e13f562fd0"
      },
      "outputs": [
        {
          "output_type": "execute_result",
          "data": {
            "text/plain": [
              "[('films', 0.914044976234436),\n",
              " ('movie', 0.895932674407959),\n",
              " ('film', 0.7889865040779114),\n",
              " ('hollywood', 0.7580320239067078),\n",
              " ('comedies', 0.7401068806648254),\n",
              " ('comedy', 0.7259803414344788),\n",
              " ('dramas', 0.7213095426559448),\n",
              " ('tv', 0.7155946493148804),\n",
              " ('documentaries', 0.7105302214622498),\n",
              " ('videos', 0.7034313678741455)]"
            ]
          },
          "metadata": {},
          "execution_count": 243
        }
      ],
      "source": [
        "glove_100_vectors.most_similar('movies')"
      ]
    },
    {
      "cell_type": "code",
      "execution_count": null,
      "metadata": {
        "id": "Ky2T6VBFzbid"
      },
      "outputs": [],
      "source": [
        "training_mean_glove_embeds = np.array([get_word_embeddings(glove_100_vectors, review, keyed=True) for review in train_imdb_tokens])\n",
        "dev_mean_glove_embeds = np.array([get_word_embeddings(glove_100_vectors, review, keyed=True) for review in dev_imdb_tokens])\n",
        "test_mean_glove_embeds = np.array([get_word_embeddings(glove_100_vectors, review, keyed=True) for review in test_imdb_tokens])"
      ]
    },
    {
      "cell_type": "code",
      "execution_count": null,
      "metadata": {
        "colab": {
          "base_uri": "https://localhost:8080/"
        },
        "id": "KUvoykVw07Je",
        "outputId": "b228b5dc-e45b-4a01-a27b-b7a623ea5c6c"
      },
      "outputs": [
        {
          "output_type": "execute_result",
          "data": {
            "text/plain": [
              "(6000, 100)"
            ]
          },
          "metadata": {},
          "execution_count": 245
        }
      ],
      "source": [
        "training_mean_glove_embeds.shape"
      ]
    },
    {
      "cell_type": "code",
      "source": [
        "training_mean_glove_embeds[0]"
      ],
      "metadata": {
        "colab": {
          "base_uri": "https://localhost:8080/"
        },
        "id": "MYBcQH4c6LXk",
        "outputId": "4f78cff9-83f8-4a82-9450-b6033dd2e517"
      },
      "execution_count": null,
      "outputs": [
        {
          "output_type": "execute_result",
          "data": {
            "text/plain": [
              "array([-0.11828782,  0.1989572 ,  0.39381486, -0.35690662, -0.13739882,\n",
              "        0.19712806, -0.12322772,  0.15742075, -0.05132868, -0.05816779,\n",
              "        0.16206902, -0.03891039,  0.22174294,  0.04558257,  0.18132102,\n",
              "       -0.20404053,  0.18852974,  0.144567  , -0.32479462,  0.328559  ,\n",
              "        0.2815716 , -0.03829998,  0.17104407, -0.03854465,  0.30780613,\n",
              "        0.07166793, -0.08602642, -0.46325296,  0.05870955, -0.17678702,\n",
              "       -0.05528191,  0.44895935, -0.05443738,  0.07221399,  0.11935463,\n",
              "        0.26125082,  0.02580668,  0.22708932,  0.05483676, -0.25686917,\n",
              "       -0.30149522, -0.1759669 ,  0.05327263, -0.2780731 , -0.08274836,\n",
              "       -0.0428144 ,  0.16072181, -0.30471432, -0.03673794, -0.63942933,\n",
              "       -0.06190938, -0.05651054,  0.14605546,  1.0537689 , -0.2415922 ,\n",
              "       -2.277287  , -0.01487697, -0.02979167,  1.3590642 ,  0.4663354 ,\n",
              "       -0.139244  ,  0.8210305 , -0.2808156 ,  0.09878747,  0.7912388 ,\n",
              "       -0.04278139,  0.5507268 ,  0.3335041 ,  0.08572368, -0.10593908,\n",
              "        0.02969838, -0.24862614, -0.01994285, -0.3390259 ,  0.13645364,\n",
              "        0.08252684, -0.13843511, -0.04429164, -0.6664856 , -0.05754939,\n",
              "        0.45704573, -0.04733642, -0.42546207,  0.08663099, -1.3153718 ,\n",
              "       -0.17187268, -0.00762837, -0.16346404, -0.12096465, -0.30767655,\n",
              "       -0.09250747, -0.15142772, -0.04663263,  0.11065287, -0.5284263 ,\n",
              "       -0.04623077, -0.2217599 , -0.34985793,  0.4346014 ,  0.21529293],\n",
              "      dtype=float32)"
            ]
          },
          "metadata": {},
          "execution_count": 246
        }
      ]
    },
    {
      "cell_type": "code",
      "execution_count": null,
      "metadata": {
        "colab": {
          "base_uri": "https://localhost:8080/"
        },
        "id": "9K3dOO8Z0c1v",
        "outputId": "75a942b1-b9f4-45e4-ca8b-16a91e38df92"
      },
      "outputs": [
        {
          "output_type": "execute_result",
          "data": {
            "text/plain": [
              "0.7879980919828278"
            ]
          },
          "metadata": {},
          "execution_count": 247
        }
      ],
      "source": [
        "from sklearn.linear_model import LogisticRegression\n",
        "from sklearn.metrics import f1_score\n",
        "\n",
        "mean_glove_embeds_logit = LogisticRegression(max_iter=10000)\n",
        "mean_glove_embeds_logit.fit(training_mean_glove_embeds, train_imdb['label'].values)\n",
        "mean_glove_embeds_dev_preds = mean_glove_embeds_logit.predict(dev_mean_glove_embeds)\n",
        "mean_glove_embeds_lr_dev_f1_score = f1_score(dev_imdb['label'], mean_glove_embeds_dev_preds, average = 'macro')\n",
        "mean_glove_embeds_lr_dev_f1_score"
      ]
    },
    {
      "cell_type": "markdown",
      "metadata": {
        "id": "Zo_Ki1uqvWMF"
      },
      "source": [
        "### Document Embeddings (Doc2Vec)"
      ]
    },
    {
      "cell_type": "code",
      "execution_count": null,
      "metadata": {
        "id": "r_4E_QPDZ9LN"
      },
      "outputs": [],
      "source": [
        "from gensim.models.doc2vec import (TaggedDocument,\n",
        "                                   Doc2Vec)"
      ]
    },
    {
      "cell_type": "code",
      "execution_count": null,
      "metadata": {
        "id": "8PimM42UaCqg"
      },
      "outputs": [],
      "source": [
        "train_imdb_tokens_doc2vec = [TaggedDocument(tokens, [i]) for i, tokens in enumerate(train_imdb_tokens)]\n"
      ]
    },
    {
      "cell_type": "code",
      "source": [
        "train_imdb_tokens_doc2vec[0]"
      ],
      "metadata": {
        "colab": {
          "base_uri": "https://localhost:8080/"
        },
        "id": "AK4ZPiV7eB3o",
        "outputId": "278af3d6-3148-44b2-8297-c653812f5836"
      },
      "execution_count": null,
      "outputs": [
        {
          "output_type": "execute_result",
          "data": {
            "text/plain": [
              "TaggedDocument(words=['while', 'the', 'idea', 'is', 'more', 'original', 'than', 'most', 'sci', '-', 'fi', 'movies', ',', 'the', 'execution', 'is', ',', 'as', 'usual', 'lacking', '.', 'while', 'the', 'practical', 'mummy', 'effects', 'are', 'not', 'bad', ',', 'and', 'the', '\"', 'gun', 'nut', '\"', 'character', 'is', 'over', 'the', 'top', 'giggle', 'inducing', ',', 'the', 'only', 'real', 'draw', 'is', 'to', 'see', 'morena', 'baccarin', 'and', 'adam', 'baldwin', 'reunited', 'on', 'the', 'small', 'screen', '.', 'i', 'suspect', 'that', 'was', 'the', 'idea', 'all', 'along', '.', 'they', 'do', 'the', 'best', 'they', 'can', 'with', 'what', 'they', 'have', 'but', 'the', '\"', 'must', 'see', '\"', 'moments', 'for', 'me', 'were', 'in', 'the', 'first', '40', 'minutes', 'or', 'so', 'when', 'morena', \"'s\", 'character', 'sported', 'some', 'tomb', 'raider', 'style', 'shorts', '.', 'not', 'high', 'brow', 'cinema', 'i', 'know', 'but', 'you', 'ca', \"n't\", 'deny', 'true', 'beauty', 'when', 'you', 'see', 'it', '!', '!', '!', 'and', 'adam', 'baldwin', 'once', 'again', 'hams', 'it', 'up', 'as', 'the', 'guy', 'you', 'love', 'to', 'hate', '.', 'if', 'you', 'just', 'want', 'to', 'watch', 'a', 'couple', 'of', 'your', 'favorite', 'firefly', 'characters', 'have', 'a', 'good', 'time', 'with', 'some', 'sub', 'par', 'material', 'then', 'this', 'might', 'be', 'for', 'you', '.', 'if', 'you', 'want', 'good', 'acting', 'and', 'character', 'development', 'then', 'be', 'advised', 'to', 'look', 'elsewhere', '.'], tags=[0])"
            ]
          },
          "metadata": {},
          "execution_count": 250
        }
      ]
    },
    {
      "cell_type": "code",
      "source": [
        "d2v_model = Doc2Vec(min_count=5,\n",
        "                     vector_size = 100,\n",
        "                     window=5,\n",
        "                     negative=15,\n",
        "                     workers = multiprocessing.cpu_count())"
      ],
      "metadata": {
        "id": "6z5XMHGK2ZXA"
      },
      "execution_count": null,
      "outputs": []
    },
    {
      "cell_type": "code",
      "source": [
        "d2v_model.build_vocab(train_imdb_tokens_doc2vec)"
      ],
      "metadata": {
        "id": "YHmtrXOI3LWz"
      },
      "execution_count": null,
      "outputs": []
    },
    {
      "cell_type": "code",
      "source": [
        "d2v_model.train(train_imdb_tokens_doc2vec,\n",
        "                total_examples=d2v_model.corpus_count,\n",
        "                epochs=d2v_model.epochs)"
      ],
      "metadata": {
        "id": "sr-hA3Qx3RPO"
      },
      "execution_count": null,
      "outputs": []
    },
    {
      "cell_type": "code",
      "source": [
        "d2v_model.wv.most_similar('movies')"
      ],
      "metadata": {
        "colab": {
          "base_uri": "https://localhost:8080/"
        },
        "id": "b2dabzr1CfVP",
        "outputId": "602d9f40-34d8-45c9-d01a-30dce62ef6de"
      },
      "execution_count": null,
      "outputs": [
        {
          "output_type": "execute_result",
          "data": {
            "text/plain": [
              "[('films', 0.921156644821167),\n",
              " ('flicks', 0.778674304485321),\n",
              " ('comedies', 0.7508681416511536),\n",
              " ('westerns', 0.6859201192855835),\n",
              " ('cartoons', 0.6447525024414062),\n",
              " ('masters', 0.6196814179420471),\n",
              " ('episodes', 0.6013810634613037),\n",
              " ('sequels', 0.600577712059021),\n",
              " ('examples', 0.5841297507286072),\n",
              " ('cinema', 0.5805022716522217)]"
            ]
          },
          "metadata": {},
          "execution_count": 254
        }
      ]
    },
    {
      "cell_type": "code",
      "source": [
        "training_d2v_embeds = np.array([d2v_model.infer_vector(tokens) for tokens in train_imdb_tokens])\n",
        "dev_d2v_embeds = np.array([d2v_model.infer_vector(tokens) for tokens in dev_imdb_tokens])\n",
        "test_d2v_embeds = np.array([d2v_model.infer_vector(tokens) for tokens in test_imdb_tokens])"
      ],
      "metadata": {
        "id": "Fr7FbeE33_W-"
      },
      "execution_count": null,
      "outputs": []
    },
    {
      "cell_type": "code",
      "source": [
        "training_d2v_embeds.shape, dev_d2v_embeds.shape, test_d2v_embeds.shape"
      ],
      "metadata": {
        "colab": {
          "base_uri": "https://localhost:8080/"
        },
        "id": "60Op9_TdC0aK",
        "outputId": "fc5141c5-ffab-4a2d-c454-23ed84443dfd"
      },
      "execution_count": null,
      "outputs": [
        {
          "output_type": "execute_result",
          "data": {
            "text/plain": [
              "((6000, 100), (2000, 100), (2000, 100))"
            ]
          },
          "metadata": {},
          "execution_count": 256
        }
      ]
    },
    {
      "cell_type": "code",
      "source": [
        "doc2vec_embeds_logit = LogisticRegression(max_iter=10000)\n",
        "doc2vec_embeds_logit.fit(training_d2v_embeds, train_imdb['label'].values)\n",
        "doc2vec_embeds_dev_preds = doc2vec_embeds_logit.predict(dev_d2v_embeds)\n",
        "doc2vec_embeds_lr_dev_f1_score = f1_score(dev_imdb['label'], doc2vec_embeds_dev_preds, average = 'macro')\n",
        "doc2vec_embeds_lr_dev_f1_score"
      ],
      "metadata": {
        "colab": {
          "base_uri": "https://localhost:8080/"
        },
        "id": "LXdyeNf0DLF5",
        "outputId": "a25e55af-b67b-4fc7-8033-471047ea13ff"
      },
      "execution_count": null,
      "outputs": [
        {
          "output_type": "execute_result",
          "data": {
            "text/plain": [
              "0.8168762083168222"
            ]
          },
          "metadata": {},
          "execution_count": 257
        }
      ]
    },
    {
      "cell_type": "markdown",
      "metadata": {
        "id": "2Dr6JAo36DXp"
      },
      "source": [
        "### Contextual Embeddings (BERT family)"
      ]
    },
    {
      "cell_type": "markdown",
      "metadata": {
        "id": "xg9ZcSfNA3vK"
      },
      "source": [
        "#### Off-the-shelf\n",
        "\n",
        "First we'll use an off-the-shelf sentiment classification model."
      ]
    },
    {
      "cell_type": "code",
      "execution_count": null,
      "metadata": {
        "id": "GRSb6eGRBCQM",
        "colab": {
          "base_uri": "https://localhost:8080/",
          "height": 287
        },
        "outputId": "3ea53863-6a9b-40f7-df0f-7efa40402c28"
      },
      "outputs": [
        {
          "output_type": "error",
          "ename": "NotImplementedError",
          "evalue": "A UTF-8 locale is required. Got ANSI_X3.4-1968",
          "traceback": [
            "\u001b[0;31m---------------------------------------------------------------------------\u001b[0m",
            "\u001b[0;31mNotImplementedError\u001b[0m                       Traceback (most recent call last)",
            "\u001b[0;32m<ipython-input-258-773c9a84e331>\u001b[0m in \u001b[0;36m<cell line: 1>\u001b[0;34m()\u001b[0m\n\u001b[0;32m----> 1\u001b[0;31m \u001b[0mget_ipython\u001b[0m\u001b[0;34m(\u001b[0m\u001b[0;34m)\u001b[0m\u001b[0;34m.\u001b[0m\u001b[0msystem\u001b[0m\u001b[0;34m(\u001b[0m\u001b[0;34m'pip install transformers[torch] datasets'\u001b[0m\u001b[0;34m)\u001b[0m\u001b[0;34m\u001b[0m\u001b[0;34m\u001b[0m\u001b[0m\n\u001b[0m",
            "\u001b[0;32m/usr/local/lib/python3.10/dist-packages/google/colab/_shell.py\u001b[0m in \u001b[0;36msystem\u001b[0;34m(self, *args, **kwargs)\u001b[0m\n\u001b[1;32m     97\u001b[0m       \u001b[0mkwargs\u001b[0m\u001b[0;34m.\u001b[0m\u001b[0mupdate\u001b[0m\u001b[0;34m(\u001b[0m\u001b[0;34m{\u001b[0m\u001b[0;34m'also_return_output'\u001b[0m\u001b[0;34m:\u001b[0m \u001b[0;32mTrue\u001b[0m\u001b[0;34m}\u001b[0m\u001b[0;34m)\u001b[0m\u001b[0;34m\u001b[0m\u001b[0;34m\u001b[0m\u001b[0m\n\u001b[1;32m     98\u001b[0m \u001b[0;34m\u001b[0m\u001b[0m\n\u001b[0;32m---> 99\u001b[0;31m     \u001b[0moutput\u001b[0m \u001b[0;34m=\u001b[0m \u001b[0m_system_commands\u001b[0m\u001b[0;34m.\u001b[0m\u001b[0m_system_compat\u001b[0m\u001b[0;34m(\u001b[0m\u001b[0mself\u001b[0m\u001b[0;34m,\u001b[0m \u001b[0;34m*\u001b[0m\u001b[0margs\u001b[0m\u001b[0;34m,\u001b[0m \u001b[0;34m**\u001b[0m\u001b[0mkwargs\u001b[0m\u001b[0;34m)\u001b[0m  \u001b[0;31m# pylint:disable=protected-access\u001b[0m\u001b[0;34m\u001b[0m\u001b[0;34m\u001b[0m\u001b[0m\n\u001b[0m\u001b[1;32m    100\u001b[0m \u001b[0;34m\u001b[0m\u001b[0m\n\u001b[1;32m    101\u001b[0m     \u001b[0;32mif\u001b[0m \u001b[0mpip_warn\u001b[0m\u001b[0;34m:\u001b[0m\u001b[0;34m\u001b[0m\u001b[0;34m\u001b[0m\u001b[0m\n",
            "\u001b[0;32m/usr/local/lib/python3.10/dist-packages/google/colab/_system_commands.py\u001b[0m in \u001b[0;36m_system_compat\u001b[0;34m(shell, cmd, also_return_output)\u001b[0m\n\u001b[1;32m    452\u001b[0m   \u001b[0;31m# is expected to call this function, thus adding one level of nesting to the\u001b[0m\u001b[0;34m\u001b[0m\u001b[0;34m\u001b[0m\u001b[0m\n\u001b[1;32m    453\u001b[0m   \u001b[0;31m# stack.\u001b[0m\u001b[0;34m\u001b[0m\u001b[0;34m\u001b[0m\u001b[0m\n\u001b[0;32m--> 454\u001b[0;31m   result = _run_command(\n\u001b[0m\u001b[1;32m    455\u001b[0m       \u001b[0mshell\u001b[0m\u001b[0;34m.\u001b[0m\u001b[0mvar_expand\u001b[0m\u001b[0;34m(\u001b[0m\u001b[0mcmd\u001b[0m\u001b[0;34m,\u001b[0m \u001b[0mdepth\u001b[0m\u001b[0;34m=\u001b[0m\u001b[0;36m2\u001b[0m\u001b[0;34m)\u001b[0m\u001b[0;34m,\u001b[0m \u001b[0mclear_streamed_output\u001b[0m\u001b[0;34m=\u001b[0m\u001b[0;32mFalse\u001b[0m\u001b[0;34m\u001b[0m\u001b[0;34m\u001b[0m\u001b[0m\n\u001b[1;32m    456\u001b[0m   )\n",
            "\u001b[0;32m/usr/local/lib/python3.10/dist-packages/google/colab/_system_commands.py\u001b[0m in \u001b[0;36m_run_command\u001b[0;34m(cmd, clear_streamed_output)\u001b[0m\n\u001b[1;32m    166\u001b[0m     \u001b[0mlocale_encoding\u001b[0m \u001b[0;34m=\u001b[0m \u001b[0mlocale\u001b[0m\u001b[0;34m.\u001b[0m\u001b[0mgetpreferredencoding\u001b[0m\u001b[0;34m(\u001b[0m\u001b[0;34m)\u001b[0m\u001b[0;34m\u001b[0m\u001b[0;34m\u001b[0m\u001b[0m\n\u001b[1;32m    167\u001b[0m     \u001b[0;32mif\u001b[0m \u001b[0mlocale_encoding\u001b[0m \u001b[0;34m!=\u001b[0m \u001b[0m_ENCODING\u001b[0m\u001b[0;34m:\u001b[0m\u001b[0;34m\u001b[0m\u001b[0;34m\u001b[0m\u001b[0m\n\u001b[0;32m--> 168\u001b[0;31m       raise NotImplementedError(\n\u001b[0m\u001b[1;32m    169\u001b[0m           \u001b[0;34m'A UTF-8 locale is required. Got {}'\u001b[0m\u001b[0;34m.\u001b[0m\u001b[0mformat\u001b[0m\u001b[0;34m(\u001b[0m\u001b[0mlocale_encoding\u001b[0m\u001b[0;34m)\u001b[0m\u001b[0;34m\u001b[0m\u001b[0;34m\u001b[0m\u001b[0m\n\u001b[1;32m    170\u001b[0m       )\n",
            "\u001b[0;31mNotImplementedError\u001b[0m: A UTF-8 locale is required. Got ANSI_X3.4-1968"
          ]
        }
      ],
      "source": [
        "!pip install transformers[torch] datasets"
      ]
    },
    {
      "cell_type": "code",
      "source": [
        "import transformers, torch, datasets"
      ],
      "metadata": {
        "id": "5pHDzkYNQpUK"
      },
      "execution_count": null,
      "outputs": []
    },
    {
      "cell_type": "code",
      "source": [
        "from transformers import pipeline\n",
        "\n",
        "ots_sentiment_pipeline = pipeline(\"sentiment-analysis\", padding = True, truncation = True, device = \"cuda:0\")\n"
      ],
      "metadata": {
        "id": "A1ztCt1XL7rW"
      },
      "execution_count": null,
      "outputs": []
    },
    {
      "cell_type": "code",
      "source": [
        "ots_sentiment_pipeline('I love this movie')"
      ],
      "metadata": {
        "id": "_YXIOjgdMvOu"
      },
      "execution_count": null,
      "outputs": []
    },
    {
      "cell_type": "code",
      "source": [
        "ots_sentiment_pipeline(train_imdb['text'][0])"
      ],
      "metadata": {
        "id": "17eotHCuM0RZ"
      },
      "execution_count": null,
      "outputs": []
    },
    {
      "cell_type": "code",
      "source": [
        "ots_raw_predictions_dev = ots_sentiment_pipeline(dev_imdb['text'].tolist())"
      ],
      "metadata": {
        "id": "QXn69dVHNjPb"
      },
      "execution_count": null,
      "outputs": []
    },
    {
      "cell_type": "code",
      "source": [
        "ots_raw_predictions_dev[:4], dev_imdb['label'].iloc[:4]"
      ],
      "metadata": {
        "id": "9bgD96JgRnal"
      },
      "execution_count": null,
      "outputs": []
    },
    {
      "cell_type": "code",
      "source": [
        "# let's make the predicted labels like our own labels\n",
        "ots_predictions_dev = [pred['label'].lower()[:3] for pred in ots_raw_predictions_dev]"
      ],
      "metadata": {
        "id": "kw0jf62BRqbn"
      },
      "execution_count": null,
      "outputs": []
    },
    {
      "cell_type": "code",
      "source": [
        "ots_predictions_dev[:4]"
      ],
      "metadata": {
        "id": "1G9O0fUmSG0e"
      },
      "execution_count": null,
      "outputs": []
    },
    {
      "cell_type": "code",
      "source": [
        "dev_imdb['label']"
      ],
      "metadata": {
        "id": "eVYsudlDRsx7"
      },
      "execution_count": null,
      "outputs": []
    },
    {
      "cell_type": "code",
      "source": [
        "ots_sentiment_f1 = f1_score(dev_imdb['label'], ots_predictions_dev, average = 'macro')\n",
        "ots_sentiment_f1"
      ],
      "metadata": {
        "id": "QOpsoT_GNwtI"
      },
      "execution_count": null,
      "outputs": []
    },
    {
      "cell_type": "markdown",
      "source": [
        "## Fine-tuning"
      ],
      "metadata": {
        "id": "K1yWf79TN3Om"
      }
    },
    {
      "cell_type": "code",
      "source": [
        "from datasets import Dataset, DatasetDict"
      ],
      "metadata": {
        "id": "spRDun0sSd3n"
      },
      "execution_count": null,
      "outputs": []
    },
    {
      "cell_type": "code",
      "source": [
        "id2label = {0: \"neg\", 1: \"pos\"}\n",
        "label2id = {\"neg\": 0, \"pos\": 1}"
      ],
      "metadata": {
        "id": "plCrcNxSbnQN"
      },
      "execution_count": null,
      "outputs": []
    },
    {
      "cell_type": "code",
      "source": [
        "data_dict = DatasetDict({'train' : Dataset.from_dict({'text' : train_imdb['text'].values,\n",
        "                                                      'label' : train_imdb['label'].map(label2id).values}),\n",
        "\n",
        "                        'dev' : Dataset.from_dict({'text' : dev_imdb['text'].values,\n",
        "                                                   'label' : dev_imdb['label'].map(label2id).values}),\n",
        "\n",
        "                        'test' : Dataset.from_dict({'text' : test_imdb['text'].values,\n",
        "                                                   'label' : test_imdb['label'].map(label2id).values}),\n",
        "})\n",
        "data_dict"
      ],
      "metadata": {
        "id": "mp1mjeAYSr8d"
      },
      "execution_count": null,
      "outputs": []
    },
    {
      "cell_type": "code",
      "source": [
        "data_dict['train'][0]"
      ],
      "metadata": {
        "id": "hzpHiTM5bvZ-"
      },
      "execution_count": null,
      "outputs": []
    },
    {
      "cell_type": "code",
      "source": [
        "# load the tokenizer, model\n",
        "\n",
        "from transformers import AutoTokenizer, AutoModelForSequenceClassification\n",
        "checkpoint = \"distilbert/distilbert-base-uncased\"\n",
        "tokenizer = AutoTokenizer.from_pretrained(checkpoint)\n",
        "model = AutoModelForSequenceClassification.from_pretrained(checkpoint)"
      ],
      "metadata": {
        "id": "ko-AOlZCT7Zz"
      },
      "execution_count": null,
      "outputs": []
    },
    {
      "cell_type": "code",
      "source": [
        "# tokenize the sequences, batching\n",
        "\n",
        "tokenized_example = tokenizer(data_dict['train']['text'][123], padding = True, truncation = True)\n",
        "tokenized_example"
      ],
      "metadata": {
        "id": "GR9IhPAOT9l5"
      },
      "execution_count": null,
      "outputs": []
    },
    {
      "cell_type": "code",
      "source": [
        "tokenizer.convert_ids_to_tokens(tokenized_example['input_ids'])"
      ],
      "metadata": {
        "id": "HiEYmRR4VzJn"
      },
      "execution_count": null,
      "outputs": []
    },
    {
      "cell_type": "code",
      "source": [
        "def tokenize_function(example):\n",
        "  return tokenizer(example['text'], truncation=True)"
      ],
      "metadata": {
        "id": "94UUz4f2WB26"
      },
      "execution_count": null,
      "outputs": []
    },
    {
      "cell_type": "code",
      "source": [
        "tokenized_datasets = data_dict.map(tokenize_function, batched=True)"
      ],
      "metadata": {
        "id": "NDz_k5gYWP9i"
      },
      "execution_count": null,
      "outputs": []
    },
    {
      "cell_type": "code",
      "source": [
        "from transformers import DataCollatorWithPadding\n",
        "\n",
        "data_collator = DataCollatorWithPadding(tokenizer=tokenizer)"
      ],
      "metadata": {
        "id": "vgRJkPbIZsXp"
      },
      "execution_count": null,
      "outputs": []
    },
    {
      "cell_type": "code",
      "source": [
        "from transformers import AutoModelForSequenceClassification, TrainingArguments, Trainer\n",
        "\n",
        "model = AutoModelForSequenceClassification.from_pretrained(\n",
        "    \"distilbert/distilbert-base-uncased\", num_labels=2, id2label=id2label, label2id=label2id\n",
        ")"
      ],
      "metadata": {
        "id": "g8BCffY3WWp6"
      },
      "execution_count": null,
      "outputs": []
    },
    {
      "cell_type": "code",
      "source": [
        "training_args = TrainingArguments(\n",
        "    output_dir=\"fine-tuned sentiment model\",\n",
        "    learning_rate=2e-5,\n",
        "    per_device_train_batch_size=16,\n",
        "    per_device_eval_batch_size=16,\n",
        "    num_train_epochs=3,\n",
        "    weight_decay=0.01,\n",
        "    eval_strategy=\"epoch\",\n",
        "    save_strategy=\"epoch\",\n",
        "    load_best_model_at_end=True,\n",
        "    push_to_hub=False,\n",
        ")\n",
        "\n",
        "trainer = Trainer(\n",
        "    model=model,\n",
        "    args=training_args,\n",
        "    train_dataset=tokenized_datasets[\"train\"],\n",
        "    eval_dataset=tokenized_datasets[\"dev\"],\n",
        "    tokenizer=tokenizer,\n",
        "    data_collator = data_collator\n",
        ")\n",
        "\n",
        "trainer.train()"
      ],
      "metadata": {
        "id": "JwyECMWNXPiK"
      },
      "execution_count": null,
      "outputs": []
    },
    {
      "cell_type": "code",
      "source": [
        "ft_dev_raw_predictions = trainer.predict(tokenized_datasets['dev'])\n",
        "ft_dev_predictions = pd.Series(ft_dev_raw_predictions.predictions.argmax(axis = 1)).map(id2label)"
      ],
      "metadata": {
        "id": "csnTDe1-YElW"
      },
      "execution_count": null,
      "outputs": []
    },
    {
      "cell_type": "code",
      "source": [
        "ft_sentiment_f1 = f1_score(dev_imdb['label'], ft_dev_predictions, average = 'macro')\n",
        "ft_sentiment_f1"
      ],
      "metadata": {
        "id": "kG5XMKbTflJF"
      },
      "execution_count": null,
      "outputs": []
    }
  ],
  "metadata": {
    "accelerator": "GPU",
    "colab": {
      "gpuType": "L4",
      "machine_shape": "hm",
      "provenance": [],
      "authorship_tag": "ABX9TyPcpbhw/QyuJRmB7Z3Lv/Em",
      "include_colab_link": true
    },
    "kernelspec": {
      "display_name": "Python 3",
      "name": "python3"
    },
    "language_info": {
      "name": "python"
    }
  },
  "nbformat": 4,
  "nbformat_minor": 0
}